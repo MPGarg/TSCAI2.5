{
  "nbformat": 4,
  "nbformat_minor": 0,
  "metadata": {
    "colab": {
      "provenance": [],
      "authorship_tag": "ABX9TyPnJsTIv7ntJJw8rQbLjUwt",
      "include_colab_link": true
    },
    "kernelspec": {
      "name": "python3",
      "display_name": "Python 3"
    },
    "language_info": {
      "name": "python"
    },
    "accelerator": "GPU",
    "gpuClass": "standard",
    "widgets": {
      "application/vnd.jupyter.widget-state+json": {
        "d52708629c1447f6bc5266f199a8f26f": {
          "model_module": "@jupyter-widgets/controls",
          "model_name": "HBoxModel",
          "model_module_version": "1.5.0",
          "state": {
            "_dom_classes": [],
            "_model_module": "@jupyter-widgets/controls",
            "_model_module_version": "1.5.0",
            "_model_name": "HBoxModel",
            "_view_count": null,
            "_view_module": "@jupyter-widgets/controls",
            "_view_module_version": "1.5.0",
            "_view_name": "HBoxView",
            "box_style": "",
            "children": [
              "IPY_MODEL_2bf69a2ce7754792b0fc3bf882835bcd",
              "IPY_MODEL_f6e937c5bab943209d38297a13cde830",
              "IPY_MODEL_0bdb27507b004e939895d7ea1740eb81"
            ],
            "layout": "IPY_MODEL_c3319131596140008ec97e2f22c020d1"
          }
        },
        "2bf69a2ce7754792b0fc3bf882835bcd": {
          "model_module": "@jupyter-widgets/controls",
          "model_name": "HTMLModel",
          "model_module_version": "1.5.0",
          "state": {
            "_dom_classes": [],
            "_model_module": "@jupyter-widgets/controls",
            "_model_module_version": "1.5.0",
            "_model_name": "HTMLModel",
            "_view_count": null,
            "_view_module": "@jupyter-widgets/controls",
            "_view_module_version": "1.5.0",
            "_view_name": "HTMLView",
            "description": "",
            "description_tooltip": null,
            "layout": "IPY_MODEL_0c0faabfc0cd4106b9ffc58daee563a0",
            "placeholder": "​",
            "style": "IPY_MODEL_180470abfcca40a097edfb3e1d7deb95",
            "value": "100%"
          }
        },
        "f6e937c5bab943209d38297a13cde830": {
          "model_module": "@jupyter-widgets/controls",
          "model_name": "FloatProgressModel",
          "model_module_version": "1.5.0",
          "state": {
            "_dom_classes": [],
            "_model_module": "@jupyter-widgets/controls",
            "_model_module_version": "1.5.0",
            "_model_name": "FloatProgressModel",
            "_view_count": null,
            "_view_module": "@jupyter-widgets/controls",
            "_view_module_version": "1.5.0",
            "_view_name": "ProgressView",
            "bar_style": "success",
            "description": "",
            "description_tooltip": null,
            "layout": "IPY_MODEL_d538212885cc4024b7e74b814bef8472",
            "max": 9912422,
            "min": 0,
            "orientation": "horizontal",
            "style": "IPY_MODEL_ec84e144ea284bac9d09d133010f878e",
            "value": 9912422
          }
        },
        "0bdb27507b004e939895d7ea1740eb81": {
          "model_module": "@jupyter-widgets/controls",
          "model_name": "HTMLModel",
          "model_module_version": "1.5.0",
          "state": {
            "_dom_classes": [],
            "_model_module": "@jupyter-widgets/controls",
            "_model_module_version": "1.5.0",
            "_model_name": "HTMLModel",
            "_view_count": null,
            "_view_module": "@jupyter-widgets/controls",
            "_view_module_version": "1.5.0",
            "_view_name": "HTMLView",
            "description": "",
            "description_tooltip": null,
            "layout": "IPY_MODEL_12910ccae6b3426cb4168ff22482fb42",
            "placeholder": "​",
            "style": "IPY_MODEL_bbddb60b656449feb5be5bbe65770023",
            "value": " 9912422/9912422 [00:00&lt;00:00, 18380741.28it/s]"
          }
        },
        "c3319131596140008ec97e2f22c020d1": {
          "model_module": "@jupyter-widgets/base",
          "model_name": "LayoutModel",
          "model_module_version": "1.2.0",
          "state": {
            "_model_module": "@jupyter-widgets/base",
            "_model_module_version": "1.2.0",
            "_model_name": "LayoutModel",
            "_view_count": null,
            "_view_module": "@jupyter-widgets/base",
            "_view_module_version": "1.2.0",
            "_view_name": "LayoutView",
            "align_content": null,
            "align_items": null,
            "align_self": null,
            "border": null,
            "bottom": null,
            "display": null,
            "flex": null,
            "flex_flow": null,
            "grid_area": null,
            "grid_auto_columns": null,
            "grid_auto_flow": null,
            "grid_auto_rows": null,
            "grid_column": null,
            "grid_gap": null,
            "grid_row": null,
            "grid_template_areas": null,
            "grid_template_columns": null,
            "grid_template_rows": null,
            "height": null,
            "justify_content": null,
            "justify_items": null,
            "left": null,
            "margin": null,
            "max_height": null,
            "max_width": null,
            "min_height": null,
            "min_width": null,
            "object_fit": null,
            "object_position": null,
            "order": null,
            "overflow": null,
            "overflow_x": null,
            "overflow_y": null,
            "padding": null,
            "right": null,
            "top": null,
            "visibility": null,
            "width": null
          }
        },
        "0c0faabfc0cd4106b9ffc58daee563a0": {
          "model_module": "@jupyter-widgets/base",
          "model_name": "LayoutModel",
          "model_module_version": "1.2.0",
          "state": {
            "_model_module": "@jupyter-widgets/base",
            "_model_module_version": "1.2.0",
            "_model_name": "LayoutModel",
            "_view_count": null,
            "_view_module": "@jupyter-widgets/base",
            "_view_module_version": "1.2.0",
            "_view_name": "LayoutView",
            "align_content": null,
            "align_items": null,
            "align_self": null,
            "border": null,
            "bottom": null,
            "display": null,
            "flex": null,
            "flex_flow": null,
            "grid_area": null,
            "grid_auto_columns": null,
            "grid_auto_flow": null,
            "grid_auto_rows": null,
            "grid_column": null,
            "grid_gap": null,
            "grid_row": null,
            "grid_template_areas": null,
            "grid_template_columns": null,
            "grid_template_rows": null,
            "height": null,
            "justify_content": null,
            "justify_items": null,
            "left": null,
            "margin": null,
            "max_height": null,
            "max_width": null,
            "min_height": null,
            "min_width": null,
            "object_fit": null,
            "object_position": null,
            "order": null,
            "overflow": null,
            "overflow_x": null,
            "overflow_y": null,
            "padding": null,
            "right": null,
            "top": null,
            "visibility": null,
            "width": null
          }
        },
        "180470abfcca40a097edfb3e1d7deb95": {
          "model_module": "@jupyter-widgets/controls",
          "model_name": "DescriptionStyleModel",
          "model_module_version": "1.5.0",
          "state": {
            "_model_module": "@jupyter-widgets/controls",
            "_model_module_version": "1.5.0",
            "_model_name": "DescriptionStyleModel",
            "_view_count": null,
            "_view_module": "@jupyter-widgets/base",
            "_view_module_version": "1.2.0",
            "_view_name": "StyleView",
            "description_width": ""
          }
        },
        "d538212885cc4024b7e74b814bef8472": {
          "model_module": "@jupyter-widgets/base",
          "model_name": "LayoutModel",
          "model_module_version": "1.2.0",
          "state": {
            "_model_module": "@jupyter-widgets/base",
            "_model_module_version": "1.2.0",
            "_model_name": "LayoutModel",
            "_view_count": null,
            "_view_module": "@jupyter-widgets/base",
            "_view_module_version": "1.2.0",
            "_view_name": "LayoutView",
            "align_content": null,
            "align_items": null,
            "align_self": null,
            "border": null,
            "bottom": null,
            "display": null,
            "flex": null,
            "flex_flow": null,
            "grid_area": null,
            "grid_auto_columns": null,
            "grid_auto_flow": null,
            "grid_auto_rows": null,
            "grid_column": null,
            "grid_gap": null,
            "grid_row": null,
            "grid_template_areas": null,
            "grid_template_columns": null,
            "grid_template_rows": null,
            "height": null,
            "justify_content": null,
            "justify_items": null,
            "left": null,
            "margin": null,
            "max_height": null,
            "max_width": null,
            "min_height": null,
            "min_width": null,
            "object_fit": null,
            "object_position": null,
            "order": null,
            "overflow": null,
            "overflow_x": null,
            "overflow_y": null,
            "padding": null,
            "right": null,
            "top": null,
            "visibility": null,
            "width": null
          }
        },
        "ec84e144ea284bac9d09d133010f878e": {
          "model_module": "@jupyter-widgets/controls",
          "model_name": "ProgressStyleModel",
          "model_module_version": "1.5.0",
          "state": {
            "_model_module": "@jupyter-widgets/controls",
            "_model_module_version": "1.5.0",
            "_model_name": "ProgressStyleModel",
            "_view_count": null,
            "_view_module": "@jupyter-widgets/base",
            "_view_module_version": "1.2.0",
            "_view_name": "StyleView",
            "bar_color": null,
            "description_width": ""
          }
        },
        "12910ccae6b3426cb4168ff22482fb42": {
          "model_module": "@jupyter-widgets/base",
          "model_name": "LayoutModel",
          "model_module_version": "1.2.0",
          "state": {
            "_model_module": "@jupyter-widgets/base",
            "_model_module_version": "1.2.0",
            "_model_name": "LayoutModel",
            "_view_count": null,
            "_view_module": "@jupyter-widgets/base",
            "_view_module_version": "1.2.0",
            "_view_name": "LayoutView",
            "align_content": null,
            "align_items": null,
            "align_self": null,
            "border": null,
            "bottom": null,
            "display": null,
            "flex": null,
            "flex_flow": null,
            "grid_area": null,
            "grid_auto_columns": null,
            "grid_auto_flow": null,
            "grid_auto_rows": null,
            "grid_column": null,
            "grid_gap": null,
            "grid_row": null,
            "grid_template_areas": null,
            "grid_template_columns": null,
            "grid_template_rows": null,
            "height": null,
            "justify_content": null,
            "justify_items": null,
            "left": null,
            "margin": null,
            "max_height": null,
            "max_width": null,
            "min_height": null,
            "min_width": null,
            "object_fit": null,
            "object_position": null,
            "order": null,
            "overflow": null,
            "overflow_x": null,
            "overflow_y": null,
            "padding": null,
            "right": null,
            "top": null,
            "visibility": null,
            "width": null
          }
        },
        "bbddb60b656449feb5be5bbe65770023": {
          "model_module": "@jupyter-widgets/controls",
          "model_name": "DescriptionStyleModel",
          "model_module_version": "1.5.0",
          "state": {
            "_model_module": "@jupyter-widgets/controls",
            "_model_module_version": "1.5.0",
            "_model_name": "DescriptionStyleModel",
            "_view_count": null,
            "_view_module": "@jupyter-widgets/base",
            "_view_module_version": "1.2.0",
            "_view_name": "StyleView",
            "description_width": ""
          }
        },
        "27cd36dbd312485ab83095d3be8295cf": {
          "model_module": "@jupyter-widgets/controls",
          "model_name": "HBoxModel",
          "model_module_version": "1.5.0",
          "state": {
            "_dom_classes": [],
            "_model_module": "@jupyter-widgets/controls",
            "_model_module_version": "1.5.0",
            "_model_name": "HBoxModel",
            "_view_count": null,
            "_view_module": "@jupyter-widgets/controls",
            "_view_module_version": "1.5.0",
            "_view_name": "HBoxView",
            "box_style": "",
            "children": [
              "IPY_MODEL_ce30d7d11b4a43f08bda5ea20ad1b321",
              "IPY_MODEL_c9e03208d6844131b4a92939b6ea76b8",
              "IPY_MODEL_9d41dcfb45524f59a20b5434f8c5c827"
            ],
            "layout": "IPY_MODEL_0ef023f0c6e4426c9c6746622dd3dc7b"
          }
        },
        "ce30d7d11b4a43f08bda5ea20ad1b321": {
          "model_module": "@jupyter-widgets/controls",
          "model_name": "HTMLModel",
          "model_module_version": "1.5.0",
          "state": {
            "_dom_classes": [],
            "_model_module": "@jupyter-widgets/controls",
            "_model_module_version": "1.5.0",
            "_model_name": "HTMLModel",
            "_view_count": null,
            "_view_module": "@jupyter-widgets/controls",
            "_view_module_version": "1.5.0",
            "_view_name": "HTMLView",
            "description": "",
            "description_tooltip": null,
            "layout": "IPY_MODEL_2e888c51bf3e47e5bb97b59629ad490a",
            "placeholder": "​",
            "style": "IPY_MODEL_78e09248a6d24012943a7adb87b2816a",
            "value": "100%"
          }
        },
        "c9e03208d6844131b4a92939b6ea76b8": {
          "model_module": "@jupyter-widgets/controls",
          "model_name": "FloatProgressModel",
          "model_module_version": "1.5.0",
          "state": {
            "_dom_classes": [],
            "_model_module": "@jupyter-widgets/controls",
            "_model_module_version": "1.5.0",
            "_model_name": "FloatProgressModel",
            "_view_count": null,
            "_view_module": "@jupyter-widgets/controls",
            "_view_module_version": "1.5.0",
            "_view_name": "ProgressView",
            "bar_style": "success",
            "description": "",
            "description_tooltip": null,
            "layout": "IPY_MODEL_275cdf56aa944b5b85740cd7e7013587",
            "max": 28881,
            "min": 0,
            "orientation": "horizontal",
            "style": "IPY_MODEL_1537378c9fbe45a59f5b311022dd652f",
            "value": 28881
          }
        },
        "9d41dcfb45524f59a20b5434f8c5c827": {
          "model_module": "@jupyter-widgets/controls",
          "model_name": "HTMLModel",
          "model_module_version": "1.5.0",
          "state": {
            "_dom_classes": [],
            "_model_module": "@jupyter-widgets/controls",
            "_model_module_version": "1.5.0",
            "_model_name": "HTMLModel",
            "_view_count": null,
            "_view_module": "@jupyter-widgets/controls",
            "_view_module_version": "1.5.0",
            "_view_name": "HTMLView",
            "description": "",
            "description_tooltip": null,
            "layout": "IPY_MODEL_3af92fc5e1a24ad0a9de6fce36966d91",
            "placeholder": "​",
            "style": "IPY_MODEL_498eeb489bef453a8b87130b7fb4c6ed",
            "value": " 28881/28881 [00:00&lt;00:00, 633306.46it/s]"
          }
        },
        "0ef023f0c6e4426c9c6746622dd3dc7b": {
          "model_module": "@jupyter-widgets/base",
          "model_name": "LayoutModel",
          "model_module_version": "1.2.0",
          "state": {
            "_model_module": "@jupyter-widgets/base",
            "_model_module_version": "1.2.0",
            "_model_name": "LayoutModel",
            "_view_count": null,
            "_view_module": "@jupyter-widgets/base",
            "_view_module_version": "1.2.0",
            "_view_name": "LayoutView",
            "align_content": null,
            "align_items": null,
            "align_self": null,
            "border": null,
            "bottom": null,
            "display": null,
            "flex": null,
            "flex_flow": null,
            "grid_area": null,
            "grid_auto_columns": null,
            "grid_auto_flow": null,
            "grid_auto_rows": null,
            "grid_column": null,
            "grid_gap": null,
            "grid_row": null,
            "grid_template_areas": null,
            "grid_template_columns": null,
            "grid_template_rows": null,
            "height": null,
            "justify_content": null,
            "justify_items": null,
            "left": null,
            "margin": null,
            "max_height": null,
            "max_width": null,
            "min_height": null,
            "min_width": null,
            "object_fit": null,
            "object_position": null,
            "order": null,
            "overflow": null,
            "overflow_x": null,
            "overflow_y": null,
            "padding": null,
            "right": null,
            "top": null,
            "visibility": null,
            "width": null
          }
        },
        "2e888c51bf3e47e5bb97b59629ad490a": {
          "model_module": "@jupyter-widgets/base",
          "model_name": "LayoutModel",
          "model_module_version": "1.2.0",
          "state": {
            "_model_module": "@jupyter-widgets/base",
            "_model_module_version": "1.2.0",
            "_model_name": "LayoutModel",
            "_view_count": null,
            "_view_module": "@jupyter-widgets/base",
            "_view_module_version": "1.2.0",
            "_view_name": "LayoutView",
            "align_content": null,
            "align_items": null,
            "align_self": null,
            "border": null,
            "bottom": null,
            "display": null,
            "flex": null,
            "flex_flow": null,
            "grid_area": null,
            "grid_auto_columns": null,
            "grid_auto_flow": null,
            "grid_auto_rows": null,
            "grid_column": null,
            "grid_gap": null,
            "grid_row": null,
            "grid_template_areas": null,
            "grid_template_columns": null,
            "grid_template_rows": null,
            "height": null,
            "justify_content": null,
            "justify_items": null,
            "left": null,
            "margin": null,
            "max_height": null,
            "max_width": null,
            "min_height": null,
            "min_width": null,
            "object_fit": null,
            "object_position": null,
            "order": null,
            "overflow": null,
            "overflow_x": null,
            "overflow_y": null,
            "padding": null,
            "right": null,
            "top": null,
            "visibility": null,
            "width": null
          }
        },
        "78e09248a6d24012943a7adb87b2816a": {
          "model_module": "@jupyter-widgets/controls",
          "model_name": "DescriptionStyleModel",
          "model_module_version": "1.5.0",
          "state": {
            "_model_module": "@jupyter-widgets/controls",
            "_model_module_version": "1.5.0",
            "_model_name": "DescriptionStyleModel",
            "_view_count": null,
            "_view_module": "@jupyter-widgets/base",
            "_view_module_version": "1.2.0",
            "_view_name": "StyleView",
            "description_width": ""
          }
        },
        "275cdf56aa944b5b85740cd7e7013587": {
          "model_module": "@jupyter-widgets/base",
          "model_name": "LayoutModel",
          "model_module_version": "1.2.0",
          "state": {
            "_model_module": "@jupyter-widgets/base",
            "_model_module_version": "1.2.0",
            "_model_name": "LayoutModel",
            "_view_count": null,
            "_view_module": "@jupyter-widgets/base",
            "_view_module_version": "1.2.0",
            "_view_name": "LayoutView",
            "align_content": null,
            "align_items": null,
            "align_self": null,
            "border": null,
            "bottom": null,
            "display": null,
            "flex": null,
            "flex_flow": null,
            "grid_area": null,
            "grid_auto_columns": null,
            "grid_auto_flow": null,
            "grid_auto_rows": null,
            "grid_column": null,
            "grid_gap": null,
            "grid_row": null,
            "grid_template_areas": null,
            "grid_template_columns": null,
            "grid_template_rows": null,
            "height": null,
            "justify_content": null,
            "justify_items": null,
            "left": null,
            "margin": null,
            "max_height": null,
            "max_width": null,
            "min_height": null,
            "min_width": null,
            "object_fit": null,
            "object_position": null,
            "order": null,
            "overflow": null,
            "overflow_x": null,
            "overflow_y": null,
            "padding": null,
            "right": null,
            "top": null,
            "visibility": null,
            "width": null
          }
        },
        "1537378c9fbe45a59f5b311022dd652f": {
          "model_module": "@jupyter-widgets/controls",
          "model_name": "ProgressStyleModel",
          "model_module_version": "1.5.0",
          "state": {
            "_model_module": "@jupyter-widgets/controls",
            "_model_module_version": "1.5.0",
            "_model_name": "ProgressStyleModel",
            "_view_count": null,
            "_view_module": "@jupyter-widgets/base",
            "_view_module_version": "1.2.0",
            "_view_name": "StyleView",
            "bar_color": null,
            "description_width": ""
          }
        },
        "3af92fc5e1a24ad0a9de6fce36966d91": {
          "model_module": "@jupyter-widgets/base",
          "model_name": "LayoutModel",
          "model_module_version": "1.2.0",
          "state": {
            "_model_module": "@jupyter-widgets/base",
            "_model_module_version": "1.2.0",
            "_model_name": "LayoutModel",
            "_view_count": null,
            "_view_module": "@jupyter-widgets/base",
            "_view_module_version": "1.2.0",
            "_view_name": "LayoutView",
            "align_content": null,
            "align_items": null,
            "align_self": null,
            "border": null,
            "bottom": null,
            "display": null,
            "flex": null,
            "flex_flow": null,
            "grid_area": null,
            "grid_auto_columns": null,
            "grid_auto_flow": null,
            "grid_auto_rows": null,
            "grid_column": null,
            "grid_gap": null,
            "grid_row": null,
            "grid_template_areas": null,
            "grid_template_columns": null,
            "grid_template_rows": null,
            "height": null,
            "justify_content": null,
            "justify_items": null,
            "left": null,
            "margin": null,
            "max_height": null,
            "max_width": null,
            "min_height": null,
            "min_width": null,
            "object_fit": null,
            "object_position": null,
            "order": null,
            "overflow": null,
            "overflow_x": null,
            "overflow_y": null,
            "padding": null,
            "right": null,
            "top": null,
            "visibility": null,
            "width": null
          }
        },
        "498eeb489bef453a8b87130b7fb4c6ed": {
          "model_module": "@jupyter-widgets/controls",
          "model_name": "DescriptionStyleModel",
          "model_module_version": "1.5.0",
          "state": {
            "_model_module": "@jupyter-widgets/controls",
            "_model_module_version": "1.5.0",
            "_model_name": "DescriptionStyleModel",
            "_view_count": null,
            "_view_module": "@jupyter-widgets/base",
            "_view_module_version": "1.2.0",
            "_view_name": "StyleView",
            "description_width": ""
          }
        },
        "093633db7ec8477fb9a879ae6a936c6e": {
          "model_module": "@jupyter-widgets/controls",
          "model_name": "HBoxModel",
          "model_module_version": "1.5.0",
          "state": {
            "_dom_classes": [],
            "_model_module": "@jupyter-widgets/controls",
            "_model_module_version": "1.5.0",
            "_model_name": "HBoxModel",
            "_view_count": null,
            "_view_module": "@jupyter-widgets/controls",
            "_view_module_version": "1.5.0",
            "_view_name": "HBoxView",
            "box_style": "",
            "children": [
              "IPY_MODEL_227db04601cd434e997382e96f4733e3",
              "IPY_MODEL_be4f703c6a7644cf80ba24a7959d92bc",
              "IPY_MODEL_747a6cca7e2c4525934b7e5052735269"
            ],
            "layout": "IPY_MODEL_7a1f54ede9944e24b3ab9126a61f42e9"
          }
        },
        "227db04601cd434e997382e96f4733e3": {
          "model_module": "@jupyter-widgets/controls",
          "model_name": "HTMLModel",
          "model_module_version": "1.5.0",
          "state": {
            "_dom_classes": [],
            "_model_module": "@jupyter-widgets/controls",
            "_model_module_version": "1.5.0",
            "_model_name": "HTMLModel",
            "_view_count": null,
            "_view_module": "@jupyter-widgets/controls",
            "_view_module_version": "1.5.0",
            "_view_name": "HTMLView",
            "description": "",
            "description_tooltip": null,
            "layout": "IPY_MODEL_dacc17869fee44b7b978ca98cdfab921",
            "placeholder": "​",
            "style": "IPY_MODEL_34161175af754731b39e836d3c1f8c3c",
            "value": "100%"
          }
        },
        "be4f703c6a7644cf80ba24a7959d92bc": {
          "model_module": "@jupyter-widgets/controls",
          "model_name": "FloatProgressModel",
          "model_module_version": "1.5.0",
          "state": {
            "_dom_classes": [],
            "_model_module": "@jupyter-widgets/controls",
            "_model_module_version": "1.5.0",
            "_model_name": "FloatProgressModel",
            "_view_count": null,
            "_view_module": "@jupyter-widgets/controls",
            "_view_module_version": "1.5.0",
            "_view_name": "ProgressView",
            "bar_style": "success",
            "description": "",
            "description_tooltip": null,
            "layout": "IPY_MODEL_9396517021e04de58f448bfd2d2dbdc4",
            "max": 1648877,
            "min": 0,
            "orientation": "horizontal",
            "style": "IPY_MODEL_802f585620db438ba089cd35e53965df",
            "value": 1648877
          }
        },
        "747a6cca7e2c4525934b7e5052735269": {
          "model_module": "@jupyter-widgets/controls",
          "model_name": "HTMLModel",
          "model_module_version": "1.5.0",
          "state": {
            "_dom_classes": [],
            "_model_module": "@jupyter-widgets/controls",
            "_model_module_version": "1.5.0",
            "_model_name": "HTMLModel",
            "_view_count": null,
            "_view_module": "@jupyter-widgets/controls",
            "_view_module_version": "1.5.0",
            "_view_name": "HTMLView",
            "description": "",
            "description_tooltip": null,
            "layout": "IPY_MODEL_9ac7ab94f9ed4b8c8c7ba80d09b0eb5f",
            "placeholder": "​",
            "style": "IPY_MODEL_c065de5c5eac4ad4a75edb9b31ffde30",
            "value": " 1648877/1648877 [00:00&lt;00:00, 16870784.73it/s]"
          }
        },
        "7a1f54ede9944e24b3ab9126a61f42e9": {
          "model_module": "@jupyter-widgets/base",
          "model_name": "LayoutModel",
          "model_module_version": "1.2.0",
          "state": {
            "_model_module": "@jupyter-widgets/base",
            "_model_module_version": "1.2.0",
            "_model_name": "LayoutModel",
            "_view_count": null,
            "_view_module": "@jupyter-widgets/base",
            "_view_module_version": "1.2.0",
            "_view_name": "LayoutView",
            "align_content": null,
            "align_items": null,
            "align_self": null,
            "border": null,
            "bottom": null,
            "display": null,
            "flex": null,
            "flex_flow": null,
            "grid_area": null,
            "grid_auto_columns": null,
            "grid_auto_flow": null,
            "grid_auto_rows": null,
            "grid_column": null,
            "grid_gap": null,
            "grid_row": null,
            "grid_template_areas": null,
            "grid_template_columns": null,
            "grid_template_rows": null,
            "height": null,
            "justify_content": null,
            "justify_items": null,
            "left": null,
            "margin": null,
            "max_height": null,
            "max_width": null,
            "min_height": null,
            "min_width": null,
            "object_fit": null,
            "object_position": null,
            "order": null,
            "overflow": null,
            "overflow_x": null,
            "overflow_y": null,
            "padding": null,
            "right": null,
            "top": null,
            "visibility": null,
            "width": null
          }
        },
        "dacc17869fee44b7b978ca98cdfab921": {
          "model_module": "@jupyter-widgets/base",
          "model_name": "LayoutModel",
          "model_module_version": "1.2.0",
          "state": {
            "_model_module": "@jupyter-widgets/base",
            "_model_module_version": "1.2.0",
            "_model_name": "LayoutModel",
            "_view_count": null,
            "_view_module": "@jupyter-widgets/base",
            "_view_module_version": "1.2.0",
            "_view_name": "LayoutView",
            "align_content": null,
            "align_items": null,
            "align_self": null,
            "border": null,
            "bottom": null,
            "display": null,
            "flex": null,
            "flex_flow": null,
            "grid_area": null,
            "grid_auto_columns": null,
            "grid_auto_flow": null,
            "grid_auto_rows": null,
            "grid_column": null,
            "grid_gap": null,
            "grid_row": null,
            "grid_template_areas": null,
            "grid_template_columns": null,
            "grid_template_rows": null,
            "height": null,
            "justify_content": null,
            "justify_items": null,
            "left": null,
            "margin": null,
            "max_height": null,
            "max_width": null,
            "min_height": null,
            "min_width": null,
            "object_fit": null,
            "object_position": null,
            "order": null,
            "overflow": null,
            "overflow_x": null,
            "overflow_y": null,
            "padding": null,
            "right": null,
            "top": null,
            "visibility": null,
            "width": null
          }
        },
        "34161175af754731b39e836d3c1f8c3c": {
          "model_module": "@jupyter-widgets/controls",
          "model_name": "DescriptionStyleModel",
          "model_module_version": "1.5.0",
          "state": {
            "_model_module": "@jupyter-widgets/controls",
            "_model_module_version": "1.5.0",
            "_model_name": "DescriptionStyleModel",
            "_view_count": null,
            "_view_module": "@jupyter-widgets/base",
            "_view_module_version": "1.2.0",
            "_view_name": "StyleView",
            "description_width": ""
          }
        },
        "9396517021e04de58f448bfd2d2dbdc4": {
          "model_module": "@jupyter-widgets/base",
          "model_name": "LayoutModel",
          "model_module_version": "1.2.0",
          "state": {
            "_model_module": "@jupyter-widgets/base",
            "_model_module_version": "1.2.0",
            "_model_name": "LayoutModel",
            "_view_count": null,
            "_view_module": "@jupyter-widgets/base",
            "_view_module_version": "1.2.0",
            "_view_name": "LayoutView",
            "align_content": null,
            "align_items": null,
            "align_self": null,
            "border": null,
            "bottom": null,
            "display": null,
            "flex": null,
            "flex_flow": null,
            "grid_area": null,
            "grid_auto_columns": null,
            "grid_auto_flow": null,
            "grid_auto_rows": null,
            "grid_column": null,
            "grid_gap": null,
            "grid_row": null,
            "grid_template_areas": null,
            "grid_template_columns": null,
            "grid_template_rows": null,
            "height": null,
            "justify_content": null,
            "justify_items": null,
            "left": null,
            "margin": null,
            "max_height": null,
            "max_width": null,
            "min_height": null,
            "min_width": null,
            "object_fit": null,
            "object_position": null,
            "order": null,
            "overflow": null,
            "overflow_x": null,
            "overflow_y": null,
            "padding": null,
            "right": null,
            "top": null,
            "visibility": null,
            "width": null
          }
        },
        "802f585620db438ba089cd35e53965df": {
          "model_module": "@jupyter-widgets/controls",
          "model_name": "ProgressStyleModel",
          "model_module_version": "1.5.0",
          "state": {
            "_model_module": "@jupyter-widgets/controls",
            "_model_module_version": "1.5.0",
            "_model_name": "ProgressStyleModel",
            "_view_count": null,
            "_view_module": "@jupyter-widgets/base",
            "_view_module_version": "1.2.0",
            "_view_name": "StyleView",
            "bar_color": null,
            "description_width": ""
          }
        },
        "9ac7ab94f9ed4b8c8c7ba80d09b0eb5f": {
          "model_module": "@jupyter-widgets/base",
          "model_name": "LayoutModel",
          "model_module_version": "1.2.0",
          "state": {
            "_model_module": "@jupyter-widgets/base",
            "_model_module_version": "1.2.0",
            "_model_name": "LayoutModel",
            "_view_count": null,
            "_view_module": "@jupyter-widgets/base",
            "_view_module_version": "1.2.0",
            "_view_name": "LayoutView",
            "align_content": null,
            "align_items": null,
            "align_self": null,
            "border": null,
            "bottom": null,
            "display": null,
            "flex": null,
            "flex_flow": null,
            "grid_area": null,
            "grid_auto_columns": null,
            "grid_auto_flow": null,
            "grid_auto_rows": null,
            "grid_column": null,
            "grid_gap": null,
            "grid_row": null,
            "grid_template_areas": null,
            "grid_template_columns": null,
            "grid_template_rows": null,
            "height": null,
            "justify_content": null,
            "justify_items": null,
            "left": null,
            "margin": null,
            "max_height": null,
            "max_width": null,
            "min_height": null,
            "min_width": null,
            "object_fit": null,
            "object_position": null,
            "order": null,
            "overflow": null,
            "overflow_x": null,
            "overflow_y": null,
            "padding": null,
            "right": null,
            "top": null,
            "visibility": null,
            "width": null
          }
        },
        "c065de5c5eac4ad4a75edb9b31ffde30": {
          "model_module": "@jupyter-widgets/controls",
          "model_name": "DescriptionStyleModel",
          "model_module_version": "1.5.0",
          "state": {
            "_model_module": "@jupyter-widgets/controls",
            "_model_module_version": "1.5.0",
            "_model_name": "DescriptionStyleModel",
            "_view_count": null,
            "_view_module": "@jupyter-widgets/base",
            "_view_module_version": "1.2.0",
            "_view_name": "StyleView",
            "description_width": ""
          }
        },
        "1a499f9a584d40b888c4b0ad1bf91aaa": {
          "model_module": "@jupyter-widgets/controls",
          "model_name": "HBoxModel",
          "model_module_version": "1.5.0",
          "state": {
            "_dom_classes": [],
            "_model_module": "@jupyter-widgets/controls",
            "_model_module_version": "1.5.0",
            "_model_name": "HBoxModel",
            "_view_count": null,
            "_view_module": "@jupyter-widgets/controls",
            "_view_module_version": "1.5.0",
            "_view_name": "HBoxView",
            "box_style": "",
            "children": [
              "IPY_MODEL_de45d3134df44ff184aa6d69a7bacf02",
              "IPY_MODEL_ed1c6fddd7294dd6813586c54bf4cddc",
              "IPY_MODEL_4f8574966f2845f59779d634826a489b"
            ],
            "layout": "IPY_MODEL_52255998e43741b981ea79d5142b5b20"
          }
        },
        "de45d3134df44ff184aa6d69a7bacf02": {
          "model_module": "@jupyter-widgets/controls",
          "model_name": "HTMLModel",
          "model_module_version": "1.5.0",
          "state": {
            "_dom_classes": [],
            "_model_module": "@jupyter-widgets/controls",
            "_model_module_version": "1.5.0",
            "_model_name": "HTMLModel",
            "_view_count": null,
            "_view_module": "@jupyter-widgets/controls",
            "_view_module_version": "1.5.0",
            "_view_name": "HTMLView",
            "description": "",
            "description_tooltip": null,
            "layout": "IPY_MODEL_d572002926b6439db42e9ede33717d26",
            "placeholder": "​",
            "style": "IPY_MODEL_a3bc2d4914a348369022b78373d37af4",
            "value": "100%"
          }
        },
        "ed1c6fddd7294dd6813586c54bf4cddc": {
          "model_module": "@jupyter-widgets/controls",
          "model_name": "FloatProgressModel",
          "model_module_version": "1.5.0",
          "state": {
            "_dom_classes": [],
            "_model_module": "@jupyter-widgets/controls",
            "_model_module_version": "1.5.0",
            "_model_name": "FloatProgressModel",
            "_view_count": null,
            "_view_module": "@jupyter-widgets/controls",
            "_view_module_version": "1.5.0",
            "_view_name": "ProgressView",
            "bar_style": "success",
            "description": "",
            "description_tooltip": null,
            "layout": "IPY_MODEL_595b24c07be34b38940ad560bc6867d0",
            "max": 4542,
            "min": 0,
            "orientation": "horizontal",
            "style": "IPY_MODEL_71c061d810234c63a80af1501a55eff7",
            "value": 4542
          }
        },
        "4f8574966f2845f59779d634826a489b": {
          "model_module": "@jupyter-widgets/controls",
          "model_name": "HTMLModel",
          "model_module_version": "1.5.0",
          "state": {
            "_dom_classes": [],
            "_model_module": "@jupyter-widgets/controls",
            "_model_module_version": "1.5.0",
            "_model_name": "HTMLModel",
            "_view_count": null,
            "_view_module": "@jupyter-widgets/controls",
            "_view_module_version": "1.5.0",
            "_view_name": "HTMLView",
            "description": "",
            "description_tooltip": null,
            "layout": "IPY_MODEL_e66d7d3536cd46d3803c27c1d86f460c",
            "placeholder": "​",
            "style": "IPY_MODEL_94e46b19eea3430f961f9e01cf3cbf06",
            "value": " 4542/4542 [00:00&lt;00:00, 135038.30it/s]"
          }
        },
        "52255998e43741b981ea79d5142b5b20": {
          "model_module": "@jupyter-widgets/base",
          "model_name": "LayoutModel",
          "model_module_version": "1.2.0",
          "state": {
            "_model_module": "@jupyter-widgets/base",
            "_model_module_version": "1.2.0",
            "_model_name": "LayoutModel",
            "_view_count": null,
            "_view_module": "@jupyter-widgets/base",
            "_view_module_version": "1.2.0",
            "_view_name": "LayoutView",
            "align_content": null,
            "align_items": null,
            "align_self": null,
            "border": null,
            "bottom": null,
            "display": null,
            "flex": null,
            "flex_flow": null,
            "grid_area": null,
            "grid_auto_columns": null,
            "grid_auto_flow": null,
            "grid_auto_rows": null,
            "grid_column": null,
            "grid_gap": null,
            "grid_row": null,
            "grid_template_areas": null,
            "grid_template_columns": null,
            "grid_template_rows": null,
            "height": null,
            "justify_content": null,
            "justify_items": null,
            "left": null,
            "margin": null,
            "max_height": null,
            "max_width": null,
            "min_height": null,
            "min_width": null,
            "object_fit": null,
            "object_position": null,
            "order": null,
            "overflow": null,
            "overflow_x": null,
            "overflow_y": null,
            "padding": null,
            "right": null,
            "top": null,
            "visibility": null,
            "width": null
          }
        },
        "d572002926b6439db42e9ede33717d26": {
          "model_module": "@jupyter-widgets/base",
          "model_name": "LayoutModel",
          "model_module_version": "1.2.0",
          "state": {
            "_model_module": "@jupyter-widgets/base",
            "_model_module_version": "1.2.0",
            "_model_name": "LayoutModel",
            "_view_count": null,
            "_view_module": "@jupyter-widgets/base",
            "_view_module_version": "1.2.0",
            "_view_name": "LayoutView",
            "align_content": null,
            "align_items": null,
            "align_self": null,
            "border": null,
            "bottom": null,
            "display": null,
            "flex": null,
            "flex_flow": null,
            "grid_area": null,
            "grid_auto_columns": null,
            "grid_auto_flow": null,
            "grid_auto_rows": null,
            "grid_column": null,
            "grid_gap": null,
            "grid_row": null,
            "grid_template_areas": null,
            "grid_template_columns": null,
            "grid_template_rows": null,
            "height": null,
            "justify_content": null,
            "justify_items": null,
            "left": null,
            "margin": null,
            "max_height": null,
            "max_width": null,
            "min_height": null,
            "min_width": null,
            "object_fit": null,
            "object_position": null,
            "order": null,
            "overflow": null,
            "overflow_x": null,
            "overflow_y": null,
            "padding": null,
            "right": null,
            "top": null,
            "visibility": null,
            "width": null
          }
        },
        "a3bc2d4914a348369022b78373d37af4": {
          "model_module": "@jupyter-widgets/controls",
          "model_name": "DescriptionStyleModel",
          "model_module_version": "1.5.0",
          "state": {
            "_model_module": "@jupyter-widgets/controls",
            "_model_module_version": "1.5.0",
            "_model_name": "DescriptionStyleModel",
            "_view_count": null,
            "_view_module": "@jupyter-widgets/base",
            "_view_module_version": "1.2.0",
            "_view_name": "StyleView",
            "description_width": ""
          }
        },
        "595b24c07be34b38940ad560bc6867d0": {
          "model_module": "@jupyter-widgets/base",
          "model_name": "LayoutModel",
          "model_module_version": "1.2.0",
          "state": {
            "_model_module": "@jupyter-widgets/base",
            "_model_module_version": "1.2.0",
            "_model_name": "LayoutModel",
            "_view_count": null,
            "_view_module": "@jupyter-widgets/base",
            "_view_module_version": "1.2.0",
            "_view_name": "LayoutView",
            "align_content": null,
            "align_items": null,
            "align_self": null,
            "border": null,
            "bottom": null,
            "display": null,
            "flex": null,
            "flex_flow": null,
            "grid_area": null,
            "grid_auto_columns": null,
            "grid_auto_flow": null,
            "grid_auto_rows": null,
            "grid_column": null,
            "grid_gap": null,
            "grid_row": null,
            "grid_template_areas": null,
            "grid_template_columns": null,
            "grid_template_rows": null,
            "height": null,
            "justify_content": null,
            "justify_items": null,
            "left": null,
            "margin": null,
            "max_height": null,
            "max_width": null,
            "min_height": null,
            "min_width": null,
            "object_fit": null,
            "object_position": null,
            "order": null,
            "overflow": null,
            "overflow_x": null,
            "overflow_y": null,
            "padding": null,
            "right": null,
            "top": null,
            "visibility": null,
            "width": null
          }
        },
        "71c061d810234c63a80af1501a55eff7": {
          "model_module": "@jupyter-widgets/controls",
          "model_name": "ProgressStyleModel",
          "model_module_version": "1.5.0",
          "state": {
            "_model_module": "@jupyter-widgets/controls",
            "_model_module_version": "1.5.0",
            "_model_name": "ProgressStyleModel",
            "_view_count": null,
            "_view_module": "@jupyter-widgets/base",
            "_view_module_version": "1.2.0",
            "_view_name": "StyleView",
            "bar_color": null,
            "description_width": ""
          }
        },
        "e66d7d3536cd46d3803c27c1d86f460c": {
          "model_module": "@jupyter-widgets/base",
          "model_name": "LayoutModel",
          "model_module_version": "1.2.0",
          "state": {
            "_model_module": "@jupyter-widgets/base",
            "_model_module_version": "1.2.0",
            "_model_name": "LayoutModel",
            "_view_count": null,
            "_view_module": "@jupyter-widgets/base",
            "_view_module_version": "1.2.0",
            "_view_name": "LayoutView",
            "align_content": null,
            "align_items": null,
            "align_self": null,
            "border": null,
            "bottom": null,
            "display": null,
            "flex": null,
            "flex_flow": null,
            "grid_area": null,
            "grid_auto_columns": null,
            "grid_auto_flow": null,
            "grid_auto_rows": null,
            "grid_column": null,
            "grid_gap": null,
            "grid_row": null,
            "grid_template_areas": null,
            "grid_template_columns": null,
            "grid_template_rows": null,
            "height": null,
            "justify_content": null,
            "justify_items": null,
            "left": null,
            "margin": null,
            "max_height": null,
            "max_width": null,
            "min_height": null,
            "min_width": null,
            "object_fit": null,
            "object_position": null,
            "order": null,
            "overflow": null,
            "overflow_x": null,
            "overflow_y": null,
            "padding": null,
            "right": null,
            "top": null,
            "visibility": null,
            "width": null
          }
        },
        "94e46b19eea3430f961f9e01cf3cbf06": {
          "model_module": "@jupyter-widgets/controls",
          "model_name": "DescriptionStyleModel",
          "model_module_version": "1.5.0",
          "state": {
            "_model_module": "@jupyter-widgets/controls",
            "_model_module_version": "1.5.0",
            "_model_name": "DescriptionStyleModel",
            "_view_count": null,
            "_view_module": "@jupyter-widgets/base",
            "_view_module_version": "1.2.0",
            "_view_name": "StyleView",
            "description_width": ""
          }
        }
      }
    }
  },
  "cells": [
    {
      "cell_type": "markdown",
      "metadata": {
        "id": "view-in-github",
        "colab_type": "text"
      },
      "source": [
        "<a href=\"https://colab.research.google.com/github/MPGarg/TSCAI2.5/blob/main/Pytorch_101_Assignment.ipynb\" target=\"_parent\"><img src=\"https://colab.research.google.com/assets/colab-badge.svg\" alt=\"Open In Colab\"/></a>"
      ]
    },
    {
      "cell_type": "code",
      "execution_count": 1,
      "metadata": {
        "id": "D-5sqR1ESBmE"
      },
      "outputs": [],
      "source": [
        "#import important libraries\n",
        "import torch\n",
        "import torchvision # provide access to datasets, models, transforms, utils, etc\n",
        "import torchvision.transforms as transforms"
      ]
    },
    {
      "cell_type": "code",
      "source": [
        "from torch.utils.data import Dataset"
      ],
      "metadata": {
        "id": "gCCNJun9kOiQ"
      },
      "execution_count": 2,
      "outputs": []
    },
    {
      "cell_type": "code",
      "source": [
        "# Download Mnist data\n",
        "\n",
        "train_set_mnist = torchvision.datasets.MNIST(\n",
        "    root='./data'\n",
        "    ,train=True\n",
        "    ,download=True\n",
        "    ,transform=transforms.Compose([\n",
        "        transforms.ToTensor()\n",
        "    ])\n",
        ")"
      ],
      "metadata": {
        "id": "jYrOz-t_kX-B",
        "colab": {
          "base_uri": "https://localhost:8080/",
          "height": 423,
          "referenced_widgets": [
            "d52708629c1447f6bc5266f199a8f26f",
            "2bf69a2ce7754792b0fc3bf882835bcd",
            "f6e937c5bab943209d38297a13cde830",
            "0bdb27507b004e939895d7ea1740eb81",
            "c3319131596140008ec97e2f22c020d1",
            "0c0faabfc0cd4106b9ffc58daee563a0",
            "180470abfcca40a097edfb3e1d7deb95",
            "d538212885cc4024b7e74b814bef8472",
            "ec84e144ea284bac9d09d133010f878e",
            "12910ccae6b3426cb4168ff22482fb42",
            "bbddb60b656449feb5be5bbe65770023",
            "27cd36dbd312485ab83095d3be8295cf",
            "ce30d7d11b4a43f08bda5ea20ad1b321",
            "c9e03208d6844131b4a92939b6ea76b8",
            "9d41dcfb45524f59a20b5434f8c5c827",
            "0ef023f0c6e4426c9c6746622dd3dc7b",
            "2e888c51bf3e47e5bb97b59629ad490a",
            "78e09248a6d24012943a7adb87b2816a",
            "275cdf56aa944b5b85740cd7e7013587",
            "1537378c9fbe45a59f5b311022dd652f",
            "3af92fc5e1a24ad0a9de6fce36966d91",
            "498eeb489bef453a8b87130b7fb4c6ed",
            "093633db7ec8477fb9a879ae6a936c6e",
            "227db04601cd434e997382e96f4733e3",
            "be4f703c6a7644cf80ba24a7959d92bc",
            "747a6cca7e2c4525934b7e5052735269",
            "7a1f54ede9944e24b3ab9126a61f42e9",
            "dacc17869fee44b7b978ca98cdfab921",
            "34161175af754731b39e836d3c1f8c3c",
            "9396517021e04de58f448bfd2d2dbdc4",
            "802f585620db438ba089cd35e53965df",
            "9ac7ab94f9ed4b8c8c7ba80d09b0eb5f",
            "c065de5c5eac4ad4a75edb9b31ffde30",
            "1a499f9a584d40b888c4b0ad1bf91aaa",
            "de45d3134df44ff184aa6d69a7bacf02",
            "ed1c6fddd7294dd6813586c54bf4cddc",
            "4f8574966f2845f59779d634826a489b",
            "52255998e43741b981ea79d5142b5b20",
            "d572002926b6439db42e9ede33717d26",
            "a3bc2d4914a348369022b78373d37af4",
            "595b24c07be34b38940ad560bc6867d0",
            "71c061d810234c63a80af1501a55eff7",
            "e66d7d3536cd46d3803c27c1d86f460c",
            "94e46b19eea3430f961f9e01cf3cbf06"
          ]
        },
        "outputId": "247bc403-4065-4c22-f577-0726faeac885"
      },
      "execution_count": 3,
      "outputs": [
        {
          "output_type": "stream",
          "name": "stdout",
          "text": [
            "Downloading http://yann.lecun.com/exdb/mnist/train-images-idx3-ubyte.gz\n",
            "Downloading http://yann.lecun.com/exdb/mnist/train-images-idx3-ubyte.gz to ./data/MNIST/raw/train-images-idx3-ubyte.gz\n"
          ]
        },
        {
          "output_type": "display_data",
          "data": {
            "text/plain": [
              "  0%|          | 0/9912422 [00:00<?, ?it/s]"
            ],
            "application/vnd.jupyter.widget-view+json": {
              "version_major": 2,
              "version_minor": 0,
              "model_id": "d52708629c1447f6bc5266f199a8f26f"
            }
          },
          "metadata": {}
        },
        {
          "output_type": "stream",
          "name": "stdout",
          "text": [
            "Extracting ./data/MNIST/raw/train-images-idx3-ubyte.gz to ./data/MNIST/raw\n",
            "\n",
            "Downloading http://yann.lecun.com/exdb/mnist/train-labels-idx1-ubyte.gz\n",
            "Downloading http://yann.lecun.com/exdb/mnist/train-labels-idx1-ubyte.gz to ./data/MNIST/raw/train-labels-idx1-ubyte.gz\n"
          ]
        },
        {
          "output_type": "display_data",
          "data": {
            "text/plain": [
              "  0%|          | 0/28881 [00:00<?, ?it/s]"
            ],
            "application/vnd.jupyter.widget-view+json": {
              "version_major": 2,
              "version_minor": 0,
              "model_id": "27cd36dbd312485ab83095d3be8295cf"
            }
          },
          "metadata": {}
        },
        {
          "output_type": "stream",
          "name": "stdout",
          "text": [
            "Extracting ./data/MNIST/raw/train-labels-idx1-ubyte.gz to ./data/MNIST/raw\n",
            "\n",
            "Downloading http://yann.lecun.com/exdb/mnist/t10k-images-idx3-ubyte.gz\n",
            "Downloading http://yann.lecun.com/exdb/mnist/t10k-images-idx3-ubyte.gz to ./data/MNIST/raw/t10k-images-idx3-ubyte.gz\n"
          ]
        },
        {
          "output_type": "display_data",
          "data": {
            "text/plain": [
              "  0%|          | 0/1648877 [00:00<?, ?it/s]"
            ],
            "application/vnd.jupyter.widget-view+json": {
              "version_major": 2,
              "version_minor": 0,
              "model_id": "093633db7ec8477fb9a879ae6a936c6e"
            }
          },
          "metadata": {}
        },
        {
          "output_type": "stream",
          "name": "stdout",
          "text": [
            "Extracting ./data/MNIST/raw/t10k-images-idx3-ubyte.gz to ./data/MNIST/raw\n",
            "\n",
            "Downloading http://yann.lecun.com/exdb/mnist/t10k-labels-idx1-ubyte.gz\n",
            "Downloading http://yann.lecun.com/exdb/mnist/t10k-labels-idx1-ubyte.gz to ./data/MNIST/raw/t10k-labels-idx1-ubyte.gz\n"
          ]
        },
        {
          "output_type": "display_data",
          "data": {
            "text/plain": [
              "  0%|          | 0/4542 [00:00<?, ?it/s]"
            ],
            "application/vnd.jupyter.widget-view+json": {
              "version_major": 2,
              "version_minor": 0,
              "model_id": "1a499f9a584d40b888c4b0ad1bf91aaa"
            }
          },
          "metadata": {}
        },
        {
          "output_type": "stream",
          "name": "stdout",
          "text": [
            "Extracting ./data/MNIST/raw/t10k-labels-idx1-ubyte.gz to ./data/MNIST/raw\n",
            "\n"
          ]
        }
      ]
    },
    {
      "cell_type": "code",
      "source": [
        "#create loader for testing\n",
        "train_loader_mnist = torch.utils.data.DataLoader(\n",
        "    train_set_mnist, \n",
        "    batch_size=32,\n",
        "    shuffle=True\n",
        ")"
      ],
      "metadata": {
        "id": "9pye_wGpkYAh"
      },
      "execution_count": 4,
      "outputs": []
    },
    {
      "cell_type": "code",
      "source": [
        "#set width to print\n",
        "import numpy as np\n",
        "import matplotlib.pyplot as plt\n",
        "\n",
        "torch.set_printoptions(linewidth=120)"
      ],
      "metadata": {
        "id": "1VeWAbhZkYDn"
      },
      "execution_count": 5,
      "outputs": []
    },
    {
      "cell_type": "code",
      "source": [
        "len(train_set_mnist)"
      ],
      "metadata": {
        "colab": {
          "base_uri": "https://localhost:8080/"
        },
        "id": "yLAD75EDkYFN",
        "outputId": "d9847a99-77f7-409b-950b-6f36922043c3"
      },
      "execution_count": 6,
      "outputs": [
        {
          "output_type": "execute_result",
          "data": {
            "text/plain": [
              "60000"
            ]
          },
          "metadata": {},
          "execution_count": 6
        }
      ]
    },
    {
      "cell_type": "code",
      "source": [
        "#distribution of data in MNIST\n",
        "train_set_mnist.train_labels.bincount()"
      ],
      "metadata": {
        "colab": {
          "base_uri": "https://localhost:8080/"
        },
        "id": "POe3kbwZkYJJ",
        "outputId": "8e002baa-7fa9-4d8b-c5fc-bb1fdbb99985"
      },
      "execution_count": 7,
      "outputs": [
        {
          "output_type": "stream",
          "name": "stderr",
          "text": [
            "/usr/local/lib/python3.8/dist-packages/torchvision/datasets/mnist.py:65: UserWarning: train_labels has been renamed targets\n",
            "  warnings.warn(\"train_labels has been renamed targets\")\n"
          ]
        },
        {
          "output_type": "execute_result",
          "data": {
            "text/plain": [
              "tensor([5923, 6742, 5958, 6131, 5842, 5421, 5918, 6265, 5851, 5949])"
            ]
          },
          "metadata": {},
          "execution_count": 7
        }
      ]
    },
    {
      "cell_type": "code",
      "source": [
        "#printing batch\n",
        "batch = next(iter(train_loader_mnist))\n",
        "images, labels = batch\n",
        "grid = torchvision.utils.make_grid(images, nrow=10)\n",
        "plt.figure(figsize=(15,15))\n",
        "plt.imshow(np.transpose(grid, (1,2,0)))\n",
        "print('labels:', labels)"
      ],
      "metadata": {
        "colab": {
          "base_uri": "https://localhost:8080/",
          "height": 406
        },
        "id": "PAAhZINPkYLs",
        "outputId": "f2bc7692-ed49-41b8-9c1a-4a701907a0ae"
      },
      "execution_count": 8,
      "outputs": [
        {
          "output_type": "stream",
          "name": "stdout",
          "text": [
            "labels: tensor([9, 2, 1, 8, 2, 3, 7, 9, 4, 5, 6, 3, 2, 0, 9, 8, 6, 7, 3, 3, 5, 8, 4, 2, 4, 7, 7, 3, 9, 6, 3, 7])\n"
          ]
        },
        {
          "output_type": "display_data",
          "data": {
            "text/plain": [
              "<Figure size 1080x1080 with 1 Axes>"
            ],
            "image/png": "[encoded data removed]"
          },
          "metadata": {
            "needs_background": "light"
          }
        }
      ]
    },
    {
      "cell_type": "code",
      "source": [
        "#creating dataset of Random Numbers\n",
        "from torch.utils.data import Dataset\n",
        "import torch.nn.functional as F\n",
        "import torch.optim as optim\n",
        "\n",
        "class RandomNo(Dataset):\n",
        "  def __init__(self):\n",
        "    rand_no = torch.randint(0, 10, (60000,))        #60000 number from 0 to 9, total number same as MNIST records\n",
        "    self.data = F.one_hot(rand_no, num_classes=10)  #one hot encoding to be concatenated later\n",
        "    self.label = rand_no                            #label for encoding values\n",
        "\n",
        "  def __getitem__(self, index):\n",
        "    return self.data[index], self.label[index]      #returning encoded data & label\n",
        "\n",
        "  def __len__(self):\n",
        "    return len(self.data)"
      ],
      "metadata": {
        "id": "Ur5iRG5XTdZm"
      },
      "execution_count": 9,
      "outputs": []
    },
    {
      "cell_type": "code",
      "source": [
        "#checking some generated numbers\n",
        "randNo = RandomNo()\n",
        "\n",
        "for m in randNo[:2]:\n",
        "  print(m)"
      ],
      "metadata": {
        "colab": {
          "base_uri": "https://localhost:8080/"
        },
        "id": "HgiZhD7VTdbI",
        "outputId": "dbbc4612-5956-420f-bdd8-fda305621cc2"
      },
      "execution_count": 10,
      "outputs": [
        {
          "output_type": "stream",
          "name": "stdout",
          "text": [
            "tensor([[0, 0, 1, 0, 0, 0, 0, 0, 0, 0],\n",
            "        [0, 0, 0, 0, 0, 1, 0, 0, 0, 0]])\n",
            "tensor([2, 5])\n"
          ]
        }
      ]
    },
    {
      "cell_type": "code",
      "source": [
        "#distribution of data\n",
        "randNo.label.bincount()"
      ],
      "metadata": {
        "colab": {
          "base_uri": "https://localhost:8080/"
        },
        "id": "jz6xygBR3QgH",
        "outputId": "37abc79b-fce4-447a-ecac-84190556a71d"
      },
      "execution_count": 11,
      "outputs": [
        {
          "output_type": "execute_result",
          "data": {
            "text/plain": [
              "tensor([5907, 5970, 5962, 6026, 5964, 6027, 6104, 6033, 6005, 6002])"
            ]
          },
          "metadata": {},
          "execution_count": 11
        }
      ]
    },
    {
      "cell_type": "code",
      "source": [
        "#for checking loader\n",
        "train_loader_rand = torch.utils.data.DataLoader(\n",
        "    randNo, \n",
        "    batch_size = 5, \n",
        "    shuffle=True\n",
        ")"
      ],
      "metadata": {
        "id": "bHMCpxIZTde5"
      },
      "execution_count": 12,
      "outputs": []
    },
    {
      "cell_type": "code",
      "source": [
        "#print 1 batch\n",
        "for v in train_loader_rand:\n",
        "  print(v)\n",
        "  break"
      ],
      "metadata": {
        "colab": {
          "base_uri": "https://localhost:8080/"
        },
        "id": "-a0nLneynFfD",
        "outputId": "a3f99369-a44f-4477-a888-dee1f6fdda14"
      },
      "execution_count": 13,
      "outputs": [
        {
          "output_type": "stream",
          "name": "stdout",
          "text": [
            "[tensor([[0, 0, 0, 0, 0, 0, 0, 0, 0, 1],\n",
            "        [0, 0, 0, 0, 0, 0, 1, 0, 0, 0],\n",
            "        [0, 0, 0, 0, 0, 0, 0, 0, 0, 1],\n",
            "        [0, 0, 0, 0, 0, 1, 0, 0, 0, 0],\n",
            "        [0, 1, 0, 0, 0, 0, 0, 0, 0, 0]]), tensor([9, 6, 9, 5, 1])]\n"
          ]
        }
      ]
    },
    {
      "cell_type": "code",
      "source": [
        "#iterarator for random number\n",
        "train_loader_rand_iter = iter(train_loader_rand)"
      ],
      "metadata": {
        "id": "1_rLyWHjnQLd"
      },
      "execution_count": 14,
      "outputs": []
    },
    {
      "cell_type": "code",
      "source": [
        "#create model\n",
        "import torch.nn as nn\n",
        "class Network(nn.Module):\n",
        "  def __init__(self):\n",
        "    super().__init__()\n",
        "    self.conv1 = nn.Conv2d(in_channels=1, out_channels=32, kernel_size=3)       \n",
        "    self.conv2 = nn.Conv2d(in_channels=32, out_channels=64, kernel_size=3)      \n",
        "    self.conv3 = nn.Conv2d(in_channels=64, out_channels=128, kernel_size=3)     \n",
        "    self.conv4 = nn.Conv2d(in_channels=128, out_channels=512, kernel_size=3)    \n",
        "    self.conv5 = nn.Conv2d(in_channels=512, out_channels=256, kernel_size=3)    \n",
        "    self.conv6 = nn.Conv2d(in_channels=256, out_channels=512, kernel_size=3)    \n",
        "    self.fc1 = nn.Linear(in_features=512 * 3 * 3, out_features=60)\n",
        "    self.out = nn.Linear(in_features=60, out_features=10)\n",
        "    self.fc2 = nn.Linear(in_features=20, out_features=100)\n",
        "    self.out2 = nn.Linear(in_features=100, out_features=19)\n",
        "    \n",
        "  def forward(self, t1, t2):          #input has 2 dataset\n",
        "    # input layer\n",
        "    x1 = t1\n",
        "    # conv1 layer\n",
        "    x1 = self.conv1(x1) # 28 -> 26 RF 3 In_Ch: 1  Out_Ch: 32\n",
        "    x1 = F.relu(x1)\n",
        "    x1 = self.conv2(x1) # 26 -> 24 RF 5 In_Ch: 32 Out_Ch: 64\n",
        "    x1 = F.relu(x1)\n",
        "    x1 = self.conv3(x1) # 24 > 22 RF 7  In_Ch: 64 Out_Ch: 128\n",
        "    x1 = F.relu(x1)\n",
        "    x1 = self.conv4(x1) # 22 > 20 RF 9  In_Ch: 128 Out_Ch: 512\n",
        "    x1 = F.relu(x1)\n",
        "    x1 = F.max_pool2d(x1, kernel_size=2, stride=2) # 20 > 10 RF 18 (assumption)\n",
        "    x1 = self.conv5(x1) # 10 > 8 RF 20  In_Ch: 512 Out_Ch: 256\n",
        "    x1 = F.relu(x1)\n",
        "    x1 = self.conv6(x1) # 8 > 6 RF 22   In_Ch: 256 Out_Ch: 512\n",
        "    x1 = F.relu(x1)\n",
        "    x1 = F.max_pool2d(x1, kernel_size=2, stride=2) # 6 > 3 RF 44 (assumption)\n",
        "    # reshapre\n",
        "    x1 = x1.reshape(-1, 512 * 3 * 3)  #512 Channel & 3x3 output\n",
        "    # fc1 layer\n",
        "    x1 = self.fc1(x1)                 #FC Layer Output: 60\n",
        "    x1 = F.relu(x1)\n",
        "    # output layer for MNIST\n",
        "    x1 = self.out(x1)                 #FC Layer Output: 10 (same as MNIST Classes)\n",
        "    #predict class to be used as Input for SUM; one hot encoding for predicted number\n",
        "    pred_cl_one = F.one_hot(torch.argmax(x1,dim=1), num_classes=10) \n",
        "    #concatenate first output & second input (we are using same batch number for both to be able to concatenate)\n",
        "    x2 = torch.cat((pred_cl_one,t2), dim=1) #concatenate second input t2 & predicted class of t1\n",
        "    x2 = x2.to(torch.float32)               #change dtype to allow data to pass to FC2\n",
        "    x2 = self.fc2(x2)                       #Passing to FC layer Output: 100\n",
        "    x2 = F.relu(x2)\n",
        "    # output layer for SUM\n",
        "    x2 = self.out2(x2)                      #Out layer for second input 100 & output: 19 (sum 0 to 18)\n",
        "    return x1, x2                           #return both output"
      ],
      "metadata": {
        "id": "WhPDIMGXlmcp"
      },
      "execution_count": 15,
      "outputs": []
    },
    {
      "cell_type": "code",
      "source": [
        "#get correct values\n",
        "def get_num_correct(preds, labels):\n",
        "  return preds.argmax(dim=1).eq(labels).sum().item()"
      ],
      "metadata": {
        "id": "tF3cUv5mlmeY"
      },
      "execution_count": 16,
      "outputs": []
    },
    {
      "cell_type": "code",
      "source": [
        "#Set CUDA if available\n",
        "device = torch.device(\"cuda\" if torch.cuda.is_available() else \"cpu\")\n",
        "print(device)"
      ],
      "metadata": {
        "colab": {
          "base_uri": "https://localhost:8080/"
        },
        "id": "f1NOtMvAr73d",
        "outputId": "4c959178-e499-4196-c89e-4179dea674ec"
      },
      "execution_count": 17,
      "outputs": [
        {
          "output_type": "stream",
          "name": "stdout",
          "text": [
            "cuda\n"
          ]
        }
      ]
    },
    {
      "cell_type": "code",
      "source": [
        "#run as test complete network\n",
        "network = Network()\n",
        "network.to(device)\n",
        "\n",
        "#batch size as 128\n",
        "train_loader_mnist = torch.utils.data.DataLoader(\n",
        "    train_set_mnist, \n",
        "    batch_size=128,\n",
        "    shuffle=True\n",
        ")\n",
        "\n",
        "#batch size as 128\n",
        "train_loader_rand = torch.utils.data.DataLoader(\n",
        "    randNo, \n",
        "    batch_size = 128, \n",
        "    shuffle=True\n",
        ")\n",
        "\n",
        "#optimizer as Adam\n",
        "optimizer = optim.Adam(network.parameters(), lr=0.001)\n",
        "\n",
        "total_loss_mnist = 0\n",
        "total_correct_mnist = 0\n",
        "total_loss_sum = 0\n",
        "total_correct_sum = 0\n",
        "\n",
        "#iterator to get next batch as we are looping on MNIST train loader \n",
        "#and getting next batch using iterator from random number\n",
        "train_loader_rand_iter = iter(train_loader_rand)\n",
        "\n",
        "for batch in train_loader_mnist: # Get Batch of image\n",
        "    images, labels_mnist = batch \n",
        "    images = images.to(device)                            #push data to GPU\n",
        "    randNum, labels_ranNo = next(train_loader_rand_iter)  #get next batch of Random Number\n",
        "    randNum = randNum.to(device)                          #push to GPU\n",
        "    preds_mnist, preds_sum = network(images,randNum)      # Pass data to Network \n",
        "    labels_mnist = labels_mnist.to(device)\n",
        "    labels_ranNo = labels_ranNo.to(device)\n",
        "    labels_sum = labels_mnist + labels_ranNo              #creating labels for Sum\n",
        "    labels_sum = labels_sum.to(device)\n",
        "    loss_mnist = F.cross_entropy(preds_mnist, labels_mnist) # Calculate Loss for MNIST\n",
        "    loss_ranNo = F.cross_entropy(preds_sum, labels_sum) # Calculate Loss for Sum \n",
        "\n",
        "    loss = loss_mnist + loss_ranNo    #Total loss\n",
        "    optimizer.zero_grad()             \n",
        "    loss.backward()\n",
        "    optimizer.step() # Update Weights\n",
        "\n",
        "    #calculating loss and correct prediction\n",
        "    total_loss_mnist += loss_mnist.item()\n",
        "    total_correct_mnist += get_num_correct(preds_mnist, labels_mnist)\n",
        "    total_loss_sum += loss_ranNo.item()\n",
        "    total_correct_sum += get_num_correct(preds_sum, labels_sum)\n",
        "\n",
        "print(\n",
        "    \"epoch:\", 0, \n",
        "    \"tot_corr MNIST:\", total_correct_mnist, \n",
        "    \"loss MNIST:\", total_loss_mnist,\n",
        "    \"tot_corr Sum:\", total_correct_sum, \n",
        "    \"loss SUm:\", total_loss_sum    \n",
        ")"
      ],
      "metadata": {
        "colab": {
          "base_uri": "https://localhost:8080/"
        },
        "id": "EvX-Q0Jwmhy-",
        "outputId": "fade107f-27f1-47b0-aa3c-c1ee32f13e5a"
      },
      "execution_count": 18,
      "outputs": [
        {
          "output_type": "stream",
          "name": "stdout",
          "text": [
            "epoch: 0 tot_corr MNIST: 52946 loss MNIST: 158.90911452751607 tot_corr Sum: 36344 loss SUm: 854.3731570243835\n"
          ]
        }
      ]
    },
    {
      "cell_type": "code",
      "source": [
        "#running multiple epochs\n",
        "network = Network()\n",
        "network.to(device)\n",
        "\n",
        "train_loader_mnist = torch.utils.data.DataLoader(\n",
        "    train_set_mnist, \n",
        "    batch_size=128,\n",
        "    shuffle=True\n",
        ")\n",
        "train_loader_rand = torch.utils.data.DataLoader(\n",
        "    randNo, \n",
        "    batch_size = 128, \n",
        "    shuffle=True\n",
        ")\n",
        "\n",
        "optimizer = optim.Adam(network.parameters(), lr=0.001)\n",
        "\n",
        "for epoch in range(15):\n",
        "    total_loss_mnist = 0\n",
        "    total_correct_mnist = 0\n",
        "    total_loss_sum = 0\n",
        "    total_correct_sum = 0\n",
        "\n",
        "    train_loader_rand_iter = iter(train_loader_rand)\n",
        "\n",
        "    for batch in train_loader_mnist: # Get Batch\n",
        "        images, labels_mnist = batch \n",
        "        images = images.to(device)\n",
        "        randNum, labels_ranNo = next(train_loader_rand_iter)\n",
        "        randNum = randNum.to(device)\n",
        "        preds_mnist, preds_sum = network(images,randNum) # Pass Batch\n",
        "        labels_mnist = labels_mnist.to(device)\n",
        "        labels_ranNo = labels_ranNo.to(device)\n",
        "        labels_sum = labels_mnist + labels_ranNo\n",
        "        labels_sum = labels_sum.to(device)\n",
        "        loss_mnist = F.cross_entropy(preds_mnist, labels_mnist) # Calculate Loss\n",
        "        loss_ranNo = F.cross_entropy(preds_sum, labels_sum) # Calculate Loss\n",
        "\n",
        "        loss = loss_mnist + loss_ranNo\n",
        "        optimizer.zero_grad()\n",
        "        loss.backward()\n",
        "        optimizer.step() # Update Weights\n",
        "\n",
        "        total_loss_mnist += loss_mnist.item()\n",
        "        total_correct_mnist += get_num_correct(preds_mnist, labels_mnist)\n",
        "        total_loss_sum += loss_ranNo.item()\n",
        "        total_correct_sum += get_num_correct(preds_sum, labels_sum)\n",
        "\n",
        "    print(\n",
        "        \"epoch:\", epoch, \n",
        "        \"tot_corr MNIST:\", total_correct_mnist, \n",
        "        \"loss MNIST:\", total_loss_mnist,\n",
        "        \"tot_corr Sum:\", total_correct_sum, \n",
        "        \"loss Sum:\", total_loss_sum    \n",
        "    )"
      ],
      "metadata": {
        "id": "XFp3xszXmh1t",
        "colab": {
          "base_uri": "https://localhost:8080/"
        },
        "outputId": "89311fa9-d9ae-48df-ba6b-146c43613b31"
      },
      "execution_count": 19,
      "outputs": [
        {
          "output_type": "stream",
          "name": "stdout",
          "text": [
            "epoch: 0 tot_corr MNIST: 55468 loss MNIST: 108.20154969859868 tot_corr Sum: 39569 loss Sum: 821.6886331439018\n",
            "epoch: 1 tot_corr MNIST: 59118 loss MNIST: 22.661125325364992 tot_corr Sum: 59118 loss Sum: 130.49040120840073\n",
            "epoch: 2 tot_corr MNIST: 59370 loss MNIST: 15.669793596083764 tot_corr Sum: 59370 loss Sum: 53.74286217615008\n",
            "epoch: 3 tot_corr MNIST: 59494 loss MNIST: 12.041197097249096 tot_corr Sum: 59494 loss Sum: 37.91513303294778\n",
            "epoch: 4 tot_corr MNIST: 59596 loss MNIST: 9.783126857451862 tot_corr Sum: 59596 loss Sum: 29.444651457481086\n",
            "epoch: 5 tot_corr MNIST: 59686 loss MNIST: 7.921911828700104 tot_corr Sum: 59686 loss Sum: 23.57400557771325\n",
            "epoch: 6 tot_corr MNIST: 59722 loss MNIST: 6.880392257982749 tot_corr Sum: 59722 loss Sum: 20.626847637817264\n",
            "epoch: 7 tot_corr MNIST: 59759 loss MNIST: 5.67465770761919 tot_corr Sum: 59759 loss Sum: 18.28476608451456\n",
            "epoch: 8 tot_corr MNIST: 59817 loss MNIST: 4.579824675518694 tot_corr Sum: 59817 loss Sum: 13.866899588610977\n",
            "epoch: 9 tot_corr MNIST: 59760 loss MNIST: 5.587062363021687 tot_corr Sum: 59760 loss Sum: 17.275630312040448\n",
            "epoch: 10 tot_corr MNIST: 59841 loss MNIST: 3.806413469852032 tot_corr Sum: 59841 loss Sum: 11.95278590824455\n",
            "epoch: 11 tot_corr MNIST: 59866 loss MNIST: 3.3350753246622844 tot_corr Sum: 59866 loss Sum: 10.385274074506015\n",
            "epoch: 12 tot_corr MNIST: 59885 loss MNIST: 2.729827184845135 tot_corr Sum: 59885 loss Sum: 9.066827743779868\n",
            "epoch: 13 tot_corr MNIST: 59858 loss MNIST: 3.4665377886526585 tot_corr Sum: 59858 loss Sum: 10.877153171226382\n",
            "epoch: 14 tot_corr MNIST: 59881 loss MNIST: 3.004167418367615 tot_corr Sum: 59881 loss Sum: 9.155001160921529\n"
          ]
        }
      ]
    },
    {
      "cell_type": "code",
      "source": [
        "labels_mnist[:5], labels_ranNo[:5],labels_sum[:5]"
      ],
      "metadata": {
        "colab": {
          "base_uri": "https://localhost:8080/"
        },
        "id": "kGYIG17VzPd3",
        "outputId": "e551b984-4242-4ce1-dd33-79421422195e"
      },
      "execution_count": 20,
      "outputs": [
        {
          "output_type": "execute_result",
          "data": {
            "text/plain": [
              "(tensor([9, 0, 3, 2, 5], device='cuda:0'),\n",
              " tensor([9, 2, 3, 4, 4], device='cuda:0'),\n",
              " tensor([18,  2,  6,  6,  9], device='cuda:0'))"
            ]
          },
          "metadata": {},
          "execution_count": 20
        }
      ]
    },
    {
      "cell_type": "code",
      "source": [
        "preds_mnist.argmax(dim=1)[:5]"
      ],
      "metadata": {
        "colab": {
          "base_uri": "https://localhost:8080/"
        },
        "id": "DTa_yt851DP5",
        "outputId": "eddef8e8-2345-45e0-82b7-6279857a7e8c"
      },
      "execution_count": 21,
      "outputs": [
        {
          "output_type": "execute_result",
          "data": {
            "text/plain": [
              "tensor([9, 0, 3, 2, 5], device='cuda:0')"
            ]
          },
          "metadata": {},
          "execution_count": 21
        }
      ]
    },
    {
      "cell_type": "code",
      "source": [
        "preds_sum.argmax(dim=1)[:5]"
      ],
      "metadata": {
        "colab": {
          "base_uri": "https://localhost:8080/"
        },
        "id": "FN7x8RW-1h1T",
        "outputId": "ca9f9d90-5a20-4027-8789-6b08ca1e326a"
      },
      "execution_count": 22,
      "outputs": [
        {
          "output_type": "execute_result",
          "data": {
            "text/plain": [
              "tensor([18,  2,  6,  6,  9], device='cuda:0')"
            ]
          },
          "metadata": {},
          "execution_count": 22
        }
      ]
    },
    {
      "cell_type": "code",
      "source": [],
      "metadata": {
        "id": "wFP8faEK1wXD"
      },
      "execution_count": null,
      "outputs": []
    }
  ]
}