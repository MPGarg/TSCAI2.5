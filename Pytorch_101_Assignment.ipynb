{
  "nbformat": 4,
  "nbformat_minor": 0,
  "metadata": {
    "colab": {
      "provenance": [],
      "authorship_tag": "ABX9TyOP3oiWeqTgaLKwR3NQTauP",
      "include_colab_link": true
    },
    "kernelspec": {
      "name": "python3",
      "display_name": "Python 3"
    },
    "language_info": {
      "name": "python"
    },
    "accelerator": "GPU",
    "gpuClass": "standard",
    "widgets": {
      "application/vnd.jupyter.widget-state+json": {
        "6789bcedcb2e4249ad4ddd677d66cce5": {
          "model_module": "@jupyter-widgets/controls",
          "model_name": "HBoxModel",
          "model_module_version": "1.5.0",
          "state": {
            "_dom_classes": [],
            "_model_module": "@jupyter-widgets/controls",
            "_model_module_version": "1.5.0",
            "_model_name": "HBoxModel",
            "_view_count": null,
            "_view_module": "@jupyter-widgets/controls",
            "_view_module_version": "1.5.0",
            "_view_name": "HBoxView",
            "box_style": "",
            "children": [
              "IPY_MODEL_db2594e5fc304ee78622aa6c6bb99ad3",
              "IPY_MODEL_edcad5593f5d488cb3dfb1acbf94e073",
              "IPY_MODEL_e3369f4957ae4aaf8b4fe8031ce0b3b4"
            ],
            "layout": "IPY_MODEL_c15bfec2321948558b405c1fe24c7afe"
          }
        },
        "db2594e5fc304ee78622aa6c6bb99ad3": {
          "model_module": "@jupyter-widgets/controls",
          "model_name": "HTMLModel",
          "model_module_version": "1.5.0",
          "state": {
            "_dom_classes": [],
            "_model_module": "@jupyter-widgets/controls",
            "_model_module_version": "1.5.0",
            "_model_name": "HTMLModel",
            "_view_count": null,
            "_view_module": "@jupyter-widgets/controls",
            "_view_module_version": "1.5.0",
            "_view_name": "HTMLView",
            "description": "",
            "description_tooltip": null,
            "layout": "IPY_MODEL_5934763d47e44b51a0d54312000bfdcf",
            "placeholder": "​",
            "style": "IPY_MODEL_d907d27d12474e1f88e592293a33b8bd",
            "value": "100%"
          }
        },
        "edcad5593f5d488cb3dfb1acbf94e073": {
          "model_module": "@jupyter-widgets/controls",
          "model_name": "FloatProgressModel",
          "model_module_version": "1.5.0",
          "state": {
            "_dom_classes": [],
            "_model_module": "@jupyter-widgets/controls",
            "_model_module_version": "1.5.0",
            "_model_name": "FloatProgressModel",
            "_view_count": null,
            "_view_module": "@jupyter-widgets/controls",
            "_view_module_version": "1.5.0",
            "_view_name": "ProgressView",
            "bar_style": "success",
            "description": "",
            "description_tooltip": null,
            "layout": "IPY_MODEL_ce83707a129544afa0f54b11eeaab5d8",
            "max": 9912422,
            "min": 0,
            "orientation": "horizontal",
            "style": "IPY_MODEL_90ae92ad60134506bfe049c3dda6313c",
            "value": 9912422
          }
        },
        "e3369f4957ae4aaf8b4fe8031ce0b3b4": {
          "model_module": "@jupyter-widgets/controls",
          "model_name": "HTMLModel",
          "model_module_version": "1.5.0",
          "state": {
            "_dom_classes": [],
            "_model_module": "@jupyter-widgets/controls",
            "_model_module_version": "1.5.0",
            "_model_name": "HTMLModel",
            "_view_count": null,
            "_view_module": "@jupyter-widgets/controls",
            "_view_module_version": "1.5.0",
            "_view_name": "HTMLView",
            "description": "",
            "description_tooltip": null,
            "layout": "IPY_MODEL_46f5a8f59ec54b909c0d3afa48c93085",
            "placeholder": "​",
            "style": "IPY_MODEL_9ae70b204ef54be18a946d993838b8ce",
            "value": " 9912422/9912422 [00:00&lt;00:00, 18819947.52it/s]"
          }
        },
        "c15bfec2321948558b405c1fe24c7afe": {
          "model_module": "@jupyter-widgets/base",
          "model_name": "LayoutModel",
          "model_module_version": "1.2.0",
          "state": {
            "_model_module": "@jupyter-widgets/base",
            "_model_module_version": "1.2.0",
            "_model_name": "LayoutModel",
            "_view_count": null,
            "_view_module": "@jupyter-widgets/base",
            "_view_module_version": "1.2.0",
            "_view_name": "LayoutView",
            "align_content": null,
            "align_items": null,
            "align_self": null,
            "border": null,
            "bottom": null,
            "display": null,
            "flex": null,
            "flex_flow": null,
            "grid_area": null,
            "grid_auto_columns": null,
            "grid_auto_flow": null,
            "grid_auto_rows": null,
            "grid_column": null,
            "grid_gap": null,
            "grid_row": null,
            "grid_template_areas": null,
            "grid_template_columns": null,
            "grid_template_rows": null,
            "height": null,
            "justify_content": null,
            "justify_items": null,
            "left": null,
            "margin": null,
            "max_height": null,
            "max_width": null,
            "min_height": null,
            "min_width": null,
            "object_fit": null,
            "object_position": null,
            "order": null,
            "overflow": null,
            "overflow_x": null,
            "overflow_y": null,
            "padding": null,
            "right": null,
            "top": null,
            "visibility": null,
            "width": null
          }
        },
        "5934763d47e44b51a0d54312000bfdcf": {
          "model_module": "@jupyter-widgets/base",
          "model_name": "LayoutModel",
          "model_module_version": "1.2.0",
          "state": {
            "_model_module": "@jupyter-widgets/base",
            "_model_module_version": "1.2.0",
            "_model_name": "LayoutModel",
            "_view_count": null,
            "_view_module": "@jupyter-widgets/base",
            "_view_module_version": "1.2.0",
            "_view_name": "LayoutView",
            "align_content": null,
            "align_items": null,
            "align_self": null,
            "border": null,
            "bottom": null,
            "display": null,
            "flex": null,
            "flex_flow": null,
            "grid_area": null,
            "grid_auto_columns": null,
            "grid_auto_flow": null,
            "grid_auto_rows": null,
            "grid_column": null,
            "grid_gap": null,
            "grid_row": null,
            "grid_template_areas": null,
            "grid_template_columns": null,
            "grid_template_rows": null,
            "height": null,
            "justify_content": null,
            "justify_items": null,
            "left": null,
            "margin": null,
            "max_height": null,
            "max_width": null,
            "min_height": null,
            "min_width": null,
            "object_fit": null,
            "object_position": null,
            "order": null,
            "overflow": null,
            "overflow_x": null,
            "overflow_y": null,
            "padding": null,
            "right": null,
            "top": null,
            "visibility": null,
            "width": null
          }
        },
        "d907d27d12474e1f88e592293a33b8bd": {
          "model_module": "@jupyter-widgets/controls",
          "model_name": "DescriptionStyleModel",
          "model_module_version": "1.5.0",
          "state": {
            "_model_module": "@jupyter-widgets/controls",
            "_model_module_version": "1.5.0",
            "_model_name": "DescriptionStyleModel",
            "_view_count": null,
            "_view_module": "@jupyter-widgets/base",
            "_view_module_version": "1.2.0",
            "_view_name": "StyleView",
            "description_width": ""
          }
        },
        "ce83707a129544afa0f54b11eeaab5d8": {
          "model_module": "@jupyter-widgets/base",
          "model_name": "LayoutModel",
          "model_module_version": "1.2.0",
          "state": {
            "_model_module": "@jupyter-widgets/base",
            "_model_module_version": "1.2.0",
            "_model_name": "LayoutModel",
            "_view_count": null,
            "_view_module": "@jupyter-widgets/base",
            "_view_module_version": "1.2.0",
            "_view_name": "LayoutView",
            "align_content": null,
            "align_items": null,
            "align_self": null,
            "border": null,
            "bottom": null,
            "display": null,
            "flex": null,
            "flex_flow": null,
            "grid_area": null,
            "grid_auto_columns": null,
            "grid_auto_flow": null,
            "grid_auto_rows": null,
            "grid_column": null,
            "grid_gap": null,
            "grid_row": null,
            "grid_template_areas": null,
            "grid_template_columns": null,
            "grid_template_rows": null,
            "height": null,
            "justify_content": null,
            "justify_items": null,
            "left": null,
            "margin": null,
            "max_height": null,
            "max_width": null,
            "min_height": null,
            "min_width": null,
            "object_fit": null,
            "object_position": null,
            "order": null,
            "overflow": null,
            "overflow_x": null,
            "overflow_y": null,
            "padding": null,
            "right": null,
            "top": null,
            "visibility": null,
            "width": null
          }
        },
        "90ae92ad60134506bfe049c3dda6313c": {
          "model_module": "@jupyter-widgets/controls",
          "model_name": "ProgressStyleModel",
          "model_module_version": "1.5.0",
          "state": {
            "_model_module": "@jupyter-widgets/controls",
            "_model_module_version": "1.5.0",
            "_model_name": "ProgressStyleModel",
            "_view_count": null,
            "_view_module": "@jupyter-widgets/base",
            "_view_module_version": "1.2.0",
            "_view_name": "StyleView",
            "bar_color": null,
            "description_width": ""
          }
        },
        "46f5a8f59ec54b909c0d3afa48c93085": {
          "model_module": "@jupyter-widgets/base",
          "model_name": "LayoutModel",
          "model_module_version": "1.2.0",
          "state": {
            "_model_module": "@jupyter-widgets/base",
            "_model_module_version": "1.2.0",
            "_model_name": "LayoutModel",
            "_view_count": null,
            "_view_module": "@jupyter-widgets/base",
            "_view_module_version": "1.2.0",
            "_view_name": "LayoutView",
            "align_content": null,
            "align_items": null,
            "align_self": null,
            "border": null,
            "bottom": null,
            "display": null,
            "flex": null,
            "flex_flow": null,
            "grid_area": null,
            "grid_auto_columns": null,
            "grid_auto_flow": null,
            "grid_auto_rows": null,
            "grid_column": null,
            "grid_gap": null,
            "grid_row": null,
            "grid_template_areas": null,
            "grid_template_columns": null,
            "grid_template_rows": null,
            "height": null,
            "justify_content": null,
            "justify_items": null,
            "left": null,
            "margin": null,
            "max_height": null,
            "max_width": null,
            "min_height": null,
            "min_width": null,
            "object_fit": null,
            "object_position": null,
            "order": null,
            "overflow": null,
            "overflow_x": null,
            "overflow_y": null,
            "padding": null,
            "right": null,
            "top": null,
            "visibility": null,
            "width": null
          }
        },
        "9ae70b204ef54be18a946d993838b8ce": {
          "model_module": "@jupyter-widgets/controls",
          "model_name": "DescriptionStyleModel",
          "model_module_version": "1.5.0",
          "state": {
            "_model_module": "@jupyter-widgets/controls",
            "_model_module_version": "1.5.0",
            "_model_name": "DescriptionStyleModel",
            "_view_count": null,
            "_view_module": "@jupyter-widgets/base",
            "_view_module_version": "1.2.0",
            "_view_name": "StyleView",
            "description_width": ""
          }
        },
        "cb0b8a4667804057a28f0b806f0c6e6d": {
          "model_module": "@jupyter-widgets/controls",
          "model_name": "HBoxModel",
          "model_module_version": "1.5.0",
          "state": {
            "_dom_classes": [],
            "_model_module": "@jupyter-widgets/controls",
            "_model_module_version": "1.5.0",
            "_model_name": "HBoxModel",
            "_view_count": null,
            "_view_module": "@jupyter-widgets/controls",
            "_view_module_version": "1.5.0",
            "_view_name": "HBoxView",
            "box_style": "",
            "children": [
              "IPY_MODEL_83edc4760ace41bfbea28edd9d7c15cf",
              "IPY_MODEL_9a5c4b2cc2c84a8880ebdbe2b6a61ec5",
              "IPY_MODEL_ab8a893a83bd4803aea8ee19a2bd1187"
            ],
            "layout": "IPY_MODEL_e367927dd3114e16a9b96f1f2c51a95b"
          }
        },
        "83edc4760ace41bfbea28edd9d7c15cf": {
          "model_module": "@jupyter-widgets/controls",
          "model_name": "HTMLModel",
          "model_module_version": "1.5.0",
          "state": {
            "_dom_classes": [],
            "_model_module": "@jupyter-widgets/controls",
            "_model_module_version": "1.5.0",
            "_model_name": "HTMLModel",
            "_view_count": null,
            "_view_module": "@jupyter-widgets/controls",
            "_view_module_version": "1.5.0",
            "_view_name": "HTMLView",
            "description": "",
            "description_tooltip": null,
            "layout": "IPY_MODEL_5fc563abfa634744bd936bec4bce661b",
            "placeholder": "​",
            "style": "IPY_MODEL_5f9028dc0b2e4b98b46da42c377912b5",
            "value": "100%"
          }
        },
        "9a5c4b2cc2c84a8880ebdbe2b6a61ec5": {
          "model_module": "@jupyter-widgets/controls",
          "model_name": "FloatProgressModel",
          "model_module_version": "1.5.0",
          "state": {
            "_dom_classes": [],
            "_model_module": "@jupyter-widgets/controls",
            "_model_module_version": "1.5.0",
            "_model_name": "FloatProgressModel",
            "_view_count": null,
            "_view_module": "@jupyter-widgets/controls",
            "_view_module_version": "1.5.0",
            "_view_name": "ProgressView",
            "bar_style": "success",
            "description": "",
            "description_tooltip": null,
            "layout": "IPY_MODEL_79c498c19dec438ab494c97ba670a7ae",
            "max": 28881,
            "min": 0,
            "orientation": "horizontal",
            "style": "IPY_MODEL_5ee325a609ed4558857d6b8a4a4edb86",
            "value": 28881
          }
        },
        "ab8a893a83bd4803aea8ee19a2bd1187": {
          "model_module": "@jupyter-widgets/controls",
          "model_name": "HTMLModel",
          "model_module_version": "1.5.0",
          "state": {
            "_dom_classes": [],
            "_model_module": "@jupyter-widgets/controls",
            "_model_module_version": "1.5.0",
            "_model_name": "HTMLModel",
            "_view_count": null,
            "_view_module": "@jupyter-widgets/controls",
            "_view_module_version": "1.5.0",
            "_view_name": "HTMLView",
            "description": "",
            "description_tooltip": null,
            "layout": "IPY_MODEL_3f36684413ef4699a31a65f1a8e303b6",
            "placeholder": "​",
            "style": "IPY_MODEL_6bf5e144cda844ecb1dd0dc83183e615",
            "value": " 28881/28881 [00:00&lt;00:00, 1641827.76it/s]"
          }
        },
        "e367927dd3114e16a9b96f1f2c51a95b": {
          "model_module": "@jupyter-widgets/base",
          "model_name": "LayoutModel",
          "model_module_version": "1.2.0",
          "state": {
            "_model_module": "@jupyter-widgets/base",
            "_model_module_version": "1.2.0",
            "_model_name": "LayoutModel",
            "_view_count": null,
            "_view_module": "@jupyter-widgets/base",
            "_view_module_version": "1.2.0",
            "_view_name": "LayoutView",
            "align_content": null,
            "align_items": null,
            "align_self": null,
            "border": null,
            "bottom": null,
            "display": null,
            "flex": null,
            "flex_flow": null,
            "grid_area": null,
            "grid_auto_columns": null,
            "grid_auto_flow": null,
            "grid_auto_rows": null,
            "grid_column": null,
            "grid_gap": null,
            "grid_row": null,
            "grid_template_areas": null,
            "grid_template_columns": null,
            "grid_template_rows": null,
            "height": null,
            "justify_content": null,
            "justify_items": null,
            "left": null,
            "margin": null,
            "max_height": null,
            "max_width": null,
            "min_height": null,
            "min_width": null,
            "object_fit": null,
            "object_position": null,
            "order": null,
            "overflow": null,
            "overflow_x": null,
            "overflow_y": null,
            "padding": null,
            "right": null,
            "top": null,
            "visibility": null,
            "width": null
          }
        },
        "5fc563abfa634744bd936bec4bce661b": {
          "model_module": "@jupyter-widgets/base",
          "model_name": "LayoutModel",
          "model_module_version": "1.2.0",
          "state": {
            "_model_module": "@jupyter-widgets/base",
            "_model_module_version": "1.2.0",
            "_model_name": "LayoutModel",
            "_view_count": null,
            "_view_module": "@jupyter-widgets/base",
            "_view_module_version": "1.2.0",
            "_view_name": "LayoutView",
            "align_content": null,
            "align_items": null,
            "align_self": null,
            "border": null,
            "bottom": null,
            "display": null,
            "flex": null,
            "flex_flow": null,
            "grid_area": null,
            "grid_auto_columns": null,
            "grid_auto_flow": null,
            "grid_auto_rows": null,
            "grid_column": null,
            "grid_gap": null,
            "grid_row": null,
            "grid_template_areas": null,
            "grid_template_columns": null,
            "grid_template_rows": null,
            "height": null,
            "justify_content": null,
            "justify_items": null,
            "left": null,
            "margin": null,
            "max_height": null,
            "max_width": null,
            "min_height": null,
            "min_width": null,
            "object_fit": null,
            "object_position": null,
            "order": null,
            "overflow": null,
            "overflow_x": null,
            "overflow_y": null,
            "padding": null,
            "right": null,
            "top": null,
            "visibility": null,
            "width": null
          }
        },
        "5f9028dc0b2e4b98b46da42c377912b5": {
          "model_module": "@jupyter-widgets/controls",
          "model_name": "DescriptionStyleModel",
          "model_module_version": "1.5.0",
          "state": {
            "_model_module": "@jupyter-widgets/controls",
            "_model_module_version": "1.5.0",
            "_model_name": "DescriptionStyleModel",
            "_view_count": null,
            "_view_module": "@jupyter-widgets/base",
            "_view_module_version": "1.2.0",
            "_view_name": "StyleView",
            "description_width": ""
          }
        },
        "79c498c19dec438ab494c97ba670a7ae": {
          "model_module": "@jupyter-widgets/base",
          "model_name": "LayoutModel",
          "model_module_version": "1.2.0",
          "state": {
            "_model_module": "@jupyter-widgets/base",
            "_model_module_version": "1.2.0",
            "_model_name": "LayoutModel",
            "_view_count": null,
            "_view_module": "@jupyter-widgets/base",
            "_view_module_version": "1.2.0",
            "_view_name": "LayoutView",
            "align_content": null,
            "align_items": null,
            "align_self": null,
            "border": null,
            "bottom": null,
            "display": null,
            "flex": null,
            "flex_flow": null,
            "grid_area": null,
            "grid_auto_columns": null,
            "grid_auto_flow": null,
            "grid_auto_rows": null,
            "grid_column": null,
            "grid_gap": null,
            "grid_row": null,
            "grid_template_areas": null,
            "grid_template_columns": null,
            "grid_template_rows": null,
            "height": null,
            "justify_content": null,
            "justify_items": null,
            "left": null,
            "margin": null,
            "max_height": null,
            "max_width": null,
            "min_height": null,
            "min_width": null,
            "object_fit": null,
            "object_position": null,
            "order": null,
            "overflow": null,
            "overflow_x": null,
            "overflow_y": null,
            "padding": null,
            "right": null,
            "top": null,
            "visibility": null,
            "width": null
          }
        },
        "5ee325a609ed4558857d6b8a4a4edb86": {
          "model_module": "@jupyter-widgets/controls",
          "model_name": "ProgressStyleModel",
          "model_module_version": "1.5.0",
          "state": {
            "_model_module": "@jupyter-widgets/controls",
            "_model_module_version": "1.5.0",
            "_model_name": "ProgressStyleModel",
            "_view_count": null,
            "_view_module": "@jupyter-widgets/base",
            "_view_module_version": "1.2.0",
            "_view_name": "StyleView",
            "bar_color": null,
            "description_width": ""
          }
        },
        "3f36684413ef4699a31a65f1a8e303b6": {
          "model_module": "@jupyter-widgets/base",
          "model_name": "LayoutModel",
          "model_module_version": "1.2.0",
          "state": {
            "_model_module": "@jupyter-widgets/base",
            "_model_module_version": "1.2.0",
            "_model_name": "LayoutModel",
            "_view_count": null,
            "_view_module": "@jupyter-widgets/base",
            "_view_module_version": "1.2.0",
            "_view_name": "LayoutView",
            "align_content": null,
            "align_items": null,
            "align_self": null,
            "border": null,
            "bottom": null,
            "display": null,
            "flex": null,
            "flex_flow": null,
            "grid_area": null,
            "grid_auto_columns": null,
            "grid_auto_flow": null,
            "grid_auto_rows": null,
            "grid_column": null,
            "grid_gap": null,
            "grid_row": null,
            "grid_template_areas": null,
            "grid_template_columns": null,
            "grid_template_rows": null,
            "height": null,
            "justify_content": null,
            "justify_items": null,
            "left": null,
            "margin": null,
            "max_height": null,
            "max_width": null,
            "min_height": null,
            "min_width": null,
            "object_fit": null,
            "object_position": null,
            "order": null,
            "overflow": null,
            "overflow_x": null,
            "overflow_y": null,
            "padding": null,
            "right": null,
            "top": null,
            "visibility": null,
            "width": null
          }
        },
        "6bf5e144cda844ecb1dd0dc83183e615": {
          "model_module": "@jupyter-widgets/controls",
          "model_name": "DescriptionStyleModel",
          "model_module_version": "1.5.0",
          "state": {
            "_model_module": "@jupyter-widgets/controls",
            "_model_module_version": "1.5.0",
            "_model_name": "DescriptionStyleModel",
            "_view_count": null,
            "_view_module": "@jupyter-widgets/base",
            "_view_module_version": "1.2.0",
            "_view_name": "StyleView",
            "description_width": ""
          }
        },
        "878ec8e5291a410f8adb44e707a7ae74": {
          "model_module": "@jupyter-widgets/controls",
          "model_name": "HBoxModel",
          "model_module_version": "1.5.0",
          "state": {
            "_dom_classes": [],
            "_model_module": "@jupyter-widgets/controls",
            "_model_module_version": "1.5.0",
            "_model_name": "HBoxModel",
            "_view_count": null,
            "_view_module": "@jupyter-widgets/controls",
            "_view_module_version": "1.5.0",
            "_view_name": "HBoxView",
            "box_style": "",
            "children": [
              "IPY_MODEL_e57774cc83ad42a59bdcc84d5b35e171",
              "IPY_MODEL_abf5719d1b34406bb6df49e9546e9a6b",
              "IPY_MODEL_dc911063610948ae9c3d23820e64d56b"
            ],
            "layout": "IPY_MODEL_63a6341a572d4967bceaa5691526fb7d"
          }
        },
        "e57774cc83ad42a59bdcc84d5b35e171": {
          "model_module": "@jupyter-widgets/controls",
          "model_name": "HTMLModel",
          "model_module_version": "1.5.0",
          "state": {
            "_dom_classes": [],
            "_model_module": "@jupyter-widgets/controls",
            "_model_module_version": "1.5.0",
            "_model_name": "HTMLModel",
            "_view_count": null,
            "_view_module": "@jupyter-widgets/controls",
            "_view_module_version": "1.5.0",
            "_view_name": "HTMLView",
            "description": "",
            "description_tooltip": null,
            "layout": "IPY_MODEL_3235fd8d5f6042cfab031840b020d9b9",
            "placeholder": "​",
            "style": "IPY_MODEL_2a412f5b5bf946449643ee7235e0e734",
            "value": "100%"
          }
        },
        "abf5719d1b34406bb6df49e9546e9a6b": {
          "model_module": "@jupyter-widgets/controls",
          "model_name": "FloatProgressModel",
          "model_module_version": "1.5.0",
          "state": {
            "_dom_classes": [],
            "_model_module": "@jupyter-widgets/controls",
            "_model_module_version": "1.5.0",
            "_model_name": "FloatProgressModel",
            "_view_count": null,
            "_view_module": "@jupyter-widgets/controls",
            "_view_module_version": "1.5.0",
            "_view_name": "ProgressView",
            "bar_style": "success",
            "description": "",
            "description_tooltip": null,
            "layout": "IPY_MODEL_9b3b1919417e45da980e824e3b8cb306",
            "max": 1648877,
            "min": 0,
            "orientation": "horizontal",
            "style": "IPY_MODEL_afcb86c109e44a039cb30b68b6d98c6f",
            "value": 1648877
          }
        },
        "dc911063610948ae9c3d23820e64d56b": {
          "model_module": "@jupyter-widgets/controls",
          "model_name": "HTMLModel",
          "model_module_version": "1.5.0",
          "state": {
            "_dom_classes": [],
            "_model_module": "@jupyter-widgets/controls",
            "_model_module_version": "1.5.0",
            "_model_name": "HTMLModel",
            "_view_count": null,
            "_view_module": "@jupyter-widgets/controls",
            "_view_module_version": "1.5.0",
            "_view_name": "HTMLView",
            "description": "",
            "description_tooltip": null,
            "layout": "IPY_MODEL_283e663c9cb947b590e14a1e4303752a",
            "placeholder": "​",
            "style": "IPY_MODEL_c2d04f8363814ec0ada41a0a2f0bcec0",
            "value": " 1648877/1648877 [00:00&lt;00:00, 12242541.00it/s]"
          }
        },
        "63a6341a572d4967bceaa5691526fb7d": {
          "model_module": "@jupyter-widgets/base",
          "model_name": "LayoutModel",
          "model_module_version": "1.2.0",
          "state": {
            "_model_module": "@jupyter-widgets/base",
            "_model_module_version": "1.2.0",
            "_model_name": "LayoutModel",
            "_view_count": null,
            "_view_module": "@jupyter-widgets/base",
            "_view_module_version": "1.2.0",
            "_view_name": "LayoutView",
            "align_content": null,
            "align_items": null,
            "align_self": null,
            "border": null,
            "bottom": null,
            "display": null,
            "flex": null,
            "flex_flow": null,
            "grid_area": null,
            "grid_auto_columns": null,
            "grid_auto_flow": null,
            "grid_auto_rows": null,
            "grid_column": null,
            "grid_gap": null,
            "grid_row": null,
            "grid_template_areas": null,
            "grid_template_columns": null,
            "grid_template_rows": null,
            "height": null,
            "justify_content": null,
            "justify_items": null,
            "left": null,
            "margin": null,
            "max_height": null,
            "max_width": null,
            "min_height": null,
            "min_width": null,
            "object_fit": null,
            "object_position": null,
            "order": null,
            "overflow": null,
            "overflow_x": null,
            "overflow_y": null,
            "padding": null,
            "right": null,
            "top": null,
            "visibility": null,
            "width": null
          }
        },
        "3235fd8d5f6042cfab031840b020d9b9": {
          "model_module": "@jupyter-widgets/base",
          "model_name": "LayoutModel",
          "model_module_version": "1.2.0",
          "state": {
            "_model_module": "@jupyter-widgets/base",
            "_model_module_version": "1.2.0",
            "_model_name": "LayoutModel",
            "_view_count": null,
            "_view_module": "@jupyter-widgets/base",
            "_view_module_version": "1.2.0",
            "_view_name": "LayoutView",
            "align_content": null,
            "align_items": null,
            "align_self": null,
            "border": null,
            "bottom": null,
            "display": null,
            "flex": null,
            "flex_flow": null,
            "grid_area": null,
            "grid_auto_columns": null,
            "grid_auto_flow": null,
            "grid_auto_rows": null,
            "grid_column": null,
            "grid_gap": null,
            "grid_row": null,
            "grid_template_areas": null,
            "grid_template_columns": null,
            "grid_template_rows": null,
            "height": null,
            "justify_content": null,
            "justify_items": null,
            "left": null,
            "margin": null,
            "max_height": null,
            "max_width": null,
            "min_height": null,
            "min_width": null,
            "object_fit": null,
            "object_position": null,
            "order": null,
            "overflow": null,
            "overflow_x": null,
            "overflow_y": null,
            "padding": null,
            "right": null,
            "top": null,
            "visibility": null,
            "width": null
          }
        },
        "2a412f5b5bf946449643ee7235e0e734": {
          "model_module": "@jupyter-widgets/controls",
          "model_name": "DescriptionStyleModel",
          "model_module_version": "1.5.0",
          "state": {
            "_model_module": "@jupyter-widgets/controls",
            "_model_module_version": "1.5.0",
            "_model_name": "DescriptionStyleModel",
            "_view_count": null,
            "_view_module": "@jupyter-widgets/base",
            "_view_module_version": "1.2.0",
            "_view_name": "StyleView",
            "description_width": ""
          }
        },
        "9b3b1919417e45da980e824e3b8cb306": {
          "model_module": "@jupyter-widgets/base",
          "model_name": "LayoutModel",
          "model_module_version": "1.2.0",
          "state": {
            "_model_module": "@jupyter-widgets/base",
            "_model_module_version": "1.2.0",
            "_model_name": "LayoutModel",
            "_view_count": null,
            "_view_module": "@jupyter-widgets/base",
            "_view_module_version": "1.2.0",
            "_view_name": "LayoutView",
            "align_content": null,
            "align_items": null,
            "align_self": null,
            "border": null,
            "bottom": null,
            "display": null,
            "flex": null,
            "flex_flow": null,
            "grid_area": null,
            "grid_auto_columns": null,
            "grid_auto_flow": null,
            "grid_auto_rows": null,
            "grid_column": null,
            "grid_gap": null,
            "grid_row": null,
            "grid_template_areas": null,
            "grid_template_columns": null,
            "grid_template_rows": null,
            "height": null,
            "justify_content": null,
            "justify_items": null,
            "left": null,
            "margin": null,
            "max_height": null,
            "max_width": null,
            "min_height": null,
            "min_width": null,
            "object_fit": null,
            "object_position": null,
            "order": null,
            "overflow": null,
            "overflow_x": null,
            "overflow_y": null,
            "padding": null,
            "right": null,
            "top": null,
            "visibility": null,
            "width": null
          }
        },
        "afcb86c109e44a039cb30b68b6d98c6f": {
          "model_module": "@jupyter-widgets/controls",
          "model_name": "ProgressStyleModel",
          "model_module_version": "1.5.0",
          "state": {
            "_model_module": "@jupyter-widgets/controls",
            "_model_module_version": "1.5.0",
            "_model_name": "ProgressStyleModel",
            "_view_count": null,
            "_view_module": "@jupyter-widgets/base",
            "_view_module_version": "1.2.0",
            "_view_name": "StyleView",
            "bar_color": null,
            "description_width": ""
          }
        },
        "283e663c9cb947b590e14a1e4303752a": {
          "model_module": "@jupyter-widgets/base",
          "model_name": "LayoutModel",
          "model_module_version": "1.2.0",
          "state": {
            "_model_module": "@jupyter-widgets/base",
            "_model_module_version": "1.2.0",
            "_model_name": "LayoutModel",
            "_view_count": null,
            "_view_module": "@jupyter-widgets/base",
            "_view_module_version": "1.2.0",
            "_view_name": "LayoutView",
            "align_content": null,
            "align_items": null,
            "align_self": null,
            "border": null,
            "bottom": null,
            "display": null,
            "flex": null,
            "flex_flow": null,
            "grid_area": null,
            "grid_auto_columns": null,
            "grid_auto_flow": null,
            "grid_auto_rows": null,
            "grid_column": null,
            "grid_gap": null,
            "grid_row": null,
            "grid_template_areas": null,
            "grid_template_columns": null,
            "grid_template_rows": null,
            "height": null,
            "justify_content": null,
            "justify_items": null,
            "left": null,
            "margin": null,
            "max_height": null,
            "max_width": null,
            "min_height": null,
            "min_width": null,
            "object_fit": null,
            "object_position": null,
            "order": null,
            "overflow": null,
            "overflow_x": null,
            "overflow_y": null,
            "padding": null,
            "right": null,
            "top": null,
            "visibility": null,
            "width": null
          }
        },
        "c2d04f8363814ec0ada41a0a2f0bcec0": {
          "model_module": "@jupyter-widgets/controls",
          "model_name": "DescriptionStyleModel",
          "model_module_version": "1.5.0",
          "state": {
            "_model_module": "@jupyter-widgets/controls",
            "_model_module_version": "1.5.0",
            "_model_name": "DescriptionStyleModel",
            "_view_count": null,
            "_view_module": "@jupyter-widgets/base",
            "_view_module_version": "1.2.0",
            "_view_name": "StyleView",
            "description_width": ""
          }
        },
        "f05f7619063945c3aee8e64d0290407d": {
          "model_module": "@jupyter-widgets/controls",
          "model_name": "HBoxModel",
          "model_module_version": "1.5.0",
          "state": {
            "_dom_classes": [],
            "_model_module": "@jupyter-widgets/controls",
            "_model_module_version": "1.5.0",
            "_model_name": "HBoxModel",
            "_view_count": null,
            "_view_module": "@jupyter-widgets/controls",
            "_view_module_version": "1.5.0",
            "_view_name": "HBoxView",
            "box_style": "",
            "children": [
              "IPY_MODEL_e316c12d0d854497a1dab8d409531af6",
              "IPY_MODEL_98df44d5f0b0474cb2b41f934b73167c",
              "IPY_MODEL_6d174081723e46c5a2a6bfafb64aa66c"
            ],
            "layout": "IPY_MODEL_de692c964a9e44a1b9e7310e4ac629f7"
          }
        },
        "e316c12d0d854497a1dab8d409531af6": {
          "model_module": "@jupyter-widgets/controls",
          "model_name": "HTMLModel",
          "model_module_version": "1.5.0",
          "state": {
            "_dom_classes": [],
            "_model_module": "@jupyter-widgets/controls",
            "_model_module_version": "1.5.0",
            "_model_name": "HTMLModel",
            "_view_count": null,
            "_view_module": "@jupyter-widgets/controls",
            "_view_module_version": "1.5.0",
            "_view_name": "HTMLView",
            "description": "",
            "description_tooltip": null,
            "layout": "IPY_MODEL_0627816077394e5abac16e5a317ae7ba",
            "placeholder": "​",
            "style": "IPY_MODEL_439ca44d3ad3401fbd729144b9fdab1e",
            "value": "100%"
          }
        },
        "98df44d5f0b0474cb2b41f934b73167c": {
          "model_module": "@jupyter-widgets/controls",
          "model_name": "FloatProgressModel",
          "model_module_version": "1.5.0",
          "state": {
            "_dom_classes": [],
            "_model_module": "@jupyter-widgets/controls",
            "_model_module_version": "1.5.0",
            "_model_name": "FloatProgressModel",
            "_view_count": null,
            "_view_module": "@jupyter-widgets/controls",
            "_view_module_version": "1.5.0",
            "_view_name": "ProgressView",
            "bar_style": "success",
            "description": "",
            "description_tooltip": null,
            "layout": "IPY_MODEL_2b557ab682ff4adf837d319c6327b3eb",
            "max": 4542,
            "min": 0,
            "orientation": "horizontal",
            "style": "IPY_MODEL_9a4aebb8d50a4f3abcc79d02bd09aa76",
            "value": 4542
          }
        },
        "6d174081723e46c5a2a6bfafb64aa66c": {
          "model_module": "@jupyter-widgets/controls",
          "model_name": "HTMLModel",
          "model_module_version": "1.5.0",
          "state": {
            "_dom_classes": [],
            "_model_module": "@jupyter-widgets/controls",
            "_model_module_version": "1.5.0",
            "_model_name": "HTMLModel",
            "_view_count": null,
            "_view_module": "@jupyter-widgets/controls",
            "_view_module_version": "1.5.0",
            "_view_name": "HTMLView",
            "description": "",
            "description_tooltip": null,
            "layout": "IPY_MODEL_ef9eceab344f426da9734ee31eee3c93",
            "placeholder": "​",
            "style": "IPY_MODEL_859a80c6a57747ce93b6dc99af4721c1",
            "value": " 4542/4542 [00:00&lt;00:00, 254179.89it/s]"
          }
        },
        "de692c964a9e44a1b9e7310e4ac629f7": {
          "model_module": "@jupyter-widgets/base",
          "model_name": "LayoutModel",
          "model_module_version": "1.2.0",
          "state": {
            "_model_module": "@jupyter-widgets/base",
            "_model_module_version": "1.2.0",
            "_model_name": "LayoutModel",
            "_view_count": null,
            "_view_module": "@jupyter-widgets/base",
            "_view_module_version": "1.2.0",
            "_view_name": "LayoutView",
            "align_content": null,
            "align_items": null,
            "align_self": null,
            "border": null,
            "bottom": null,
            "display": null,
            "flex": null,
            "flex_flow": null,
            "grid_area": null,
            "grid_auto_columns": null,
            "grid_auto_flow": null,
            "grid_auto_rows": null,
            "grid_column": null,
            "grid_gap": null,
            "grid_row": null,
            "grid_template_areas": null,
            "grid_template_columns": null,
            "grid_template_rows": null,
            "height": null,
            "justify_content": null,
            "justify_items": null,
            "left": null,
            "margin": null,
            "max_height": null,
            "max_width": null,
            "min_height": null,
            "min_width": null,
            "object_fit": null,
            "object_position": null,
            "order": null,
            "overflow": null,
            "overflow_x": null,
            "overflow_y": null,
            "padding": null,
            "right": null,
            "top": null,
            "visibility": null,
            "width": null
          }
        },
        "0627816077394e5abac16e5a317ae7ba": {
          "model_module": "@jupyter-widgets/base",
          "model_name": "LayoutModel",
          "model_module_version": "1.2.0",
          "state": {
            "_model_module": "@jupyter-widgets/base",
            "_model_module_version": "1.2.0",
            "_model_name": "LayoutModel",
            "_view_count": null,
            "_view_module": "@jupyter-widgets/base",
            "_view_module_version": "1.2.0",
            "_view_name": "LayoutView",
            "align_content": null,
            "align_items": null,
            "align_self": null,
            "border": null,
            "bottom": null,
            "display": null,
            "flex": null,
            "flex_flow": null,
            "grid_area": null,
            "grid_auto_columns": null,
            "grid_auto_flow": null,
            "grid_auto_rows": null,
            "grid_column": null,
            "grid_gap": null,
            "grid_row": null,
            "grid_template_areas": null,
            "grid_template_columns": null,
            "grid_template_rows": null,
            "height": null,
            "justify_content": null,
            "justify_items": null,
            "left": null,
            "margin": null,
            "max_height": null,
            "max_width": null,
            "min_height": null,
            "min_width": null,
            "object_fit": null,
            "object_position": null,
            "order": null,
            "overflow": null,
            "overflow_x": null,
            "overflow_y": null,
            "padding": null,
            "right": null,
            "top": null,
            "visibility": null,
            "width": null
          }
        },
        "439ca44d3ad3401fbd729144b9fdab1e": {
          "model_module": "@jupyter-widgets/controls",
          "model_name": "DescriptionStyleModel",
          "model_module_version": "1.5.0",
          "state": {
            "_model_module": "@jupyter-widgets/controls",
            "_model_module_version": "1.5.0",
            "_model_name": "DescriptionStyleModel",
            "_view_count": null,
            "_view_module": "@jupyter-widgets/base",
            "_view_module_version": "1.2.0",
            "_view_name": "StyleView",
            "description_width": ""
          }
        },
        "2b557ab682ff4adf837d319c6327b3eb": {
          "model_module": "@jupyter-widgets/base",
          "model_name": "LayoutModel",
          "model_module_version": "1.2.0",
          "state": {
            "_model_module": "@jupyter-widgets/base",
            "_model_module_version": "1.2.0",
            "_model_name": "LayoutModel",
            "_view_count": null,
            "_view_module": "@jupyter-widgets/base",
            "_view_module_version": "1.2.0",
            "_view_name": "LayoutView",
            "align_content": null,
            "align_items": null,
            "align_self": null,
            "border": null,
            "bottom": null,
            "display": null,
            "flex": null,
            "flex_flow": null,
            "grid_area": null,
            "grid_auto_columns": null,
            "grid_auto_flow": null,
            "grid_auto_rows": null,
            "grid_column": null,
            "grid_gap": null,
            "grid_row": null,
            "grid_template_areas": null,
            "grid_template_columns": null,
            "grid_template_rows": null,
            "height": null,
            "justify_content": null,
            "justify_items": null,
            "left": null,
            "margin": null,
            "max_height": null,
            "max_width": null,
            "min_height": null,
            "min_width": null,
            "object_fit": null,
            "object_position": null,
            "order": null,
            "overflow": null,
            "overflow_x": null,
            "overflow_y": null,
            "padding": null,
            "right": null,
            "top": null,
            "visibility": null,
            "width": null
          }
        },
        "9a4aebb8d50a4f3abcc79d02bd09aa76": {
          "model_module": "@jupyter-widgets/controls",
          "model_name": "ProgressStyleModel",
          "model_module_version": "1.5.0",
          "state": {
            "_model_module": "@jupyter-widgets/controls",
            "_model_module_version": "1.5.0",
            "_model_name": "ProgressStyleModel",
            "_view_count": null,
            "_view_module": "@jupyter-widgets/base",
            "_view_module_version": "1.2.0",
            "_view_name": "StyleView",
            "bar_color": null,
            "description_width": ""
          }
        },
        "ef9eceab344f426da9734ee31eee3c93": {
          "model_module": "@jupyter-widgets/base",
          "model_name": "LayoutModel",
          "model_module_version": "1.2.0",
          "state": {
            "_model_module": "@jupyter-widgets/base",
            "_model_module_version": "1.2.0",
            "_model_name": "LayoutModel",
            "_view_count": null,
            "_view_module": "@jupyter-widgets/base",
            "_view_module_version": "1.2.0",
            "_view_name": "LayoutView",
            "align_content": null,
            "align_items": null,
            "align_self": null,
            "border": null,
            "bottom": null,
            "display": null,
            "flex": null,
            "flex_flow": null,
            "grid_area": null,
            "grid_auto_columns": null,
            "grid_auto_flow": null,
            "grid_auto_rows": null,
            "grid_column": null,
            "grid_gap": null,
            "grid_row": null,
            "grid_template_areas": null,
            "grid_template_columns": null,
            "grid_template_rows": null,
            "height": null,
            "justify_content": null,
            "justify_items": null,
            "left": null,
            "margin": null,
            "max_height": null,
            "max_width": null,
            "min_height": null,
            "min_width": null,
            "object_fit": null,
            "object_position": null,
            "order": null,
            "overflow": null,
            "overflow_x": null,
            "overflow_y": null,
            "padding": null,
            "right": null,
            "top": null,
            "visibility": null,
            "width": null
          }
        },
        "859a80c6a57747ce93b6dc99af4721c1": {
          "model_module": "@jupyter-widgets/controls",
          "model_name": "DescriptionStyleModel",
          "model_module_version": "1.5.0",
          "state": {
            "_model_module": "@jupyter-widgets/controls",
            "_model_module_version": "1.5.0",
            "_model_name": "DescriptionStyleModel",
            "_view_count": null,
            "_view_module": "@jupyter-widgets/base",
            "_view_module_version": "1.2.0",
            "_view_name": "StyleView",
            "description_width": ""
          }
        }
      }
    }
  },
  "cells": [
    {
      "cell_type": "markdown",
      "metadata": {
        "id": "view-in-github",
        "colab_type": "text"
      },
      "source": [
        "<a href=\"https://colab.research.google.com/github/MPGarg/TSCAI2.5/blob/main/Pytorch_101_Assignment.ipynb\" target=\"_parent\"><img src=\"https://colab.research.google.com/assets/colab-badge.svg\" alt=\"Open In Colab\"/></a>"
      ]
    },
    {
      "cell_type": "code",
      "execution_count": 1,
      "metadata": {
        "id": "D-5sqR1ESBmE"
      },
      "outputs": [],
      "source": [
        "#import important libraries\n",
        "import torch\n",
        "import torchvision # provide access to datasets, models, transforms, utils, etc\n",
        "import torchvision.transforms as transforms"
      ]
    },
    {
      "cell_type": "code",
      "source": [
        "from torch.utils.data import Dataset"
      ],
      "metadata": {
        "id": "gCCNJun9kOiQ"
      },
      "execution_count": 2,
      "outputs": []
    },
    {
      "cell_type": "code",
      "source": [
        "# Download Mnist data\n",
        "train_set_mnist = torchvision.datasets.MNIST(\n",
        "    root='./data'\n",
        "    ,train=True\n",
        "    ,download=True\n",
        "    ,transform=transforms.Compose([\n",
        "        transforms.ToTensor(),\n",
        "        transforms.Normalize((0.1307,), (0.3081,))\n",
        "    ])\n",
        ")\n",
        "\n",
        "test_set_mnist = torchvision.datasets.MNIST(\n",
        "    root='./data'\n",
        "    ,train=False\n",
        "    ,download=True\n",
        "    ,transform=transforms.Compose([\n",
        "        transforms.ToTensor(),\n",
        "        transforms.Normalize((0.1307,), (0.3081,))\n",
        "    ])\n",
        ")"
      ],
      "metadata": {
        "id": "jYrOz-t_kX-B",
        "colab": {
          "base_uri": "https://localhost:8080/",
          "height": 423,
          "referenced_widgets": [
            "6789bcedcb2e4249ad4ddd677d66cce5",
            "db2594e5fc304ee78622aa6c6bb99ad3",
            "edcad5593f5d488cb3dfb1acbf94e073",
            "e3369f4957ae4aaf8b4fe8031ce0b3b4",
            "c15bfec2321948558b405c1fe24c7afe",
            "5934763d47e44b51a0d54312000bfdcf",
            "d907d27d12474e1f88e592293a33b8bd",
            "ce83707a129544afa0f54b11eeaab5d8",
            "90ae92ad60134506bfe049c3dda6313c",
            "46f5a8f59ec54b909c0d3afa48c93085",
            "9ae70b204ef54be18a946d993838b8ce",
            "cb0b8a4667804057a28f0b806f0c6e6d",
            "83edc4760ace41bfbea28edd9d7c15cf",
            "9a5c4b2cc2c84a8880ebdbe2b6a61ec5",
            "ab8a893a83bd4803aea8ee19a2bd1187",
            "e367927dd3114e16a9b96f1f2c51a95b",
            "5fc563abfa634744bd936bec4bce661b",
            "5f9028dc0b2e4b98b46da42c377912b5",
            "79c498c19dec438ab494c97ba670a7ae",
            "5ee325a609ed4558857d6b8a4a4edb86",
            "3f36684413ef4699a31a65f1a8e303b6",
            "6bf5e144cda844ecb1dd0dc83183e615",
            "878ec8e5291a410f8adb44e707a7ae74",
            "e57774cc83ad42a59bdcc84d5b35e171",
            "abf5719d1b34406bb6df49e9546e9a6b",
            "dc911063610948ae9c3d23820e64d56b",
            "63a6341a572d4967bceaa5691526fb7d",
            "3235fd8d5f6042cfab031840b020d9b9",
            "2a412f5b5bf946449643ee7235e0e734",
            "9b3b1919417e45da980e824e3b8cb306",
            "afcb86c109e44a039cb30b68b6d98c6f",
            "283e663c9cb947b590e14a1e4303752a",
            "c2d04f8363814ec0ada41a0a2f0bcec0",
            "f05f7619063945c3aee8e64d0290407d",
            "e316c12d0d854497a1dab8d409531af6",
            "98df44d5f0b0474cb2b41f934b73167c",
            "6d174081723e46c5a2a6bfafb64aa66c",
            "de692c964a9e44a1b9e7310e4ac629f7",
            "0627816077394e5abac16e5a317ae7ba",
            "439ca44d3ad3401fbd729144b9fdab1e",
            "2b557ab682ff4adf837d319c6327b3eb",
            "9a4aebb8d50a4f3abcc79d02bd09aa76",
            "ef9eceab344f426da9734ee31eee3c93",
            "859a80c6a57747ce93b6dc99af4721c1"
          ]
        },
        "outputId": "2029502a-1d19-4a97-9240-cf3cf7d9454a"
      },
      "execution_count": 3,
      "outputs": [
        {
          "output_type": "stream",
          "name": "stdout",
          "text": [
            "Downloading http://yann.lecun.com/exdb/mnist/train-images-idx3-ubyte.gz\n",
            "Downloading http://yann.lecun.com/exdb/mnist/train-images-idx3-ubyte.gz to ./data/MNIST/raw/train-images-idx3-ubyte.gz\n"
          ]
        },
        {
          "output_type": "display_data",
          "data": {
            "text/plain": [
              "  0%|          | 0/9912422 [00:00<?, ?it/s]"
            ],
            "application/vnd.jupyter.widget-view+json": {
              "version_major": 2,
              "version_minor": 0,
              "model_id": "6789bcedcb2e4249ad4ddd677d66cce5"
            }
          },
          "metadata": {}
        },
        {
          "output_type": "stream",
          "name": "stdout",
          "text": [
            "Extracting ./data/MNIST/raw/train-images-idx3-ubyte.gz to ./data/MNIST/raw\n",
            "\n",
            "Downloading http://yann.lecun.com/exdb/mnist/train-labels-idx1-ubyte.gz\n",
            "Downloading http://yann.lecun.com/exdb/mnist/train-labels-idx1-ubyte.gz to ./data/MNIST/raw/train-labels-idx1-ubyte.gz\n"
          ]
        },
        {
          "output_type": "display_data",
          "data": {
            "text/plain": [
              "  0%|          | 0/28881 [00:00<?, ?it/s]"
            ],
            "application/vnd.jupyter.widget-view+json": {
              "version_major": 2,
              "version_minor": 0,
              "model_id": "cb0b8a4667804057a28f0b806f0c6e6d"
            }
          },
          "metadata": {}
        },
        {
          "output_type": "stream",
          "name": "stdout",
          "text": [
            "Extracting ./data/MNIST/raw/train-labels-idx1-ubyte.gz to ./data/MNIST/raw\n",
            "\n",
            "Downloading http://yann.lecun.com/exdb/mnist/t10k-images-idx3-ubyte.gz\n",
            "Downloading http://yann.lecun.com/exdb/mnist/t10k-images-idx3-ubyte.gz to ./data/MNIST/raw/t10k-images-idx3-ubyte.gz\n"
          ]
        },
        {
          "output_type": "display_data",
          "data": {
            "text/plain": [
              "  0%|          | 0/1648877 [00:00<?, ?it/s]"
            ],
            "application/vnd.jupyter.widget-view+json": {
              "version_major": 2,
              "version_minor": 0,
              "model_id": "878ec8e5291a410f8adb44e707a7ae74"
            }
          },
          "metadata": {}
        },
        {
          "output_type": "stream",
          "name": "stdout",
          "text": [
            "Extracting ./data/MNIST/raw/t10k-images-idx3-ubyte.gz to ./data/MNIST/raw\n",
            "\n",
            "Downloading http://yann.lecun.com/exdb/mnist/t10k-labels-idx1-ubyte.gz\n",
            "Downloading http://yann.lecun.com/exdb/mnist/t10k-labels-idx1-ubyte.gz to ./data/MNIST/raw/t10k-labels-idx1-ubyte.gz\n"
          ]
        },
        {
          "output_type": "display_data",
          "data": {
            "text/plain": [
              "  0%|          | 0/4542 [00:00<?, ?it/s]"
            ],
            "application/vnd.jupyter.widget-view+json": {
              "version_major": 2,
              "version_minor": 0,
              "model_id": "f05f7619063945c3aee8e64d0290407d"
            }
          },
          "metadata": {}
        },
        {
          "output_type": "stream",
          "name": "stdout",
          "text": [
            "Extracting ./data/MNIST/raw/t10k-labels-idx1-ubyte.gz to ./data/MNIST/raw\n",
            "\n"
          ]
        }
      ]
    },
    {
      "cell_type": "code",
      "source": [
        "#create loader for testing\n",
        "train_loader_mnist = torch.utils.data.DataLoader(\n",
        "    train_set_mnist, \n",
        "    batch_size=32,\n",
        "    shuffle=True\n",
        ")"
      ],
      "metadata": {
        "id": "9pye_wGpkYAh"
      },
      "execution_count": 4,
      "outputs": []
    },
    {
      "cell_type": "code",
      "source": [
        "#set width to print\n",
        "import numpy as np\n",
        "import matplotlib.pyplot as plt\n",
        "\n",
        "torch.set_printoptions(linewidth=120)"
      ],
      "metadata": {
        "id": "1VeWAbhZkYDn"
      },
      "execution_count": 5,
      "outputs": []
    },
    {
      "cell_type": "code",
      "source": [
        "len(train_set_mnist), len(test_set_mnist)"
      ],
      "metadata": {
        "colab": {
          "base_uri": "https://localhost:8080/"
        },
        "id": "yLAD75EDkYFN",
        "outputId": "3c1b5384-4f48-4fce-a5ee-8d7c78e3742e"
      },
      "execution_count": 6,
      "outputs": [
        {
          "output_type": "execute_result",
          "data": {
            "text/plain": [
              "(60000, 10000)"
            ]
          },
          "metadata": {},
          "execution_count": 6
        }
      ]
    },
    {
      "cell_type": "code",
      "source": [
        "#distribution of data in MNIST\n",
        "train_set_mnist.targets.bincount(), test_set_mnist.targets.bincount()"
      ],
      "metadata": {
        "colab": {
          "base_uri": "https://localhost:8080/"
        },
        "id": "POe3kbwZkYJJ",
        "outputId": "9c828953-7d01-4310-8787-4f1dc1dfe583"
      },
      "execution_count": 7,
      "outputs": [
        {
          "output_type": "execute_result",
          "data": {
            "text/plain": [
              "(tensor([5923, 6742, 5958, 6131, 5842, 5421, 5918, 6265, 5851, 5949]),\n",
              " tensor([ 980, 1135, 1032, 1010,  982,  892,  958, 1028,  974, 1009]))"
            ]
          },
          "metadata": {},
          "execution_count": 7
        }
      ]
    },
    {
      "cell_type": "code",
      "source": [
        "#printing batch\n",
        "batch = next(iter(train_loader_mnist))\n",
        "images, labels = batch\n",
        "grid = torchvision.utils.make_grid(images, nrow=10)\n",
        "plt.figure(figsize=(15,15))\n",
        "plt.imshow(np.transpose(grid, (1,2,0)))\n",
        "print('labels:', labels)"
      ],
      "metadata": {
        "colab": {
          "base_uri": "https://localhost:8080/",
          "height": 424
        },
        "id": "PAAhZINPkYLs",
        "outputId": "97dfa536-fb74-43b8-ea69-eed88598a292"
      },
      "execution_count": 8,
      "outputs": [
        {
          "output_type": "stream",
          "name": "stderr",
          "text": [
            "WARNING:matplotlib.image:Clipping input data to the valid range for imshow with RGB data ([0..1] for floats or [0..255] for integers).\n"
          ]
        },
        {
          "output_type": "stream",
          "name": "stdout",
          "text": [
            "labels: tensor([4, 4, 0, 1, 6, 7, 2, 5, 2, 9, 0, 4, 4, 1, 9, 7, 5, 9, 8, 7, 4, 4, 8, 3, 9, 4, 2, 8, 7, 7, 0, 2])\n"
          ]
        },
        {
          "output_type": "display_data",
          "data": {
            "text/plain": [
              "<Figure size 1080x1080 with 1 Axes>"
            ],
            "image/png": "[encoded data removed]"
          },
          "metadata": {
            "needs_background": "light"
          }
        }
      ]
    },
    {
      "cell_type": "code",
      "source": [
        "#creating dataset of Random Numbers + MNIST = RandomNo_MNIST\n",
        "from torch.utils.data import Dataset\n",
        "import torch.nn.functional as F\n",
        "import torch.optim as optim\n",
        "\n",
        "class RandomNo_MNIST(Dataset):\n",
        "  def __init__(self, imageset):\n",
        "    self.imageset = imageset\n",
        "\n",
        "  def __getitem__(self, index):\n",
        "    rand_no_label = torch.randint(0, 10, (1,))            #number from 0 to 9\n",
        "    rand_no = F.one_hot(rand_no_label, num_classes=10)    #one hot encoding to be concatenated later\n",
        "    return { \"image\": self.imageset[index][0], \n",
        "              \"number\": rand_no,\n",
        "              \"label_image\": self.imageset[index][1],\n",
        "              \"label_num\": rand_no_label }      \n",
        "           #returning encoded data & label\n",
        "\n",
        "  def __len__(self):\n",
        "    return len(self.imageset)"
      ],
      "metadata": {
        "id": "Ur5iRG5XTdZm"
      },
      "execution_count": 9,
      "outputs": []
    },
    {
      "cell_type": "code",
      "source": [
        "randNo_train = RandomNo_MNIST(train_set_mnist)\n",
        "randNo_test = RandomNo_MNIST(test_set_mnist)\n",
        "\n",
        "len(randNo_train), len(randNo_test)"
      ],
      "metadata": {
        "colab": {
          "base_uri": "https://localhost:8080/"
        },
        "id": "HgiZhD7VTdbI",
        "outputId": "98f90fbe-a5a8-48f7-e5dc-d7f773aef735"
      },
      "execution_count": 10,
      "outputs": [
        {
          "output_type": "execute_result",
          "data": {
            "text/plain": [
              "(60000, 10000)"
            ]
          },
          "metadata": {},
          "execution_count": 10
        }
      ]
    },
    {
      "cell_type": "code",
      "source": [
        "#for checking loader\n",
        "train_loader_rand = torch.utils.data.DataLoader(\n",
        "    randNo_train, \n",
        "    batch_size = 2, \n",
        "    shuffle=True\n",
        ")"
      ],
      "metadata": {
        "id": "bHMCpxIZTde5"
      },
      "execution_count": 11,
      "outputs": []
    },
    {
      "cell_type": "code",
      "source": [
        "#print 1 batch\n",
        "for v in train_loader_rand:\n",
        "  print(v)\n",
        "  break"
      ],
      "metadata": {
        "colab": {
          "base_uri": "https://localhost:8080/"
        },
        "id": "-a0nLneynFfD",
        "outputId": "5e0b8fb8-8b1a-4a47-fef9-39cdbe2632ce"
      },
      "execution_count": 12,
      "outputs": [
        {
          "output_type": "stream",
          "name": "stdout",
          "text": [
            "{'image': tensor([[[[-0.4242, -0.4242, -0.4242,  ..., -0.4242, -0.4242, -0.4242],\n",
            "          [-0.4242, -0.4242, -0.4242,  ..., -0.4242, -0.4242, -0.4242],\n",
            "          [-0.4242, -0.4242, -0.4242,  ..., -0.4242, -0.4242, -0.4242],\n",
            "          ...,\n",
            "          [-0.4242, -0.4242, -0.4242,  ..., -0.4242, -0.4242, -0.4242],\n",
            "          [-0.4242, -0.4242, -0.4242,  ..., -0.4242, -0.4242, -0.4242],\n",
            "          [-0.4242, -0.4242, -0.4242,  ..., -0.4242, -0.4242, -0.4242]]],\n",
            "\n",
            "\n",
            "        [[[-0.4242, -0.4242, -0.4242,  ..., -0.4242, -0.4242, -0.4242],\n",
            "          [-0.4242, -0.4242, -0.4242,  ..., -0.4242, -0.4242, -0.4242],\n",
            "          [-0.4242, -0.4242, -0.4242,  ..., -0.4242, -0.4242, -0.4242],\n",
            "          ...,\n",
            "          [-0.4242, -0.4242, -0.4242,  ..., -0.4242, -0.4242, -0.4242],\n",
            "          [-0.4242, -0.4242, -0.4242,  ..., -0.4242, -0.4242, -0.4242],\n",
            "          [-0.4242, -0.4242, -0.4242,  ..., -0.4242, -0.4242, -0.4242]]]]), 'number': tensor([[[0, 0, 0, 0, 0, 0, 0, 0, 0, 1]],\n",
            "\n",
            "        [[0, 0, 1, 0, 0, 0, 0, 0, 0, 0]]]), 'label_image': tensor([3, 9]), 'label_num': tensor([[9],\n",
            "        [2]])}\n"
          ]
        }
      ]
    },
    {
      "cell_type": "code",
      "source": [
        "#get correct values\n",
        "def get_num_correct(preds, labels):\n",
        "  return preds.argmax(dim=1).eq(labels).sum().item()"
      ],
      "metadata": {
        "id": "Nze0We0edB3U"
      },
      "execution_count": 13,
      "outputs": []
    },
    {
      "cell_type": "code",
      "source": [
        "#Set CUDA if available\n",
        "device = torch.device(\"cuda\" if torch.cuda.is_available() else \"cpu\")\n",
        "print(device)"
      ],
      "metadata": {
        "colab": {
          "base_uri": "https://localhost:8080/"
        },
        "id": "XhAVa90TdB6I",
        "outputId": "f6b42b60-5ba6-4671-cdd7-cdd2d050e871"
      },
      "execution_count": 14,
      "outputs": [
        {
          "output_type": "stream",
          "name": "stdout",
          "text": [
            "cuda\n"
          ]
        }
      ]
    },
    {
      "cell_type": "code",
      "source": [
        "#create model\n",
        "import torch.nn as nn\n",
        "class Network(nn.Module):\n",
        "  def __init__(self):\n",
        "    super().__init__()\n",
        "    self.conv1 = nn.Conv2d(in_channels=1, out_channels=32, kernel_size=3)       \n",
        "    self.conv2 = nn.Conv2d(in_channels=32, out_channels=64, kernel_size=3)      \n",
        "    self.conv3 = nn.Conv2d(in_channels=64, out_channels=128, kernel_size=3)     \n",
        "    self.conv4 = nn.Conv2d(in_channels=128, out_channels=512, kernel_size=3)    \n",
        "    self.conv5 = nn.Conv2d(in_channels=512, out_channels=256, kernel_size=3)    \n",
        "    self.conv6 = nn.Conv2d(in_channels=256, out_channels=512, kernel_size=3)    \n",
        "    self.fc1 = nn.Linear(in_features=512 * 3 * 3, out_features=60)\n",
        "    self.out = nn.Linear(in_features=60, out_features=10)\n",
        "    self.fc2 = nn.Linear(in_features=20, out_features=100)\n",
        "    self.out2 = nn.Linear(in_features=100, out_features=19)\n",
        "    \n",
        "  def forward(self, t1, t2):          #input has 2 dataset\n",
        "    # input layer\n",
        "    x1 = t1\n",
        "    # conv1 layer\n",
        "    x1 = self.conv1(x1) # 28 -> 26 RF 3 In_Ch: 1  Out_Ch: 32\n",
        "    x1 = F.relu(x1)\n",
        "    x1 = self.conv2(x1) # 26 -> 24 RF 5 In_Ch: 32 Out_Ch: 64\n",
        "    x1 = F.relu(x1)\n",
        "    x1 = self.conv3(x1) # 24 > 22 RF 7  In_Ch: 64 Out_Ch: 128\n",
        "    x1 = F.relu(x1)\n",
        "    x1 = self.conv4(x1) # 22 > 20 RF 9  In_Ch: 128 Out_Ch: 512\n",
        "    x1 = F.relu(x1)\n",
        "    x1 = F.max_pool2d(x1, kernel_size=2, stride=2) # 20 > 10 RF 18 (assumption)\n",
        "    x1 = self.conv5(x1) # 10 > 8 RF 20  In_Ch: 512 Out_Ch: 256\n",
        "    x1 = F.relu(x1)\n",
        "    x1 = self.conv6(x1) # 8 > 6 RF 22   In_Ch: 256 Out_Ch: 512\n",
        "    x1 = F.relu(x1)\n",
        "    x1 = F.max_pool2d(x1, kernel_size=2, stride=2) # 6 > 3 RF 44 (assumption)\n",
        "    # reshapre\n",
        "    x1 = x1.reshape(-1, 512 * 3 * 3)  #512 Channel & 3x3 output\n",
        "    # fc1 layer\n",
        "    x1 = self.fc1(x1)                 #FC Layer Output: 60\n",
        "    x1 = F.relu(x1)\n",
        "    # output layer for MNIST\n",
        "    x1 = self.out(x1)                 #FC Layer Output: 10 (same as MNIST Classes)\n",
        "    #predict class to be used as Input for SUM; one hot encoding for predicted number\n",
        "    pred_cl_one = F.one_hot(torch.argmax(x1,dim=1), num_classes=10) \n",
        "    #concatenate first output & second input (we are using same batch number for both to be able to concatenate)\n",
        "    x2 = torch.cat((pred_cl_one,t2), dim=1) #concatenate second input t2 & predicted class of t1\n",
        "    x2 = x2.to(torch.float32)               #change dtype to allow data to pass to FC2\n",
        "    x2 = self.fc2(x2)                       #Passing to FC layer Output: 100\n",
        "    x2 = F.relu(x2)\n",
        "    # output layer for SUM\n",
        "    x2 = self.out2(x2)                      #Out layer for second input 100 & output: 19 (sum 0 to 18)\n",
        "    return x1, x2                           #return both output"
      ],
      "metadata": {
        "id": "WhPDIMGXlmcp"
      },
      "execution_count": 15,
      "outputs": []
    },
    {
      "cell_type": "code",
      "source": [
        "#run as test complete network\n",
        "network = Network()\n",
        "network.to(device)\n",
        "\n",
        "#batch size as 128\n",
        "train_loader_rand = torch.utils.data.DataLoader(\n",
        "    randNo_train, \n",
        "    batch_size=128,\n",
        "    shuffle=True\n",
        ")\n",
        "\n",
        "#batch size as 128\n",
        "test_loader_rand = torch.utils.data.DataLoader(\n",
        "    randNo_test, \n",
        "    batch_size = 128, \n",
        "    shuffle=True\n",
        ")\n",
        "\n",
        "#optimizer as Adam\n",
        "optimizer = optim.Adam(network.parameters(), lr=0.001)\n",
        "\n",
        "total_loss_mnist = 0\n",
        "total_correct_mnist = 0\n",
        "total_loss_sum = 0\n",
        "total_correct_sum = 0\n",
        "\n",
        "for batch in train_loader_rand: # Get Batch of image\n",
        "    images = batch['image'].to(device)                    #push data to GPU\n",
        "    labels_mnist = batch['label_image'].to(device) \n",
        "    randNum = batch['number'].to(device)\n",
        "    labels_ranNo = batch['label_num'].reshape(1,-1)\n",
        "    labels_ranNo= labels_ranNo.to(device)\n",
        "    preds_mnist, preds_sum = network(images,randNum.squeeze(1))      # Pass data to Network\n",
        "    labels_mnist = labels_mnist.to(device)\n",
        "    labels_ranNo = labels_ranNo.to(device)\n",
        "    labels_sum = labels_mnist + labels_ranNo              #creating labels for Sum\n",
        "    labels_sum = labels_sum.to(device)\n",
        "    loss_mnist = F.cross_entropy(preds_mnist, labels_mnist) # Calculate Loss for MNIST\n",
        "    loss_ranNo = F.cross_entropy(preds_sum, labels_sum.reshape(-1)) # Calculate Loss for Sum \n",
        "\n",
        "    loss = loss_mnist + loss_ranNo    #Total loss\n",
        "    optimizer.zero_grad()             \n",
        "    loss.backward()\n",
        "    optimizer.step() # Update Weights\n",
        "\n",
        "    #calculating loss and correct prediction\n",
        "    total_loss_mnist += loss_mnist.item()\n",
        "    total_correct_mnist += get_num_correct(preds_mnist, labels_mnist)\n",
        "    total_loss_sum += loss_ranNo.item()\n",
        "    total_correct_sum += get_num_correct(preds_sum, labels_sum)\n",
        "\n",
        "print(\n",
        "    \"epoch:\", 0, \n",
        "    \"Train tot_corr MNIST:\", total_correct_mnist / len(randNo_train) *100, \n",
        "    \"Train loss MNIST:\", total_loss_mnist,\n",
        "    \"Train tot_corr Sum:\", total_correct_sum / len(randNo_train) *100, \n",
        "    \"Train loss Sum:\", total_loss_sum    \n",
        ")\n",
        "\n",
        "total_loss_mnist_test = 0\n",
        "total_correct_mnist_test = 0\n",
        "total_loss_sum_test = 0\n",
        "total_correct_sum_test = 0\n",
        "\n",
        "with torch.no_grad():\n",
        "  for batch in test_loader_rand: # Get Batch of image\n",
        "      images = batch['image'].to(device)                    #push data to GPU\n",
        "      labels_mnist = batch['label_image'].to(device) \n",
        "      randNum = batch['number'].to(device)\n",
        "      labels_ranNo = batch['label_num'].reshape(1,-1)\n",
        "      labels_ranNo= labels_ranNo.to(device)\n",
        "      preds_mnist, preds_sum = network(images,randNum.squeeze(1))      # Pass data to Network\n",
        "      labels_mnist = labels_mnist.to(device)\n",
        "      labels_ranNo = labels_ranNo.to(device)\n",
        "      labels_sum = labels_mnist + labels_ranNo              #creating labels for Sum\n",
        "      labels_sum = labels_sum.to(device)\n",
        "      loss_mnist = F.cross_entropy(preds_mnist, labels_mnist) # Calculate Loss for MNIST\n",
        "      loss_ranNo = F.cross_entropy(preds_sum, labels_sum.reshape(-1)) # Calculate Loss for Sum \n",
        "    \n",
        "      #calculating loss and correct prediction\n",
        "      total_loss_mnist_test += loss_mnist.item()\n",
        "      total_correct_mnist_test += get_num_correct(preds_mnist, labels_mnist)\n",
        "      total_loss_sum_test += loss_ranNo.item()\n",
        "      total_correct_sum_test += get_num_correct(preds_sum, labels_sum)\n",
        "\n",
        "print(\n",
        "    \"epoch:\", 0, \n",
        "    \"Test tot_corr MNIST:\", total_correct_mnist_test / len(randNo_test) * 100, \n",
        "    \"Test loss MNIST:\", total_loss_mnist_test,\n",
        "    \"Test tot_corr Sum:\", total_correct_sum_test / len(randNo_test) * 100, \n",
        "    \"Test loss Sum:\", total_loss_sum_test    \n",
        ")"
      ],
      "metadata": {
        "colab": {
          "base_uri": "https://localhost:8080/"
        },
        "id": "EvX-Q0Jwmhy-",
        "outputId": "751093b0-7755-477b-a388-b99312c38afd"
      },
      "execution_count": 16,
      "outputs": [
        {
          "output_type": "stream",
          "name": "stdout",
          "text": [
            "epoch: 0 Train tot_corr MNIST: 94.55833333333334 Train loss MNIST: 79.30564502254128 Train tot_corr Sum: 64.50833333333334 Train loss Sum: 827.4804069399834\n",
            "epoch: 0 Test tot_corr MNIST: 98.45 Test loss MNIST: 3.772797047160566 Test tot_corr Sum: 98.45 Test loss Sum: 47.72263538837433\n"
          ]
        }
      ]
    },
    {
      "cell_type": "code",
      "source": [
        "#running multiple epochs\n",
        "network = Network()\n",
        "network.to(device)\n",
        "\n",
        "#batch size as 128\n",
        "train_loader_rand = torch.utils.data.DataLoader(\n",
        "    randNo_train, \n",
        "    batch_size=128,\n",
        "    shuffle=True\n",
        ")\n",
        "\n",
        "#batch size as 128\n",
        "test_loader_rand = torch.utils.data.DataLoader(\n",
        "    randNo_test, \n",
        "    batch_size = 128, \n",
        "    shuffle=True\n",
        ")\n",
        "\n",
        "optimizer = optim.Adam(network.parameters(), lr=0.001)\n",
        "\n",
        "for epoch in range(10):\n",
        "    total_loss_mnist = 0\n",
        "    total_correct_mnist = 0\n",
        "    total_loss_sum = 0\n",
        "    total_correct_sum = 0\n",
        "\n",
        "    for batch in train_loader_rand: # Get Batch of image\n",
        "        images = batch['image'].to(device)                    #push data to GPU\n",
        "        labels_mnist = batch['label_image'].to(device) \n",
        "        randNum = batch['number'].to(device)\n",
        "        labels_ranNo = batch['label_num'].reshape(1,-1)\n",
        "        labels_ranNo= labels_ranNo.to(device)\n",
        "        preds_mnist, preds_sum = network(images,randNum.squeeze(1))      # Pass data to Network\n",
        "        labels_mnist = labels_mnist.to(device)\n",
        "        labels_ranNo = labels_ranNo.to(device)\n",
        "        labels_sum = labels_mnist + labels_ranNo              #creating labels for Sum\n",
        "        labels_sum = labels_sum.to(device)\n",
        "        loss_mnist = F.cross_entropy(preds_mnist, labels_mnist) # Calculate Loss for MNIST\n",
        "        loss_ranNo = F.cross_entropy(preds_sum, labels_sum.reshape(-1)) # Calculate Loss for Sum \n",
        "\n",
        "        loss = loss_mnist + loss_ranNo    #Total loss\n",
        "        optimizer.zero_grad()             \n",
        "        loss.backward()\n",
        "        optimizer.step() # Update Weights\n",
        "\n",
        "        #calculating loss and correct prediction\n",
        "        total_loss_mnist += loss_mnist.item()\n",
        "        total_correct_mnist += get_num_correct(preds_mnist, labels_mnist)\n",
        "        total_loss_sum += loss_ranNo.item()\n",
        "        total_correct_sum += get_num_correct(preds_sum, labels_sum)\n",
        "\n",
        "    print(\n",
        "        \"epoch:\", epoch, \n",
        "        \"Train tot_corr MNIST %:\", total_correct_mnist / len(randNo_train) *100, \n",
        "        \"Train loss MNIST:\", total_loss_mnist,\n",
        "        \"Train tot_corr Sum %:\", total_correct_sum / len(randNo_train) *100, \n",
        "        \"Train loss Sum:\", total_loss_sum    \n",
        "    )\n",
        "\n",
        "    total_loss_mnist_test = 0\n",
        "    total_correct_mnist_test = 0\n",
        "    total_loss_sum_test = 0\n",
        "    total_correct_sum_test = 0\n",
        "\n",
        "    with torch.no_grad():\n",
        "      for batch in test_loader_rand: # Get Batch of image\n",
        "          images = batch['image'].to(device)                    #push data to GPU\n",
        "          labels_mnist = batch['label_image'].to(device) \n",
        "          randNum = batch['number'].to(device)\n",
        "          labels_ranNo = batch['label_num'].reshape(1,-1)\n",
        "          labels_ranNo= labels_ranNo.to(device)\n",
        "          preds_mnist, preds_sum = network(images,randNum.squeeze(1))      # Pass data to Network\n",
        "          labels_mnist = labels_mnist.to(device)\n",
        "          labels_ranNo = labels_ranNo.to(device)\n",
        "          labels_sum = labels_mnist + labels_ranNo              #creating labels for Sum\n",
        "          labels_sum = labels_sum.to(device)\n",
        "          loss_mnist = F.cross_entropy(preds_mnist, labels_mnist) # Calculate Loss for MNIST\n",
        "          loss_ranNo = F.cross_entropy(preds_sum, labels_sum.reshape(-1)) # Calculate Loss for Sum \n",
        "        \n",
        "          #calculating loss and correct prediction\n",
        "          total_loss_mnist_test += loss_mnist.item()\n",
        "          total_correct_mnist_test += get_num_correct(preds_mnist, labels_mnist)\n",
        "          total_loss_sum_test += loss_ranNo.item()\n",
        "          total_correct_sum_test += get_num_correct(preds_sum, labels_sum)\n",
        "\n",
        "    print(\n",
        "        \"epoch:\", epoch, \n",
        "        \"Test tot_corr MNIST %:\", total_correct_mnist_test / len(randNo_test) * 100, \n",
        "        \"Test loss MNIST:\", total_loss_mnist_test,\n",
        "        \"Test tot_corr Sum %:\", total_correct_sum_test / len(randNo_test) * 100, \n",
        "        \"Test loss Sum:\", total_loss_sum_test       \n",
        "    )"
      ],
      "metadata": {
        "id": "XFp3xszXmh1t",
        "colab": {
          "base_uri": "https://localhost:8080/"
        },
        "outputId": "56d38290-217a-4b2b-938f-e36f9370b229"
      },
      "execution_count": 17,
      "outputs": [
        {
          "output_type": "stream",
          "name": "stdout",
          "text": [
            "epoch: 0 Train tot_corr MNIST %: 94.23166666666667 Train loss MNIST: 86.60396303259768 Train tot_corr Sum %: 67.25333333333333 Train loss Sum: 809.5082572698593\n",
            "epoch: 0 Test tot_corr MNIST %: 98.83999999999999 Test loss MNIST: 3.2185338898561895 Test tot_corr Sum %: 98.83999999999999 Test loss Sum: 44.96534335613251\n",
            "epoch: 1 Train tot_corr MNIST %: 98.66166666666668 Train loss MNIST: 20.793909436557442 Train tot_corr Sum %: 98.66166666666668 Train loss Sum: 127.0894023925066\n",
            "epoch: 1 Test tot_corr MNIST %: 98.58 Test loss MNIST: 3.8268697489984334 Test tot_corr Sum %: 98.58 Test loss Sum: 12.657799944281578\n",
            "epoch: 2 Train tot_corr MNIST %: 99.03333333333333 Train loss MNIST: 14.753750488220248 Train tot_corr Sum %: 99.03333333333333 Train loss Sum: 49.22988087311387\n",
            "epoch: 2 Test tot_corr MNIST %: 99.27 Test loss MNIST: 1.804869832121767 Test tot_corr Sum %: 99.27 Test loss Sum: 6.021839441731572\n",
            "epoch: 3 Train tot_corr MNIST %: 99.245 Train loss MNIST: 11.522811119357357 Train tot_corr Sum %: 99.245 Train loss Sum: 34.245532259345055\n",
            "epoch: 3 Test tot_corr MNIST %: 99.2 Test loss MNIST: 2.1799985383986495 Test tot_corr Sum %: 99.2 Test loss Sum: 5.540668455883861\n",
            "epoch: 4 Train tot_corr MNIST %: 99.33 Train loss MNIST: 10.129474739151192 Train tot_corr Sum %: 99.33 Train loss Sum: 29.03645528666675\n",
            "epoch: 4 Test tot_corr MNIST %: 99.11 Test loss MNIST: 2.1563305882118584 Test tot_corr Sum %: 99.11 Test loss Sum: 5.799589280039072\n",
            "epoch: 5 Train tot_corr MNIST %: 99.42999999999999 Train loss MNIST: 8.389674488353194 Train tot_corr Sum %: 99.42999999999999 Train loss Sum: 24.501553795300424\n",
            "epoch: 5 Test tot_corr MNIST %: 99.39 Test loss MNIST: 1.5342049685241363 Test tot_corr Sum %: 99.39 Test loss Sum: 4.162360259331763\n",
            "epoch: 6 Train tot_corr MNIST %: 99.62333333333333 Train loss MNIST: 5.55380032202811 Train tot_corr Sum %: 99.62333333333333 Train loss Sum: 17.079430158715695\n",
            "epoch: 6 Test tot_corr MNIST %: 99.11 Test loss MNIST: 2.0837259993568296 Test tot_corr Sum %: 99.11 Test loss Sum: 5.513776679523289\n",
            "epoch: 7 Train tot_corr MNIST %: 99.64 Train loss MNIST: 5.270265967605155 Train tot_corr Sum %: 99.64 Train loss Sum: 15.915274323429912\n",
            "epoch: 7 Test tot_corr MNIST %: 99.4 Test loss MNIST: 1.9249262825105689 Test tot_corr Sum %: 99.4 Test loss Sum: 4.1438522301614285\n",
            "epoch: 8 Train tot_corr MNIST %: 99.64 Train loss MNIST: 5.426184152420319 Train tot_corr Sum %: 99.64 Train loss Sum: 15.47457795869559\n",
            "epoch: 8 Test tot_corr MNIST %: 99.28 Test loss MNIST: 2.025579225504771 Test tot_corr Sum %: 99.28 Test loss Sum: 4.8113120389170945\n",
            "epoch: 9 Train tot_corr MNIST %: 99.69666666666667 Train loss MNIST: 4.748829752238635 Train tot_corr Sum %: 99.69666666666667 Train loss Sum: 13.776212432421744\n",
            "epoch: 9 Test tot_corr MNIST %: 99.3 Test loss MNIST: 1.8955044914328028 Test tot_corr Sum %: 99.3 Test loss Sum: 4.568835635203868\n"
          ]
        }
      ]
    },
    {
      "cell_type": "code",
      "source": [],
      "metadata": {
        "id": "wFP8faEK1wXD"
      },
      "execution_count": 17,
      "outputs": []
    }
  ]
}