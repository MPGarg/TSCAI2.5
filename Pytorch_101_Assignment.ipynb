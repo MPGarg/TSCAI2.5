{
  "nbformat": 4,
  "nbformat_minor": 0,
  "metadata": {
    "colab": {
      "provenance": [],
      "authorship_tag": "ABX9TyNV/cQiOZYV1nRYIL66K+uY",
      "include_colab_link": true
    },
    "kernelspec": {
      "name": "python3",
      "display_name": "Python 3"
    },
    "language_info": {
      "name": "python"
    },
    "accelerator": "GPU",
    "gpuClass": "standard",
    "widgets": {
      "application/vnd.jupyter.widget-state+json": {
        "8b1e377157bf461da05259df2e979200": {
          "model_module": "@jupyter-widgets/controls",
          "model_name": "HBoxModel",
          "model_module_version": "1.5.0",
          "state": {
            "_dom_classes": [],
            "_model_module": "@jupyter-widgets/controls",
            "_model_module_version": "1.5.0",
            "_model_name": "HBoxModel",
            "_view_count": null,
            "_view_module": "@jupyter-widgets/controls",
            "_view_module_version": "1.5.0",
            "_view_name": "HBoxView",
            "box_style": "",
            "children": [
              "IPY_MODEL_bd6412e569114e42bad3b22897068507",
              "IPY_MODEL_d352bb7d94a545faa979e0e54504dd4a",
              "IPY_MODEL_456f3b5c919e41e1a98171996763864e"
            ],
            "layout": "IPY_MODEL_d1e9d0ecbe7543d3b8c0415ae5933507"
          }
        },
        "bd6412e569114e42bad3b22897068507": {
          "model_module": "@jupyter-widgets/controls",
          "model_name": "HTMLModel",
          "model_module_version": "1.5.0",
          "state": {
            "_dom_classes": [],
            "_model_module": "@jupyter-widgets/controls",
            "_model_module_version": "1.5.0",
            "_model_name": "HTMLModel",
            "_view_count": null,
            "_view_module": "@jupyter-widgets/controls",
            "_view_module_version": "1.5.0",
            "_view_name": "HTMLView",
            "description": "",
            "description_tooltip": null,
            "layout": "IPY_MODEL_09aa6a9af449483e89d510cccdff6379",
            "placeholder": "​",
            "style": "IPY_MODEL_94f05b2819ee48888fa719186f25f0c9",
            "value": "100%"
          }
        },
        "d352bb7d94a545faa979e0e54504dd4a": {
          "model_module": "@jupyter-widgets/controls",
          "model_name": "FloatProgressModel",
          "model_module_version": "1.5.0",
          "state": {
            "_dom_classes": [],
            "_model_module": "@jupyter-widgets/controls",
            "_model_module_version": "1.5.0",
            "_model_name": "FloatProgressModel",
            "_view_count": null,
            "_view_module": "@jupyter-widgets/controls",
            "_view_module_version": "1.5.0",
            "_view_name": "ProgressView",
            "bar_style": "success",
            "description": "",
            "description_tooltip": null,
            "layout": "IPY_MODEL_a467d21929a54cb8bbc2d5ab5d048971",
            "max": 9912422,
            "min": 0,
            "orientation": "horizontal",
            "style": "IPY_MODEL_d460f9f3a69a48f686fca33ad5ff7ed9",
            "value": 9912422
          }
        },
        "456f3b5c919e41e1a98171996763864e": {
          "model_module": "@jupyter-widgets/controls",
          "model_name": "HTMLModel",
          "model_module_version": "1.5.0",
          "state": {
            "_dom_classes": [],
            "_model_module": "@jupyter-widgets/controls",
            "_model_module_version": "1.5.0",
            "_model_name": "HTMLModel",
            "_view_count": null,
            "_view_module": "@jupyter-widgets/controls",
            "_view_module_version": "1.5.0",
            "_view_name": "HTMLView",
            "description": "",
            "description_tooltip": null,
            "layout": "IPY_MODEL_8a71ad6bb36344c0a623736d46418889",
            "placeholder": "​",
            "style": "IPY_MODEL_11139f3065e644ca833a0bb465492350",
            "value": " 9912422/9912422 [00:00&lt;00:00, 173511918.15it/s]"
          }
        },
        "d1e9d0ecbe7543d3b8c0415ae5933507": {
          "model_module": "@jupyter-widgets/base",
          "model_name": "LayoutModel",
          "model_module_version": "1.2.0",
          "state": {
            "_model_module": "@jupyter-widgets/base",
            "_model_module_version": "1.2.0",
            "_model_name": "LayoutModel",
            "_view_count": null,
            "_view_module": "@jupyter-widgets/base",
            "_view_module_version": "1.2.0",
            "_view_name": "LayoutView",
            "align_content": null,
            "align_items": null,
            "align_self": null,
            "border": null,
            "bottom": null,
            "display": null,
            "flex": null,
            "flex_flow": null,
            "grid_area": null,
            "grid_auto_columns": null,
            "grid_auto_flow": null,
            "grid_auto_rows": null,
            "grid_column": null,
            "grid_gap": null,
            "grid_row": null,
            "grid_template_areas": null,
            "grid_template_columns": null,
            "grid_template_rows": null,
            "height": null,
            "justify_content": null,
            "justify_items": null,
            "left": null,
            "margin": null,
            "max_height": null,
            "max_width": null,
            "min_height": null,
            "min_width": null,
            "object_fit": null,
            "object_position": null,
            "order": null,
            "overflow": null,
            "overflow_x": null,
            "overflow_y": null,
            "padding": null,
            "right": null,
            "top": null,
            "visibility": null,
            "width": null
          }
        },
        "09aa6a9af449483e89d510cccdff6379": {
          "model_module": "@jupyter-widgets/base",
          "model_name": "LayoutModel",
          "model_module_version": "1.2.0",
          "state": {
            "_model_module": "@jupyter-widgets/base",
            "_model_module_version": "1.2.0",
            "_model_name": "LayoutModel",
            "_view_count": null,
            "_view_module": "@jupyter-widgets/base",
            "_view_module_version": "1.2.0",
            "_view_name": "LayoutView",
            "align_content": null,
            "align_items": null,
            "align_self": null,
            "border": null,
            "bottom": null,
            "display": null,
            "flex": null,
            "flex_flow": null,
            "grid_area": null,
            "grid_auto_columns": null,
            "grid_auto_flow": null,
            "grid_auto_rows": null,
            "grid_column": null,
            "grid_gap": null,
            "grid_row": null,
            "grid_template_areas": null,
            "grid_template_columns": null,
            "grid_template_rows": null,
            "height": null,
            "justify_content": null,
            "justify_items": null,
            "left": null,
            "margin": null,
            "max_height": null,
            "max_width": null,
            "min_height": null,
            "min_width": null,
            "object_fit": null,
            "object_position": null,
            "order": null,
            "overflow": null,
            "overflow_x": null,
            "overflow_y": null,
            "padding": null,
            "right": null,
            "top": null,
            "visibility": null,
            "width": null
          }
        },
        "94f05b2819ee48888fa719186f25f0c9": {
          "model_module": "@jupyter-widgets/controls",
          "model_name": "DescriptionStyleModel",
          "model_module_version": "1.5.0",
          "state": {
            "_model_module": "@jupyter-widgets/controls",
            "_model_module_version": "1.5.0",
            "_model_name": "DescriptionStyleModel",
            "_view_count": null,
            "_view_module": "@jupyter-widgets/base",
            "_view_module_version": "1.2.0",
            "_view_name": "StyleView",
            "description_width": ""
          }
        },
        "a467d21929a54cb8bbc2d5ab5d048971": {
          "model_module": "@jupyter-widgets/base",
          "model_name": "LayoutModel",
          "model_module_version": "1.2.0",
          "state": {
            "_model_module": "@jupyter-widgets/base",
            "_model_module_version": "1.2.0",
            "_model_name": "LayoutModel",
            "_view_count": null,
            "_view_module": "@jupyter-widgets/base",
            "_view_module_version": "1.2.0",
            "_view_name": "LayoutView",
            "align_content": null,
            "align_items": null,
            "align_self": null,
            "border": null,
            "bottom": null,
            "display": null,
            "flex": null,
            "flex_flow": null,
            "grid_area": null,
            "grid_auto_columns": null,
            "grid_auto_flow": null,
            "grid_auto_rows": null,
            "grid_column": null,
            "grid_gap": null,
            "grid_row": null,
            "grid_template_areas": null,
            "grid_template_columns": null,
            "grid_template_rows": null,
            "height": null,
            "justify_content": null,
            "justify_items": null,
            "left": null,
            "margin": null,
            "max_height": null,
            "max_width": null,
            "min_height": null,
            "min_width": null,
            "object_fit": null,
            "object_position": null,
            "order": null,
            "overflow": null,
            "overflow_x": null,
            "overflow_y": null,
            "padding": null,
            "right": null,
            "top": null,
            "visibility": null,
            "width": null
          }
        },
        "d460f9f3a69a48f686fca33ad5ff7ed9": {
          "model_module": "@jupyter-widgets/controls",
          "model_name": "ProgressStyleModel",
          "model_module_version": "1.5.0",
          "state": {
            "_model_module": "@jupyter-widgets/controls",
            "_model_module_version": "1.5.0",
            "_model_name": "ProgressStyleModel",
            "_view_count": null,
            "_view_module": "@jupyter-widgets/base",
            "_view_module_version": "1.2.0",
            "_view_name": "StyleView",
            "bar_color": null,
            "description_width": ""
          }
        },
        "8a71ad6bb36344c0a623736d46418889": {
          "model_module": "@jupyter-widgets/base",
          "model_name": "LayoutModel",
          "model_module_version": "1.2.0",
          "state": {
            "_model_module": "@jupyter-widgets/base",
            "_model_module_version": "1.2.0",
            "_model_name": "LayoutModel",
            "_view_count": null,
            "_view_module": "@jupyter-widgets/base",
            "_view_module_version": "1.2.0",
            "_view_name": "LayoutView",
            "align_content": null,
            "align_items": null,
            "align_self": null,
            "border": null,
            "bottom": null,
            "display": null,
            "flex": null,
            "flex_flow": null,
            "grid_area": null,
            "grid_auto_columns": null,
            "grid_auto_flow": null,
            "grid_auto_rows": null,
            "grid_column": null,
            "grid_gap": null,
            "grid_row": null,
            "grid_template_areas": null,
            "grid_template_columns": null,
            "grid_template_rows": null,
            "height": null,
            "justify_content": null,
            "justify_items": null,
            "left": null,
            "margin": null,
            "max_height": null,
            "max_width": null,
            "min_height": null,
            "min_width": null,
            "object_fit": null,
            "object_position": null,
            "order": null,
            "overflow": null,
            "overflow_x": null,
            "overflow_y": null,
            "padding": null,
            "right": null,
            "top": null,
            "visibility": null,
            "width": null
          }
        },
        "11139f3065e644ca833a0bb465492350": {
          "model_module": "@jupyter-widgets/controls",
          "model_name": "DescriptionStyleModel",
          "model_module_version": "1.5.0",
          "state": {
            "_model_module": "@jupyter-widgets/controls",
            "_model_module_version": "1.5.0",
            "_model_name": "DescriptionStyleModel",
            "_view_count": null,
            "_view_module": "@jupyter-widgets/base",
            "_view_module_version": "1.2.0",
            "_view_name": "StyleView",
            "description_width": ""
          }
        },
        "45905647a3484274a99a5900dbdfa300": {
          "model_module": "@jupyter-widgets/controls",
          "model_name": "HBoxModel",
          "model_module_version": "1.5.0",
          "state": {
            "_dom_classes": [],
            "_model_module": "@jupyter-widgets/controls",
            "_model_module_version": "1.5.0",
            "_model_name": "HBoxModel",
            "_view_count": null,
            "_view_module": "@jupyter-widgets/controls",
            "_view_module_version": "1.5.0",
            "_view_name": "HBoxView",
            "box_style": "",
            "children": [
              "IPY_MODEL_8994747484b344ef8196891bd9b8a498",
              "IPY_MODEL_26d2b1b9c5744fac87a9db2c7f59fd6c",
              "IPY_MODEL_fd6e91b0b7474cfa8a9e9e63bd262982"
            ],
            "layout": "IPY_MODEL_9820df72bc60473da090351063740636"
          }
        },
        "8994747484b344ef8196891bd9b8a498": {
          "model_module": "@jupyter-widgets/controls",
          "model_name": "HTMLModel",
          "model_module_version": "1.5.0",
          "state": {
            "_dom_classes": [],
            "_model_module": "@jupyter-widgets/controls",
            "_model_module_version": "1.5.0",
            "_model_name": "HTMLModel",
            "_view_count": null,
            "_view_module": "@jupyter-widgets/controls",
            "_view_module_version": "1.5.0",
            "_view_name": "HTMLView",
            "description": "",
            "description_tooltip": null,
            "layout": "IPY_MODEL_bc379553092744adb27bae3e4cd1343f",
            "placeholder": "​",
            "style": "IPY_MODEL_dc51cb794587438688ae91902ebfeac5",
            "value": "100%"
          }
        },
        "26d2b1b9c5744fac87a9db2c7f59fd6c": {
          "model_module": "@jupyter-widgets/controls",
          "model_name": "FloatProgressModel",
          "model_module_version": "1.5.0",
          "state": {
            "_dom_classes": [],
            "_model_module": "@jupyter-widgets/controls",
            "_model_module_version": "1.5.0",
            "_model_name": "FloatProgressModel",
            "_view_count": null,
            "_view_module": "@jupyter-widgets/controls",
            "_view_module_version": "1.5.0",
            "_view_name": "ProgressView",
            "bar_style": "success",
            "description": "",
            "description_tooltip": null,
            "layout": "IPY_MODEL_4384aca077f24be29d61afec87239acf",
            "max": 28881,
            "min": 0,
            "orientation": "horizontal",
            "style": "IPY_MODEL_074e092e46c847a6b6b7035bfaaf792e",
            "value": 28881
          }
        },
        "fd6e91b0b7474cfa8a9e9e63bd262982": {
          "model_module": "@jupyter-widgets/controls",
          "model_name": "HTMLModel",
          "model_module_version": "1.5.0",
          "state": {
            "_dom_classes": [],
            "_model_module": "@jupyter-widgets/controls",
            "_model_module_version": "1.5.0",
            "_model_name": "HTMLModel",
            "_view_count": null,
            "_view_module": "@jupyter-widgets/controls",
            "_view_module_version": "1.5.0",
            "_view_name": "HTMLView",
            "description": "",
            "description_tooltip": null,
            "layout": "IPY_MODEL_ea7e019bc8844641be392baa06cc9afc",
            "placeholder": "​",
            "style": "IPY_MODEL_102caaf050bb40629f2a56978bfd1055",
            "value": " 28881/28881 [00:00&lt;00:00, 1821644.17it/s]"
          }
        },
        "9820df72bc60473da090351063740636": {
          "model_module": "@jupyter-widgets/base",
          "model_name": "LayoutModel",
          "model_module_version": "1.2.0",
          "state": {
            "_model_module": "@jupyter-widgets/base",
            "_model_module_version": "1.2.0",
            "_model_name": "LayoutModel",
            "_view_count": null,
            "_view_module": "@jupyter-widgets/base",
            "_view_module_version": "1.2.0",
            "_view_name": "LayoutView",
            "align_content": null,
            "align_items": null,
            "align_self": null,
            "border": null,
            "bottom": null,
            "display": null,
            "flex": null,
            "flex_flow": null,
            "grid_area": null,
            "grid_auto_columns": null,
            "grid_auto_flow": null,
            "grid_auto_rows": null,
            "grid_column": null,
            "grid_gap": null,
            "grid_row": null,
            "grid_template_areas": null,
            "grid_template_columns": null,
            "grid_template_rows": null,
            "height": null,
            "justify_content": null,
            "justify_items": null,
            "left": null,
            "margin": null,
            "max_height": null,
            "max_width": null,
            "min_height": null,
            "min_width": null,
            "object_fit": null,
            "object_position": null,
            "order": null,
            "overflow": null,
            "overflow_x": null,
            "overflow_y": null,
            "padding": null,
            "right": null,
            "top": null,
            "visibility": null,
            "width": null
          }
        },
        "bc379553092744adb27bae3e4cd1343f": {
          "model_module": "@jupyter-widgets/base",
          "model_name": "LayoutModel",
          "model_module_version": "1.2.0",
          "state": {
            "_model_module": "@jupyter-widgets/base",
            "_model_module_version": "1.2.0",
            "_model_name": "LayoutModel",
            "_view_count": null,
            "_view_module": "@jupyter-widgets/base",
            "_view_module_version": "1.2.0",
            "_view_name": "LayoutView",
            "align_content": null,
            "align_items": null,
            "align_self": null,
            "border": null,
            "bottom": null,
            "display": null,
            "flex": null,
            "flex_flow": null,
            "grid_area": null,
            "grid_auto_columns": null,
            "grid_auto_flow": null,
            "grid_auto_rows": null,
            "grid_column": null,
            "grid_gap": null,
            "grid_row": null,
            "grid_template_areas": null,
            "grid_template_columns": null,
            "grid_template_rows": null,
            "height": null,
            "justify_content": null,
            "justify_items": null,
            "left": null,
            "margin": null,
            "max_height": null,
            "max_width": null,
            "min_height": null,
            "min_width": null,
            "object_fit": null,
            "object_position": null,
            "order": null,
            "overflow": null,
            "overflow_x": null,
            "overflow_y": null,
            "padding": null,
            "right": null,
            "top": null,
            "visibility": null,
            "width": null
          }
        },
        "dc51cb794587438688ae91902ebfeac5": {
          "model_module": "@jupyter-widgets/controls",
          "model_name": "DescriptionStyleModel",
          "model_module_version": "1.5.0",
          "state": {
            "_model_module": "@jupyter-widgets/controls",
            "_model_module_version": "1.5.0",
            "_model_name": "DescriptionStyleModel",
            "_view_count": null,
            "_view_module": "@jupyter-widgets/base",
            "_view_module_version": "1.2.0",
            "_view_name": "StyleView",
            "description_width": ""
          }
        },
        "4384aca077f24be29d61afec87239acf": {
          "model_module": "@jupyter-widgets/base",
          "model_name": "LayoutModel",
          "model_module_version": "1.2.0",
          "state": {
            "_model_module": "@jupyter-widgets/base",
            "_model_module_version": "1.2.0",
            "_model_name": "LayoutModel",
            "_view_count": null,
            "_view_module": "@jupyter-widgets/base",
            "_view_module_version": "1.2.0",
            "_view_name": "LayoutView",
            "align_content": null,
            "align_items": null,
            "align_self": null,
            "border": null,
            "bottom": null,
            "display": null,
            "flex": null,
            "flex_flow": null,
            "grid_area": null,
            "grid_auto_columns": null,
            "grid_auto_flow": null,
            "grid_auto_rows": null,
            "grid_column": null,
            "grid_gap": null,
            "grid_row": null,
            "grid_template_areas": null,
            "grid_template_columns": null,
            "grid_template_rows": null,
            "height": null,
            "justify_content": null,
            "justify_items": null,
            "left": null,
            "margin": null,
            "max_height": null,
            "max_width": null,
            "min_height": null,
            "min_width": null,
            "object_fit": null,
            "object_position": null,
            "order": null,
            "overflow": null,
            "overflow_x": null,
            "overflow_y": null,
            "padding": null,
            "right": null,
            "top": null,
            "visibility": null,
            "width": null
          }
        },
        "074e092e46c847a6b6b7035bfaaf792e": {
          "model_module": "@jupyter-widgets/controls",
          "model_name": "ProgressStyleModel",
          "model_module_version": "1.5.0",
          "state": {
            "_model_module": "@jupyter-widgets/controls",
            "_model_module_version": "1.5.0",
            "_model_name": "ProgressStyleModel",
            "_view_count": null,
            "_view_module": "@jupyter-widgets/base",
            "_view_module_version": "1.2.0",
            "_view_name": "StyleView",
            "bar_color": null,
            "description_width": ""
          }
        },
        "ea7e019bc8844641be392baa06cc9afc": {
          "model_module": "@jupyter-widgets/base",
          "model_name": "LayoutModel",
          "model_module_version": "1.2.0",
          "state": {
            "_model_module": "@jupyter-widgets/base",
            "_model_module_version": "1.2.0",
            "_model_name": "LayoutModel",
            "_view_count": null,
            "_view_module": "@jupyter-widgets/base",
            "_view_module_version": "1.2.0",
            "_view_name": "LayoutView",
            "align_content": null,
            "align_items": null,
            "align_self": null,
            "border": null,
            "bottom": null,
            "display": null,
            "flex": null,
            "flex_flow": null,
            "grid_area": null,
            "grid_auto_columns": null,
            "grid_auto_flow": null,
            "grid_auto_rows": null,
            "grid_column": null,
            "grid_gap": null,
            "grid_row": null,
            "grid_template_areas": null,
            "grid_template_columns": null,
            "grid_template_rows": null,
            "height": null,
            "justify_content": null,
            "justify_items": null,
            "left": null,
            "margin": null,
            "max_height": null,
            "max_width": null,
            "min_height": null,
            "min_width": null,
            "object_fit": null,
            "object_position": null,
            "order": null,
            "overflow": null,
            "overflow_x": null,
            "overflow_y": null,
            "padding": null,
            "right": null,
            "top": null,
            "visibility": null,
            "width": null
          }
        },
        "102caaf050bb40629f2a56978bfd1055": {
          "model_module": "@jupyter-widgets/controls",
          "model_name": "DescriptionStyleModel",
          "model_module_version": "1.5.0",
          "state": {
            "_model_module": "@jupyter-widgets/controls",
            "_model_module_version": "1.5.0",
            "_model_name": "DescriptionStyleModel",
            "_view_count": null,
            "_view_module": "@jupyter-widgets/base",
            "_view_module_version": "1.2.0",
            "_view_name": "StyleView",
            "description_width": ""
          }
        },
        "ffde2bc6e17d4251895aed1ba62686f9": {
          "model_module": "@jupyter-widgets/controls",
          "model_name": "HBoxModel",
          "model_module_version": "1.5.0",
          "state": {
            "_dom_classes": [],
            "_model_module": "@jupyter-widgets/controls",
            "_model_module_version": "1.5.0",
            "_model_name": "HBoxModel",
            "_view_count": null,
            "_view_module": "@jupyter-widgets/controls",
            "_view_module_version": "1.5.0",
            "_view_name": "HBoxView",
            "box_style": "",
            "children": [
              "IPY_MODEL_31db4231bae14021aa4702bdc9bc9b81",
              "IPY_MODEL_799710b7156740eaa9c6fad6d7c11357",
              "IPY_MODEL_4009a93770824b9cbaa15de26be43f4c"
            ],
            "layout": "IPY_MODEL_c0f472e8d9664d1f8a54324b3fce1f7e"
          }
        },
        "31db4231bae14021aa4702bdc9bc9b81": {
          "model_module": "@jupyter-widgets/controls",
          "model_name": "HTMLModel",
          "model_module_version": "1.5.0",
          "state": {
            "_dom_classes": [],
            "_model_module": "@jupyter-widgets/controls",
            "_model_module_version": "1.5.0",
            "_model_name": "HTMLModel",
            "_view_count": null,
            "_view_module": "@jupyter-widgets/controls",
            "_view_module_version": "1.5.0",
            "_view_name": "HTMLView",
            "description": "",
            "description_tooltip": null,
            "layout": "IPY_MODEL_df215e5d6d72423fa0a98cc2fbf685fa",
            "placeholder": "​",
            "style": "IPY_MODEL_d592d8d8fcdc43d28053d11cb42229f9",
            "value": "100%"
          }
        },
        "799710b7156740eaa9c6fad6d7c11357": {
          "model_module": "@jupyter-widgets/controls",
          "model_name": "FloatProgressModel",
          "model_module_version": "1.5.0",
          "state": {
            "_dom_classes": [],
            "_model_module": "@jupyter-widgets/controls",
            "_model_module_version": "1.5.0",
            "_model_name": "FloatProgressModel",
            "_view_count": null,
            "_view_module": "@jupyter-widgets/controls",
            "_view_module_version": "1.5.0",
            "_view_name": "ProgressView",
            "bar_style": "success",
            "description": "",
            "description_tooltip": null,
            "layout": "IPY_MODEL_121b27314bf24905a8e73cb10b14b3ef",
            "max": 1648877,
            "min": 0,
            "orientation": "horizontal",
            "style": "IPY_MODEL_e84a6d69a2874405a873124604ec7f29",
            "value": 1648877
          }
        },
        "4009a93770824b9cbaa15de26be43f4c": {
          "model_module": "@jupyter-widgets/controls",
          "model_name": "HTMLModel",
          "model_module_version": "1.5.0",
          "state": {
            "_dom_classes": [],
            "_model_module": "@jupyter-widgets/controls",
            "_model_module_version": "1.5.0",
            "_model_name": "HTMLModel",
            "_view_count": null,
            "_view_module": "@jupyter-widgets/controls",
            "_view_module_version": "1.5.0",
            "_view_name": "HTMLView",
            "description": "",
            "description_tooltip": null,
            "layout": "IPY_MODEL_fced7d762e1041859432ebe452618777",
            "placeholder": "​",
            "style": "IPY_MODEL_036af205d4674846a4f4a2e855eeca96",
            "value": " 1648877/1648877 [00:00&lt;00:00, 67508335.17it/s]"
          }
        },
        "c0f472e8d9664d1f8a54324b3fce1f7e": {
          "model_module": "@jupyter-widgets/base",
          "model_name": "LayoutModel",
          "model_module_version": "1.2.0",
          "state": {
            "_model_module": "@jupyter-widgets/base",
            "_model_module_version": "1.2.0",
            "_model_name": "LayoutModel",
            "_view_count": null,
            "_view_module": "@jupyter-widgets/base",
            "_view_module_version": "1.2.0",
            "_view_name": "LayoutView",
            "align_content": null,
            "align_items": null,
            "align_self": null,
            "border": null,
            "bottom": null,
            "display": null,
            "flex": null,
            "flex_flow": null,
            "grid_area": null,
            "grid_auto_columns": null,
            "grid_auto_flow": null,
            "grid_auto_rows": null,
            "grid_column": null,
            "grid_gap": null,
            "grid_row": null,
            "grid_template_areas": null,
            "grid_template_columns": null,
            "grid_template_rows": null,
            "height": null,
            "justify_content": null,
            "justify_items": null,
            "left": null,
            "margin": null,
            "max_height": null,
            "max_width": null,
            "min_height": null,
            "min_width": null,
            "object_fit": null,
            "object_position": null,
            "order": null,
            "overflow": null,
            "overflow_x": null,
            "overflow_y": null,
            "padding": null,
            "right": null,
            "top": null,
            "visibility": null,
            "width": null
          }
        },
        "df215e5d6d72423fa0a98cc2fbf685fa": {
          "model_module": "@jupyter-widgets/base",
          "model_name": "LayoutModel",
          "model_module_version": "1.2.0",
          "state": {
            "_model_module": "@jupyter-widgets/base",
            "_model_module_version": "1.2.0",
            "_model_name": "LayoutModel",
            "_view_count": null,
            "_view_module": "@jupyter-widgets/base",
            "_view_module_version": "1.2.0",
            "_view_name": "LayoutView",
            "align_content": null,
            "align_items": null,
            "align_self": null,
            "border": null,
            "bottom": null,
            "display": null,
            "flex": null,
            "flex_flow": null,
            "grid_area": null,
            "grid_auto_columns": null,
            "grid_auto_flow": null,
            "grid_auto_rows": null,
            "grid_column": null,
            "grid_gap": null,
            "grid_row": null,
            "grid_template_areas": null,
            "grid_template_columns": null,
            "grid_template_rows": null,
            "height": null,
            "justify_content": null,
            "justify_items": null,
            "left": null,
            "margin": null,
            "max_height": null,
            "max_width": null,
            "min_height": null,
            "min_width": null,
            "object_fit": null,
            "object_position": null,
            "order": null,
            "overflow": null,
            "overflow_x": null,
            "overflow_y": null,
            "padding": null,
            "right": null,
            "top": null,
            "visibility": null,
            "width": null
          }
        },
        "d592d8d8fcdc43d28053d11cb42229f9": {
          "model_module": "@jupyter-widgets/controls",
          "model_name": "DescriptionStyleModel",
          "model_module_version": "1.5.0",
          "state": {
            "_model_module": "@jupyter-widgets/controls",
            "_model_module_version": "1.5.0",
            "_model_name": "DescriptionStyleModel",
            "_view_count": null,
            "_view_module": "@jupyter-widgets/base",
            "_view_module_version": "1.2.0",
            "_view_name": "StyleView",
            "description_width": ""
          }
        },
        "121b27314bf24905a8e73cb10b14b3ef": {
          "model_module": "@jupyter-widgets/base",
          "model_name": "LayoutModel",
          "model_module_version": "1.2.0",
          "state": {
            "_model_module": "@jupyter-widgets/base",
            "_model_module_version": "1.2.0",
            "_model_name": "LayoutModel",
            "_view_count": null,
            "_view_module": "@jupyter-widgets/base",
            "_view_module_version": "1.2.0",
            "_view_name": "LayoutView",
            "align_content": null,
            "align_items": null,
            "align_self": null,
            "border": null,
            "bottom": null,
            "display": null,
            "flex": null,
            "flex_flow": null,
            "grid_area": null,
            "grid_auto_columns": null,
            "grid_auto_flow": null,
            "grid_auto_rows": null,
            "grid_column": null,
            "grid_gap": null,
            "grid_row": null,
            "grid_template_areas": null,
            "grid_template_columns": null,
            "grid_template_rows": null,
            "height": null,
            "justify_content": null,
            "justify_items": null,
            "left": null,
            "margin": null,
            "max_height": null,
            "max_width": null,
            "min_height": null,
            "min_width": null,
            "object_fit": null,
            "object_position": null,
            "order": null,
            "overflow": null,
            "overflow_x": null,
            "overflow_y": null,
            "padding": null,
            "right": null,
            "top": null,
            "visibility": null,
            "width": null
          }
        },
        "e84a6d69a2874405a873124604ec7f29": {
          "model_module": "@jupyter-widgets/controls",
          "model_name": "ProgressStyleModel",
          "model_module_version": "1.5.0",
          "state": {
            "_model_module": "@jupyter-widgets/controls",
            "_model_module_version": "1.5.0",
            "_model_name": "ProgressStyleModel",
            "_view_count": null,
            "_view_module": "@jupyter-widgets/base",
            "_view_module_version": "1.2.0",
            "_view_name": "StyleView",
            "bar_color": null,
            "description_width": ""
          }
        },
        "fced7d762e1041859432ebe452618777": {
          "model_module": "@jupyter-widgets/base",
          "model_name": "LayoutModel",
          "model_module_version": "1.2.0",
          "state": {
            "_model_module": "@jupyter-widgets/base",
            "_model_module_version": "1.2.0",
            "_model_name": "LayoutModel",
            "_view_count": null,
            "_view_module": "@jupyter-widgets/base",
            "_view_module_version": "1.2.0",
            "_view_name": "LayoutView",
            "align_content": null,
            "align_items": null,
            "align_self": null,
            "border": null,
            "bottom": null,
            "display": null,
            "flex": null,
            "flex_flow": null,
            "grid_area": null,
            "grid_auto_columns": null,
            "grid_auto_flow": null,
            "grid_auto_rows": null,
            "grid_column": null,
            "grid_gap": null,
            "grid_row": null,
            "grid_template_areas": null,
            "grid_template_columns": null,
            "grid_template_rows": null,
            "height": null,
            "justify_content": null,
            "justify_items": null,
            "left": null,
            "margin": null,
            "max_height": null,
            "max_width": null,
            "min_height": null,
            "min_width": null,
            "object_fit": null,
            "object_position": null,
            "order": null,
            "overflow": null,
            "overflow_x": null,
            "overflow_y": null,
            "padding": null,
            "right": null,
            "top": null,
            "visibility": null,
            "width": null
          }
        },
        "036af205d4674846a4f4a2e855eeca96": {
          "model_module": "@jupyter-widgets/controls",
          "model_name": "DescriptionStyleModel",
          "model_module_version": "1.5.0",
          "state": {
            "_model_module": "@jupyter-widgets/controls",
            "_model_module_version": "1.5.0",
            "_model_name": "DescriptionStyleModel",
            "_view_count": null,
            "_view_module": "@jupyter-widgets/base",
            "_view_module_version": "1.2.0",
            "_view_name": "StyleView",
            "description_width": ""
          }
        },
        "1e1347b659134eea806d68e49f77cd2e": {
          "model_module": "@jupyter-widgets/controls",
          "model_name": "HBoxModel",
          "model_module_version": "1.5.0",
          "state": {
            "_dom_classes": [],
            "_model_module": "@jupyter-widgets/controls",
            "_model_module_version": "1.5.0",
            "_model_name": "HBoxModel",
            "_view_count": null,
            "_view_module": "@jupyter-widgets/controls",
            "_view_module_version": "1.5.0",
            "_view_name": "HBoxView",
            "box_style": "",
            "children": [
              "IPY_MODEL_67fcf3455c57467fb3d3183ba9b4868a",
              "IPY_MODEL_ba46f92984464b5894b1f4268cb6c68d",
              "IPY_MODEL_1da51d90c5fe426f801fd09d271299d4"
            ],
            "layout": "IPY_MODEL_7718f20789df43539e68ec91feaa4ec3"
          }
        },
        "67fcf3455c57467fb3d3183ba9b4868a": {
          "model_module": "@jupyter-widgets/controls",
          "model_name": "HTMLModel",
          "model_module_version": "1.5.0",
          "state": {
            "_dom_classes": [],
            "_model_module": "@jupyter-widgets/controls",
            "_model_module_version": "1.5.0",
            "_model_name": "HTMLModel",
            "_view_count": null,
            "_view_module": "@jupyter-widgets/controls",
            "_view_module_version": "1.5.0",
            "_view_name": "HTMLView",
            "description": "",
            "description_tooltip": null,
            "layout": "IPY_MODEL_7f2c95b66496453b9833a53e770f1dca",
            "placeholder": "​",
            "style": "IPY_MODEL_b739a93cf2bd4bd7b41e127845f221b9",
            "value": "100%"
          }
        },
        "ba46f92984464b5894b1f4268cb6c68d": {
          "model_module": "@jupyter-widgets/controls",
          "model_name": "FloatProgressModel",
          "model_module_version": "1.5.0",
          "state": {
            "_dom_classes": [],
            "_model_module": "@jupyter-widgets/controls",
            "_model_module_version": "1.5.0",
            "_model_name": "FloatProgressModel",
            "_view_count": null,
            "_view_module": "@jupyter-widgets/controls",
            "_view_module_version": "1.5.0",
            "_view_name": "ProgressView",
            "bar_style": "success",
            "description": "",
            "description_tooltip": null,
            "layout": "IPY_MODEL_7d960bd9772e413f94be0bb3adb760ce",
            "max": 4542,
            "min": 0,
            "orientation": "horizontal",
            "style": "IPY_MODEL_18b2322fe69f49ddb468cec5339f5fb2",
            "value": 4542
          }
        },
        "1da51d90c5fe426f801fd09d271299d4": {
          "model_module": "@jupyter-widgets/controls",
          "model_name": "HTMLModel",
          "model_module_version": "1.5.0",
          "state": {
            "_dom_classes": [],
            "_model_module": "@jupyter-widgets/controls",
            "_model_module_version": "1.5.0",
            "_model_name": "HTMLModel",
            "_view_count": null,
            "_view_module": "@jupyter-widgets/controls",
            "_view_module_version": "1.5.0",
            "_view_name": "HTMLView",
            "description": "",
            "description_tooltip": null,
            "layout": "IPY_MODEL_e77171d0b6c048838693b0187a7666b7",
            "placeholder": "​",
            "style": "IPY_MODEL_cc554f4bc92f4e809cc4ab7ad133b3bb",
            "value": " 4542/4542 [00:00&lt;00:00, 173246.47it/s]"
          }
        },
        "7718f20789df43539e68ec91feaa4ec3": {
          "model_module": "@jupyter-widgets/base",
          "model_name": "LayoutModel",
          "model_module_version": "1.2.0",
          "state": {
            "_model_module": "@jupyter-widgets/base",
            "_model_module_version": "1.2.0",
            "_model_name": "LayoutModel",
            "_view_count": null,
            "_view_module": "@jupyter-widgets/base",
            "_view_module_version": "1.2.0",
            "_view_name": "LayoutView",
            "align_content": null,
            "align_items": null,
            "align_self": null,
            "border": null,
            "bottom": null,
            "display": null,
            "flex": null,
            "flex_flow": null,
            "grid_area": null,
            "grid_auto_columns": null,
            "grid_auto_flow": null,
            "grid_auto_rows": null,
            "grid_column": null,
            "grid_gap": null,
            "grid_row": null,
            "grid_template_areas": null,
            "grid_template_columns": null,
            "grid_template_rows": null,
            "height": null,
            "justify_content": null,
            "justify_items": null,
            "left": null,
            "margin": null,
            "max_height": null,
            "max_width": null,
            "min_height": null,
            "min_width": null,
            "object_fit": null,
            "object_position": null,
            "order": null,
            "overflow": null,
            "overflow_x": null,
            "overflow_y": null,
            "padding": null,
            "right": null,
            "top": null,
            "visibility": null,
            "width": null
          }
        },
        "7f2c95b66496453b9833a53e770f1dca": {
          "model_module": "@jupyter-widgets/base",
          "model_name": "LayoutModel",
          "model_module_version": "1.2.0",
          "state": {
            "_model_module": "@jupyter-widgets/base",
            "_model_module_version": "1.2.0",
            "_model_name": "LayoutModel",
            "_view_count": null,
            "_view_module": "@jupyter-widgets/base",
            "_view_module_version": "1.2.0",
            "_view_name": "LayoutView",
            "align_content": null,
            "align_items": null,
            "align_self": null,
            "border": null,
            "bottom": null,
            "display": null,
            "flex": null,
            "flex_flow": null,
            "grid_area": null,
            "grid_auto_columns": null,
            "grid_auto_flow": null,
            "grid_auto_rows": null,
            "grid_column": null,
            "grid_gap": null,
            "grid_row": null,
            "grid_template_areas": null,
            "grid_template_columns": null,
            "grid_template_rows": null,
            "height": null,
            "justify_content": null,
            "justify_items": null,
            "left": null,
            "margin": null,
            "max_height": null,
            "max_width": null,
            "min_height": null,
            "min_width": null,
            "object_fit": null,
            "object_position": null,
            "order": null,
            "overflow": null,
            "overflow_x": null,
            "overflow_y": null,
            "padding": null,
            "right": null,
            "top": null,
            "visibility": null,
            "width": null
          }
        },
        "b739a93cf2bd4bd7b41e127845f221b9": {
          "model_module": "@jupyter-widgets/controls",
          "model_name": "DescriptionStyleModel",
          "model_module_version": "1.5.0",
          "state": {
            "_model_module": "@jupyter-widgets/controls",
            "_model_module_version": "1.5.0",
            "_model_name": "DescriptionStyleModel",
            "_view_count": null,
            "_view_module": "@jupyter-widgets/base",
            "_view_module_version": "1.2.0",
            "_view_name": "StyleView",
            "description_width": ""
          }
        },
        "7d960bd9772e413f94be0bb3adb760ce": {
          "model_module": "@jupyter-widgets/base",
          "model_name": "LayoutModel",
          "model_module_version": "1.2.0",
          "state": {
            "_model_module": "@jupyter-widgets/base",
            "_model_module_version": "1.2.0",
            "_model_name": "LayoutModel",
            "_view_count": null,
            "_view_module": "@jupyter-widgets/base",
            "_view_module_version": "1.2.0",
            "_view_name": "LayoutView",
            "align_content": null,
            "align_items": null,
            "align_self": null,
            "border": null,
            "bottom": null,
            "display": null,
            "flex": null,
            "flex_flow": null,
            "grid_area": null,
            "grid_auto_columns": null,
            "grid_auto_flow": null,
            "grid_auto_rows": null,
            "grid_column": null,
            "grid_gap": null,
            "grid_row": null,
            "grid_template_areas": null,
            "grid_template_columns": null,
            "grid_template_rows": null,
            "height": null,
            "justify_content": null,
            "justify_items": null,
            "left": null,
            "margin": null,
            "max_height": null,
            "max_width": null,
            "min_height": null,
            "min_width": null,
            "object_fit": null,
            "object_position": null,
            "order": null,
            "overflow": null,
            "overflow_x": null,
            "overflow_y": null,
            "padding": null,
            "right": null,
            "top": null,
            "visibility": null,
            "width": null
          }
        },
        "18b2322fe69f49ddb468cec5339f5fb2": {
          "model_module": "@jupyter-widgets/controls",
          "model_name": "ProgressStyleModel",
          "model_module_version": "1.5.0",
          "state": {
            "_model_module": "@jupyter-widgets/controls",
            "_model_module_version": "1.5.0",
            "_model_name": "ProgressStyleModel",
            "_view_count": null,
            "_view_module": "@jupyter-widgets/base",
            "_view_module_version": "1.2.0",
            "_view_name": "StyleView",
            "bar_color": null,
            "description_width": ""
          }
        },
        "e77171d0b6c048838693b0187a7666b7": {
          "model_module": "@jupyter-widgets/base",
          "model_name": "LayoutModel",
          "model_module_version": "1.2.0",
          "state": {
            "_model_module": "@jupyter-widgets/base",
            "_model_module_version": "1.2.0",
            "_model_name": "LayoutModel",
            "_view_count": null,
            "_view_module": "@jupyter-widgets/base",
            "_view_module_version": "1.2.0",
            "_view_name": "LayoutView",
            "align_content": null,
            "align_items": null,
            "align_self": null,
            "border": null,
            "bottom": null,
            "display": null,
            "flex": null,
            "flex_flow": null,
            "grid_area": null,
            "grid_auto_columns": null,
            "grid_auto_flow": null,
            "grid_auto_rows": null,
            "grid_column": null,
            "grid_gap": null,
            "grid_row": null,
            "grid_template_areas": null,
            "grid_template_columns": null,
            "grid_template_rows": null,
            "height": null,
            "justify_content": null,
            "justify_items": null,
            "left": null,
            "margin": null,
            "max_height": null,
            "max_width": null,
            "min_height": null,
            "min_width": null,
            "object_fit": null,
            "object_position": null,
            "order": null,
            "overflow": null,
            "overflow_x": null,
            "overflow_y": null,
            "padding": null,
            "right": null,
            "top": null,
            "visibility": null,
            "width": null
          }
        },
        "cc554f4bc92f4e809cc4ab7ad133b3bb": {
          "model_module": "@jupyter-widgets/controls",
          "model_name": "DescriptionStyleModel",
          "model_module_version": "1.5.0",
          "state": {
            "_model_module": "@jupyter-widgets/controls",
            "_model_module_version": "1.5.0",
            "_model_name": "DescriptionStyleModel",
            "_view_count": null,
            "_view_module": "@jupyter-widgets/base",
            "_view_module_version": "1.2.0",
            "_view_name": "StyleView",
            "description_width": ""
          }
        }
      }
    }
  },
  "cells": [
    {
      "cell_type": "markdown",
      "metadata": {
        "id": "view-in-github",
        "colab_type": "text"
      },
      "source": [
        "<a href=\"https://colab.research.google.com/github/MPGarg/TSCAI2.5/blob/main/Pytorch_101_Assignment.ipynb\" target=\"_parent\"><img src=\"https://colab.research.google.com/assets/colab-badge.svg\" alt=\"Open In Colab\"/></a>"
      ]
    },
    {
      "cell_type": "code",
      "execution_count": 1,
      "metadata": {
        "id": "D-5sqR1ESBmE"
      },
      "outputs": [],
      "source": [
        "#import important libraries\n",
        "import torch\n",
        "import torchvision # provide access to datasets, models, transforms, utils, etc\n",
        "import torchvision.transforms as transforms"
      ]
    },
    {
      "cell_type": "code",
      "source": [
        "from torch.utils.data import Dataset"
      ],
      "metadata": {
        "id": "gCCNJun9kOiQ"
      },
      "execution_count": 2,
      "outputs": []
    },
    {
      "cell_type": "code",
      "source": [
        "# Download Mnist data\n",
        "train_set_mnist = torchvision.datasets.MNIST(\n",
        "    root='./data'\n",
        "    ,train=True\n",
        "    ,download=True\n",
        "    ,transform=transforms.Compose([\n",
        "        transforms.ToTensor(),\n",
        "        transforms.Normalize((0.1307,), (0.3081,))\n",
        "    ])\n",
        ")\n",
        "\n",
        "test_set_mnist = torchvision.datasets.MNIST(\n",
        "    root='./data'\n",
        "    ,train=False\n",
        "    ,download=True\n",
        "    ,transform=transforms.Compose([\n",
        "        transforms.ToTensor(),\n",
        "        transforms.Normalize((0.1307,), (0.3081,))\n",
        "    ])\n",
        ")"
      ],
      "metadata": {
        "id": "jYrOz-t_kX-B",
        "colab": {
          "base_uri": "https://localhost:8080/",
          "height": 428,
          "referenced_widgets": [
            "8b1e377157bf461da05259df2e979200",
            "bd6412e569114e42bad3b22897068507",
            "d352bb7d94a545faa979e0e54504dd4a",
            "456f3b5c919e41e1a98171996763864e",
            "d1e9d0ecbe7543d3b8c0415ae5933507",
            "09aa6a9af449483e89d510cccdff6379",
            "94f05b2819ee48888fa719186f25f0c9",
            "a467d21929a54cb8bbc2d5ab5d048971",
            "d460f9f3a69a48f686fca33ad5ff7ed9",
            "8a71ad6bb36344c0a623736d46418889",
            "11139f3065e644ca833a0bb465492350",
            "45905647a3484274a99a5900dbdfa300",
            "8994747484b344ef8196891bd9b8a498",
            "26d2b1b9c5744fac87a9db2c7f59fd6c",
            "fd6e91b0b7474cfa8a9e9e63bd262982",
            "9820df72bc60473da090351063740636",
            "bc379553092744adb27bae3e4cd1343f",
            "dc51cb794587438688ae91902ebfeac5",
            "4384aca077f24be29d61afec87239acf",
            "074e092e46c847a6b6b7035bfaaf792e",
            "ea7e019bc8844641be392baa06cc9afc",
            "102caaf050bb40629f2a56978bfd1055",
            "ffde2bc6e17d4251895aed1ba62686f9",
            "31db4231bae14021aa4702bdc9bc9b81",
            "799710b7156740eaa9c6fad6d7c11357",
            "4009a93770824b9cbaa15de26be43f4c",
            "c0f472e8d9664d1f8a54324b3fce1f7e",
            "df215e5d6d72423fa0a98cc2fbf685fa",
            "d592d8d8fcdc43d28053d11cb42229f9",
            "121b27314bf24905a8e73cb10b14b3ef",
            "e84a6d69a2874405a873124604ec7f29",
            "fced7d762e1041859432ebe452618777",
            "036af205d4674846a4f4a2e855eeca96",
            "1e1347b659134eea806d68e49f77cd2e",
            "67fcf3455c57467fb3d3183ba9b4868a",
            "ba46f92984464b5894b1f4268cb6c68d",
            "1da51d90c5fe426f801fd09d271299d4",
            "7718f20789df43539e68ec91feaa4ec3",
            "7f2c95b66496453b9833a53e770f1dca",
            "b739a93cf2bd4bd7b41e127845f221b9",
            "7d960bd9772e413f94be0bb3adb760ce",
            "18b2322fe69f49ddb468cec5339f5fb2",
            "e77171d0b6c048838693b0187a7666b7",
            "cc554f4bc92f4e809cc4ab7ad133b3bb"
          ]
        },
        "outputId": "cbeb541f-7871-44b2-82b0-e7825f61f61a"
      },
      "execution_count": 3,
      "outputs": [
        {
          "output_type": "stream",
          "name": "stdout",
          "text": [
            "Downloading http://yann.lecun.com/exdb/mnist/train-images-idx3-ubyte.gz\n",
            "Downloading http://yann.lecun.com/exdb/mnist/train-images-idx3-ubyte.gz to ./data/MNIST/raw/train-images-idx3-ubyte.gz\n"
          ]
        },
        {
          "output_type": "display_data",
          "data": {
            "text/plain": [
              "  0%|          | 0/9912422 [00:00<?, ?it/s]"
            ],
            "application/vnd.jupyter.widget-view+json": {
              "version_major": 2,
              "version_minor": 0,
              "model_id": "8b1e377157bf461da05259df2e979200"
            }
          },
          "metadata": {}
        },
        {
          "output_type": "stream",
          "name": "stdout",
          "text": [
            "Extracting ./data/MNIST/raw/train-images-idx3-ubyte.gz to ./data/MNIST/raw\n",
            "\n",
            "Downloading http://yann.lecun.com/exdb/mnist/train-labels-idx1-ubyte.gz\n",
            "Downloading http://yann.lecun.com/exdb/mnist/train-labels-idx1-ubyte.gz to ./data/MNIST/raw/train-labels-idx1-ubyte.gz\n"
          ]
        },
        {
          "output_type": "display_data",
          "data": {
            "text/plain": [
              "  0%|          | 0/28881 [00:00<?, ?it/s]"
            ],
            "application/vnd.jupyter.widget-view+json": {
              "version_major": 2,
              "version_minor": 0,
              "model_id": "45905647a3484274a99a5900dbdfa300"
            }
          },
          "metadata": {}
        },
        {
          "output_type": "stream",
          "name": "stdout",
          "text": [
            "Extracting ./data/MNIST/raw/train-labels-idx1-ubyte.gz to ./data/MNIST/raw\n",
            "\n",
            "Downloading http://yann.lecun.com/exdb/mnist/t10k-images-idx3-ubyte.gz\n",
            "Downloading http://yann.lecun.com/exdb/mnist/t10k-images-idx3-ubyte.gz to ./data/MNIST/raw/t10k-images-idx3-ubyte.gz\n"
          ]
        },
        {
          "output_type": "display_data",
          "data": {
            "text/plain": [
              "  0%|          | 0/1648877 [00:00<?, ?it/s]"
            ],
            "application/vnd.jupyter.widget-view+json": {
              "version_major": 2,
              "version_minor": 0,
              "model_id": "ffde2bc6e17d4251895aed1ba62686f9"
            }
          },
          "metadata": {}
        },
        {
          "output_type": "stream",
          "name": "stdout",
          "text": [
            "Extracting ./data/MNIST/raw/t10k-images-idx3-ubyte.gz to ./data/MNIST/raw\n",
            "\n",
            "Downloading http://yann.lecun.com/exdb/mnist/t10k-labels-idx1-ubyte.gz\n",
            "Downloading http://yann.lecun.com/exdb/mnist/t10k-labels-idx1-ubyte.gz to ./data/MNIST/raw/t10k-labels-idx1-ubyte.gz\n"
          ]
        },
        {
          "output_type": "display_data",
          "data": {
            "text/plain": [
              "  0%|          | 0/4542 [00:00<?, ?it/s]"
            ],
            "application/vnd.jupyter.widget-view+json": {
              "version_major": 2,
              "version_minor": 0,
              "model_id": "1e1347b659134eea806d68e49f77cd2e"
            }
          },
          "metadata": {}
        },
        {
          "output_type": "stream",
          "name": "stdout",
          "text": [
            "Extracting ./data/MNIST/raw/t10k-labels-idx1-ubyte.gz to ./data/MNIST/raw\n",
            "\n"
          ]
        }
      ]
    },
    {
      "cell_type": "code",
      "source": [
        "#create loader for testing\n",
        "train_loader_mnist = torch.utils.data.DataLoader(\n",
        "    train_set_mnist, \n",
        "    batch_size=32,\n",
        "    shuffle=True\n",
        ")"
      ],
      "metadata": {
        "id": "9pye_wGpkYAh"
      },
      "execution_count": 4,
      "outputs": []
    },
    {
      "cell_type": "code",
      "source": [
        "#set width to print\n",
        "import numpy as np\n",
        "import matplotlib.pyplot as plt\n",
        "\n",
        "torch.set_printoptions(linewidth=120)"
      ],
      "metadata": {
        "id": "1VeWAbhZkYDn"
      },
      "execution_count": 5,
      "outputs": []
    },
    {
      "cell_type": "code",
      "source": [
        "len(train_set_mnist), len(test_set_mnist)"
      ],
      "metadata": {
        "colab": {
          "base_uri": "https://localhost:8080/"
        },
        "id": "yLAD75EDkYFN",
        "outputId": "069a24cc-67ac-4420-e491-e38f9bae346a"
      },
      "execution_count": 6,
      "outputs": [
        {
          "output_type": "execute_result",
          "data": {
            "text/plain": [
              "(60000, 10000)"
            ]
          },
          "metadata": {},
          "execution_count": 6
        }
      ]
    },
    {
      "cell_type": "code",
      "source": [
        "#distribution of data in MNIST\n",
        "train_set_mnist.targets.bincount(), test_set_mnist.targets.bincount()"
      ],
      "metadata": {
        "colab": {
          "base_uri": "https://localhost:8080/"
        },
        "id": "POe3kbwZkYJJ",
        "outputId": "fafb49b3-b2db-499e-a8e2-8041164b47d7"
      },
      "execution_count": 7,
      "outputs": [
        {
          "output_type": "execute_result",
          "data": {
            "text/plain": [
              "(tensor([5923, 6742, 5958, 6131, 5842, 5421, 5918, 6265, 5851, 5949]),\n",
              " tensor([ 980, 1135, 1032, 1010,  982,  892,  958, 1028,  974, 1009]))"
            ]
          },
          "metadata": {},
          "execution_count": 7
        }
      ]
    },
    {
      "cell_type": "code",
      "source": [
        "#printing batch\n",
        "batch = next(iter(train_loader_mnist))\n",
        "images, labels = batch\n",
        "grid = torchvision.utils.make_grid(images, nrow=10)\n",
        "plt.figure(figsize=(15,15))\n",
        "plt.imshow(np.transpose(grid, (1,2,0)))\n",
        "print('labels:', labels)"
      ],
      "metadata": {
        "colab": {
          "base_uri": "https://localhost:8080/",
          "height": 424
        },
        "id": "PAAhZINPkYLs",
        "outputId": "0df28908-6c2e-4423-a4f4-7cbe2b534e9f"
      },
      "execution_count": 8,
      "outputs": [
        {
          "output_type": "stream",
          "name": "stderr",
          "text": [
            "WARNING:matplotlib.image:Clipping input data to the valid range for imshow with RGB data ([0..1] for floats or [0..255] for integers).\n"
          ]
        },
        {
          "output_type": "stream",
          "name": "stdout",
          "text": [
            "labels: tensor([6, 4, 6, 9, 7, 7, 2, 9, 1, 9, 4, 0, 8, 8, 3, 5, 6, 3, 7, 9, 7, 6, 9, 1, 6, 4, 8, 5, 6, 6, 3, 6])\n"
          ]
        },
        {
          "output_type": "display_data",
          "data": {
            "text/plain": [
              "<Figure size 1080x1080 with 1 Axes>"
            ],
            "image/png": "[encoded data removed]"
          },
          "metadata": {
            "needs_background": "light"
          }
        }
      ]
    },
    {
      "cell_type": "code",
      "source": [
        "#creating dataset of Random Numbers + MNIST = RandomNo_MNIST\n",
        "from torch.utils.data import Dataset\n",
        "import torch.nn.functional as F\n",
        "import torch.optim as optim\n",
        "\n",
        "class RandomNo_MNIST(Dataset):\n",
        "  def __init__(self, imageset):\n",
        "    self.imageset = imageset\n",
        "\n",
        "  def __getitem__(self, index):\n",
        "    rand_no_label = torch.randint(0, 10, (1,))            #number from 0 to 9\n",
        "    rand_no = F.one_hot(rand_no_label, num_classes=10)    #one hot encoding to be concatenated later\n",
        "    return { \"image\": self.imageset[index][0], \n",
        "              \"number\": rand_no,\n",
        "              \"label_image\": self.imageset[index][1],\n",
        "              \"label_num\": rand_no_label }      \n",
        "           #returning encoded data & label\n",
        "\n",
        "  def __len__(self):\n",
        "    return len(self.imageset)"
      ],
      "metadata": {
        "id": "Ur5iRG5XTdZm"
      },
      "execution_count": 9,
      "outputs": []
    },
    {
      "cell_type": "code",
      "source": [
        "#Instantiate Train & test classes\n",
        "randNo_train = RandomNo_MNIST(train_set_mnist)\n",
        "randNo_test = RandomNo_MNIST(test_set_mnist)\n",
        "\n",
        "len(randNo_train), len(randNo_test)"
      ],
      "metadata": {
        "colab": {
          "base_uri": "https://localhost:8080/"
        },
        "id": "HgiZhD7VTdbI",
        "outputId": "89d47c87-753c-4ef6-e14c-e36ca31f3155"
      },
      "execution_count": 10,
      "outputs": [
        {
          "output_type": "execute_result",
          "data": {
            "text/plain": [
              "(60000, 10000)"
            ]
          },
          "metadata": {},
          "execution_count": 10
        }
      ]
    },
    {
      "cell_type": "code",
      "source": [
        "#for checking loader\n",
        "train_loader_rand = torch.utils.data.DataLoader(\n",
        "    randNo_train, \n",
        "    batch_size = 2, \n",
        "    shuffle=True\n",
        ")"
      ],
      "metadata": {
        "id": "bHMCpxIZTde5"
      },
      "execution_count": 11,
      "outputs": []
    },
    {
      "cell_type": "code",
      "source": [
        "#print 1 batch\n",
        "for v in train_loader_rand:\n",
        "  print(v)\n",
        "  break"
      ],
      "metadata": {
        "colab": {
          "base_uri": "https://localhost:8080/"
        },
        "id": "-a0nLneynFfD",
        "outputId": "ac8557d4-576f-4fa9-d75d-f11dcf4c171a"
      },
      "execution_count": 12,
      "outputs": [
        {
          "output_type": "stream",
          "name": "stdout",
          "text": [
            "{'image': tensor([[[[-0.4242, -0.4242, -0.4242,  ..., -0.4242, -0.4242, -0.4242],\n",
            "          [-0.4242, -0.4242, -0.4242,  ..., -0.4242, -0.4242, -0.4242],\n",
            "          [-0.4242, -0.4242, -0.4242,  ..., -0.4242, -0.4242, -0.4242],\n",
            "          ...,\n",
            "          [-0.4242, -0.4242, -0.4242,  ..., -0.4242, -0.4242, -0.4242],\n",
            "          [-0.4242, -0.4242, -0.4242,  ..., -0.4242, -0.4242, -0.4242],\n",
            "          [-0.4242, -0.4242, -0.4242,  ..., -0.4242, -0.4242, -0.4242]]],\n",
            "\n",
            "\n",
            "        [[[-0.4242, -0.4242, -0.4242,  ..., -0.4242, -0.4242, -0.4242],\n",
            "          [-0.4242, -0.4242, -0.4242,  ..., -0.4242, -0.4242, -0.4242],\n",
            "          [-0.4242, -0.4242, -0.4242,  ..., -0.4242, -0.4242, -0.4242],\n",
            "          ...,\n",
            "          [-0.4242, -0.4242, -0.4242,  ..., -0.4242, -0.4242, -0.4242],\n",
            "          [-0.4242, -0.4242, -0.4242,  ..., -0.4242, -0.4242, -0.4242],\n",
            "          [-0.4242, -0.4242, -0.4242,  ..., -0.4242, -0.4242, -0.4242]]]]), 'number': tensor([[[0, 0, 0, 0, 0, 0, 1, 0, 0, 0]],\n",
            "\n",
            "        [[0, 1, 0, 0, 0, 0, 0, 0, 0, 0]]]), 'label_image': tensor([1, 6]), 'label_num': tensor([[6],\n",
            "        [1]])}\n"
          ]
        }
      ]
    },
    {
      "cell_type": "code",
      "source": [
        "#get correct values\n",
        "def get_num_correct(preds, labels):\n",
        "  return preds.argmax(dim=1).eq(labels).sum().item()"
      ],
      "metadata": {
        "id": "Nze0We0edB3U"
      },
      "execution_count": 13,
      "outputs": []
    },
    {
      "cell_type": "code",
      "source": [
        "#Set CUDA if available\n",
        "device = torch.device(\"cuda\" if torch.cuda.is_available() else \"cpu\")\n",
        "print(device)"
      ],
      "metadata": {
        "colab": {
          "base_uri": "https://localhost:8080/"
        },
        "id": "XhAVa90TdB6I",
        "outputId": "47d23bfa-0f7e-482c-d9e1-6a3a825de146"
      },
      "execution_count": 14,
      "outputs": [
        {
          "output_type": "stream",
          "name": "stdout",
          "text": [
            "cuda\n"
          ]
        }
      ]
    },
    {
      "cell_type": "code",
      "source": [
        "#create model\n",
        "import torch.nn as nn\n",
        "class Network(nn.Module):\n",
        "  def __init__(self):\n",
        "    super().__init__()\n",
        "    self.conv1 = nn.Conv2d(in_channels=1, out_channels=32, kernel_size=3)       \n",
        "    self.conv2 = nn.Conv2d(in_channels=32, out_channels=64, kernel_size=3)      \n",
        "    self.conv3 = nn.Conv2d(in_channels=64, out_channels=128, kernel_size=3)     \n",
        "    self.conv4 = nn.Conv2d(in_channels=128, out_channels=512, kernel_size=3)    \n",
        "    self.conv5 = nn.Conv2d(in_channels=512, out_channels=256, kernel_size=3)    \n",
        "    self.conv6 = nn.Conv2d(in_channels=256, out_channels=512, kernel_size=3)    \n",
        "    self.fc1 = nn.Linear(in_features=512 * 3 * 3, out_features=60)\n",
        "    self.out = nn.Linear(in_features=60, out_features=10)\n",
        "    self.fc2 = nn.Linear(in_features=20, out_features=100)\n",
        "    self.out2 = nn.Linear(in_features=100, out_features=19)\n",
        "    \n",
        "  def forward(self, t1, t2):          #input has 2 dataset\n",
        "    # input layer\n",
        "    x1 = t1\n",
        "    # conv1 layer\n",
        "    x1 = self.conv1(x1) # 28 -> 26 RF 3 In_Ch: 1  Out_Ch: 32\n",
        "    x1 = F.relu(x1)\n",
        "    x1 = self.conv2(x1) # 26 -> 24 RF 5 In_Ch: 32 Out_Ch: 64\n",
        "    x1 = F.relu(x1)\n",
        "    x1 = self.conv3(x1) # 24 > 22 RF 7  In_Ch: 64 Out_Ch: 128\n",
        "    x1 = F.relu(x1)\n",
        "    x1 = self.conv4(x1) # 22 > 20 RF 9  In_Ch: 128 Out_Ch: 512\n",
        "    x1 = F.relu(x1)\n",
        "    x1 = F.max_pool2d(x1, kernel_size=2, stride=2) # 20 > 10 RF 18 (assumption)\n",
        "    x1 = self.conv5(x1) # 10 > 8 RF 20  In_Ch: 512 Out_Ch: 256\n",
        "    x1 = F.relu(x1)\n",
        "    x1 = self.conv6(x1) # 8 > 6 RF 22   In_Ch: 256 Out_Ch: 512\n",
        "    x1 = F.relu(x1)\n",
        "    x1 = F.max_pool2d(x1, kernel_size=2, stride=2) # 6 > 3 RF 44 (assumption)\n",
        "    # reshapre\n",
        "    x1 = x1.reshape(-1, 512 * 3 * 3)  #512 Channel & 3x3 output\n",
        "    # fc1 layer\n",
        "    x1 = self.fc1(x1)                 #FC Layer Output: 60\n",
        "    x1 = F.relu(x1)\n",
        "    # output layer for MNIST\n",
        "    x1 = self.out(x1)                 #FC Layer Output: 10 (same as MNIST Classes)\n",
        "    #predict class to be used as Input for SUM; one hot encoding for predicted number\n",
        "    pred_cl_one = F.one_hot(torch.argmax(x1,dim=1), num_classes=10) \n",
        "    #concatenate first output & second input (we are using same batch number for both to be able to concatenate)\n",
        "    x2 = torch.cat((pred_cl_one,t2), dim=1) #concatenate second input t2 & predicted class of t1\n",
        "    x2 = x2.to(torch.float32)               #change dtype to allow data to pass to FC2\n",
        "    x2 = self.fc2(x2)                       #Passing to FC layer Output: 100\n",
        "    x2 = F.relu(x2)\n",
        "    # output layer for SUM\n",
        "    x2 = self.out2(x2)                      #Out layer for second input 100 & output: 19 (sum 0 to 18)\n",
        "    return x1, x2                           #return both output"
      ],
      "metadata": {
        "id": "WhPDIMGXlmcp"
      },
      "execution_count": 15,
      "outputs": []
    },
    {
      "cell_type": "code",
      "source": [
        "#run as test complete network\n",
        "network = Network()\n",
        "network.to(device)\n",
        "\n",
        "#batch size as 128\n",
        "train_loader_rand = torch.utils.data.DataLoader(\n",
        "    randNo_train, \n",
        "    batch_size=128,\n",
        "    shuffle=True\n",
        ")\n",
        "\n",
        "#batch size as 128\n",
        "test_loader_rand = torch.utils.data.DataLoader(\n",
        "    randNo_test, \n",
        "    batch_size = 128, \n",
        "    shuffle=True\n",
        ")\n",
        "\n",
        "#optimizer as Adam\n",
        "optimizer = optim.Adam(network.parameters(), lr=0.001)\n",
        "\n",
        "total_loss_mnist = 0\n",
        "total_correct_mnist = 0\n",
        "total_loss_sum = 0\n",
        "total_correct_sum = 0\n",
        "\n",
        "for batch in train_loader_rand: # Get Batch of image\n",
        "    images = batch['image'].to(device)                    #push data to GPU\n",
        "    labels_mnist = batch['label_image'].to(device) \n",
        "    randNum = batch['number'].to(device)\n",
        "    labels_ranNo = batch['label_num'].reshape(1,-1)\n",
        "    labels_ranNo= labels_ranNo.to(device)\n",
        "    preds_mnist, preds_sum = network(images,randNum.squeeze(1))      # Pass data to Network\n",
        "    labels_mnist = labels_mnist.to(device)\n",
        "    labels_ranNo = labels_ranNo.to(device)\n",
        "    labels_sum = labels_mnist + labels_ranNo              #creating labels for Sum\n",
        "    labels_sum = labels_sum.to(device)\n",
        "    loss_mnist = F.cross_entropy(preds_mnist, labels_mnist) # Calculate Loss for MNIST\n",
        "    loss_ranNo = F.cross_entropy(preds_sum, labels_sum.reshape(-1)) # Calculate Loss for Sum \n",
        "\n",
        "    loss = loss_mnist + loss_ranNo    #Total loss\n",
        "    optimizer.zero_grad()             \n",
        "    loss.backward()\n",
        "    optimizer.step() # Update Weights\n",
        "\n",
        "    #calculating loss and correct prediction\n",
        "    total_loss_mnist += loss_mnist.item()\n",
        "    total_correct_mnist += get_num_correct(preds_mnist, labels_mnist)\n",
        "    total_loss_sum += loss_ranNo.item()\n",
        "    total_correct_sum += get_num_correct(preds_sum, labels_sum)\n",
        "\n",
        "print(\n",
        "    \"epoch:\", 0, \n",
        "    \"Train tot_corr MNIST:\", total_correct_mnist / len(randNo_train) *100, \n",
        "    \"Train loss MNIST:\", total_loss_mnist,\n",
        "    \"Train tot_corr Sum:\", total_correct_sum / len(randNo_train) *100, \n",
        "    \"Train loss Sum:\", total_loss_sum    \n",
        ")\n",
        "\n",
        "total_loss_mnist_test = 0\n",
        "total_correct_mnist_test = 0\n",
        "total_loss_sum_test = 0\n",
        "total_correct_sum_test = 0\n",
        "\n",
        "with torch.no_grad():\n",
        "  for batch in test_loader_rand: # Get Batch of image\n",
        "      images = batch['image'].to(device)                    #push data to GPU\n",
        "      labels_mnist = batch['label_image'].to(device) \n",
        "      randNum = batch['number'].to(device)\n",
        "      labels_ranNo = batch['label_num'].reshape(1,-1)\n",
        "      labels_ranNo= labels_ranNo.to(device)\n",
        "      preds_mnist, preds_sum = network(images,randNum.squeeze(1))      # Pass data to Network\n",
        "      labels_mnist = labels_mnist.to(device)\n",
        "      labels_ranNo = labels_ranNo.to(device)\n",
        "      labels_sum = labels_mnist + labels_ranNo              #creating labels for Sum\n",
        "      labels_sum = labels_sum.to(device)\n",
        "      loss_mnist = F.cross_entropy(preds_mnist, labels_mnist) # Calculate Loss for MNIST\n",
        "      loss_ranNo = F.cross_entropy(preds_sum, labels_sum.reshape(-1)) # Calculate Loss for Sum \n",
        "    \n",
        "      #calculating loss and correct prediction\n",
        "      total_loss_mnist_test += loss_mnist.item()\n",
        "      total_correct_mnist_test += get_num_correct(preds_mnist, labels_mnist)\n",
        "      total_loss_sum_test += loss_ranNo.item()\n",
        "      total_correct_sum_test += get_num_correct(preds_sum, labels_sum)\n",
        "\n",
        "print(\n",
        "    \"epoch:\", 0, \n",
        "    \"Test tot_corr MNIST:\", total_correct_mnist_test / len(randNo_test) * 100, \n",
        "    \"Test loss MNIST:\", total_loss_mnist_test,\n",
        "    \"Test tot_corr Sum:\", total_correct_sum_test / len(randNo_test) * 100, \n",
        "    \"Test loss Sum:\", total_loss_sum_test    \n",
        ")"
      ],
      "metadata": {
        "colab": {
          "base_uri": "https://localhost:8080/"
        },
        "id": "EvX-Q0Jwmhy-",
        "outputId": "650e87fa-342f-419b-fb1d-8dcce71bbd70"
      },
      "execution_count": 16,
      "outputs": [
        {
          "output_type": "stream",
          "name": "stdout",
          "text": [
            "epoch: 0 Train tot_corr MNIST: 93.62 Train loss MNIST: 90.72680276888423 Train tot_corr Sum: 65.36 Train loss Sum: 838.2204705476761\n",
            "epoch: 0 Test tot_corr MNIST: 98.83 Test loss MNIST: 2.9376594118075445 Test tot_corr Sum: 98.83 Test loss Sum: 49.446833074092865\n"
          ]
        }
      ]
    },
    {
      "cell_type": "code",
      "source": [
        "#running multiple epochs for training network\n",
        "network = Network()\n",
        "network.to(device)\n",
        "\n",
        "#batch size as 128\n",
        "train_loader_rand = torch.utils.data.DataLoader(\n",
        "    randNo_train, \n",
        "    batch_size=128,\n",
        "    shuffle=True\n",
        ")\n",
        "\n",
        "#batch size as 128\n",
        "test_loader_rand = torch.utils.data.DataLoader(\n",
        "    randNo_test, \n",
        "    batch_size = 128, \n",
        "    shuffle=True\n",
        ")\n",
        "\n",
        "optimizer = optim.Adam(network.parameters(), lr=0.001)\n",
        "\n",
        "for epoch in range(10):\n",
        "    total_loss_mnist = 0\n",
        "    total_correct_mnist = 0\n",
        "    total_loss_sum = 0\n",
        "    total_correct_sum = 0\n",
        "\n",
        "    for batch in train_loader_rand: # Get Batch of image\n",
        "        images = batch['image'].to(device)                    #push data to GPU\n",
        "        labels_mnist = batch['label_image'].to(device) \n",
        "        randNum = batch['number'].to(device)\n",
        "        labels_ranNo = batch['label_num'].reshape(1,-1)\n",
        "        labels_ranNo= labels_ranNo.to(device)\n",
        "        preds_mnist, preds_sum = network(images,randNum.squeeze(1))      # Pass data to Network\n",
        "        labels_mnist = labels_mnist.to(device)\n",
        "        labels_ranNo = labels_ranNo.to(device)\n",
        "        labels_sum = labels_mnist + labels_ranNo              #creating labels for Sum\n",
        "        labels_sum = labels_sum.to(device)\n",
        "        loss_mnist = F.cross_entropy(preds_mnist, labels_mnist) # Calculate Loss for MNIST\n",
        "        loss_ranNo = F.cross_entropy(preds_sum, labels_sum.reshape(-1)) # Calculate Loss for Sum \n",
        "\n",
        "        loss = loss_mnist + loss_ranNo    #Total loss\n",
        "        optimizer.zero_grad()             \n",
        "        loss.backward()\n",
        "        optimizer.step() # Update Weights\n",
        "\n",
        "        #calculating loss and correct prediction\n",
        "        total_loss_mnist += loss_mnist.item()\n",
        "        total_correct_mnist += get_num_correct(preds_mnist, labels_mnist)\n",
        "        total_loss_sum += loss_ranNo.item()\n",
        "        total_correct_sum += get_num_correct(preds_sum, labels_sum)\n",
        "\n",
        "    print(\n",
        "        f\"Epoch: {epoch + 1}  \\\n",
        "          Training MNIST Accuracy: {total_correct_mnist / len(randNo_train) : .2%} \\\n",
        "          MNIST Loss: {total_loss_mnist: .4f}  \\\n",
        "          Sum Accuracy: {total_correct_sum / len(randNo_train) : .2%} \\\n",
        "          Sum Loss: {total_loss_sum: .4f}\"\n",
        "    )"
      ],
      "metadata": {
        "id": "XFp3xszXmh1t",
        "colab": {
          "base_uri": "https://localhost:8080/"
        },
        "outputId": "2626e756-c00c-4fb6-aed8-f2657695f2fa"
      },
      "execution_count": 18,
      "outputs": [
        {
          "output_type": "stream",
          "name": "stdout",
          "text": [
            "Epoch: 1            Training MNIST Accuracy:  93.92%           MNIST Loss:  88.9746            Sum Accuracy:  62.77%           Sum Loss:  847.2251\n",
            "Epoch: 2            Training MNIST Accuracy:  98.67%           MNIST Loss:  20.8842            Sum Accuracy:  98.67%           Sum Loss:  138.6351\n",
            "Epoch: 3            Training MNIST Accuracy:  99.03%           MNIST Loss:  15.3731            Sum Accuracy:  99.03%           Sum Loss:  53.5789\n",
            "Epoch: 4            Training MNIST Accuracy:  99.22%           MNIST Loss:  11.5986            Sum Accuracy:  99.22%           Sum Loss:  36.9294\n",
            "Epoch: 5            Training MNIST Accuracy:  99.41%           MNIST Loss:  9.3300            Sum Accuracy:  99.41%           Sum Loss:  27.5376\n",
            "Epoch: 6            Training MNIST Accuracy:  99.48%           MNIST Loss:  7.9085            Sum Accuracy:  99.48%           Sum Loss:  23.6157\n",
            "Epoch: 7            Training MNIST Accuracy:  99.51%           MNIST Loss:  6.8891            Sum Accuracy:  99.51%           Sum Loss:  21.9015\n",
            "Epoch: 8            Training MNIST Accuracy:  99.56%           MNIST Loss:  6.2102            Sum Accuracy:  99.56%           Sum Loss:  20.0700\n",
            "Epoch: 9            Training MNIST Accuracy:  99.63%           MNIST Loss:  5.4395            Sum Accuracy:  99.63%           Sum Loss:  16.7191\n",
            "Epoch: 10            Training MNIST Accuracy:  99.69%           MNIST Loss:  4.3369            Sum Accuracy:  99.69%           Sum Loss:  14.2646\n"
          ]
        }
      ]
    },
    {
      "cell_type": "code",
      "source": [
        "#Validate Model on test data\n",
        "total_loss_mnist_test = 0\n",
        "total_correct_mnist_test = 0\n",
        "total_loss_sum_test = 0\n",
        "total_correct_sum_test = 0\n",
        "\n",
        "with torch.no_grad():\n",
        "  for batch in test_loader_rand: # Get Batch of image\n",
        "      images = batch['image'].to(device)                    #push data to GPU\n",
        "      labels_mnist = batch['label_image'].to(device) \n",
        "      randNum = batch['number'].to(device)\n",
        "      labels_ranNo = batch['label_num'].reshape(1,-1)\n",
        "      labels_ranNo= labels_ranNo.to(device)\n",
        "      preds_mnist, preds_sum = network(images,randNum.squeeze(1))      # Pass data to Network\n",
        "      labels_mnist = labels_mnist.to(device)\n",
        "      labels_ranNo = labels_ranNo.to(device)\n",
        "      labels_sum = labels_mnist + labels_ranNo              #creating labels for Sum\n",
        "      labels_sum = labels_sum.to(device)\n",
        "      loss_mnist = F.cross_entropy(preds_mnist, labels_mnist) # Calculate Loss for MNIST\n",
        "      loss_ranNo = F.cross_entropy(preds_sum, labels_sum.reshape(-1)) # Calculate Loss for Sum \n",
        "    \n",
        "      #calculating loss and correct prediction\n",
        "      total_loss_mnist_test += loss_mnist.item()\n",
        "      total_correct_mnist_test += get_num_correct(preds_mnist, labels_mnist)\n",
        "      total_loss_sum_test += loss_ranNo.item()\n",
        "      total_correct_sum_test += get_num_correct(preds_sum, labels_sum)\n",
        "\n",
        "print(\n",
        "    f\"Test MNIST Accuracy: {total_correct_mnist_test / len(randNo_test) : .2%} \\\n",
        "      MNIST Loss: {total_loss_mnist_test: .4f}  \\\n",
        "      Sum Accuracy: {total_correct_sum_test / len(randNo_test) : .2%} \\\n",
        "      Sum Loss: {total_loss_sum_test: .4f}\"\n",
        ")"
      ],
      "metadata": {
        "id": "wFP8faEK1wXD",
        "colab": {
          "base_uri": "https://localhost:8080/"
        },
        "outputId": "9bffbb24-cc07-46b1-ca02-2189dd7bcb3e"
      },
      "execution_count": 19,
      "outputs": [
        {
          "output_type": "stream",
          "name": "stdout",
          "text": [
            "Test MNIST Accuracy:  99.21%       MNIST Loss:  2.2169        Sum Accuracy:  99.21%       Sum Loss:  5.1394\n"
          ]
        }
      ]
    }
  ]
}