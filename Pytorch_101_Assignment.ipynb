{
  "nbformat": 4,
  "nbformat_minor": 0,
  "metadata": {
    "colab": {
      "provenance": [],
      "authorship_tag": "ABX9TyNY3qIxqbymo7biDcDhY4NR",
      "include_colab_link": true
    },
    "kernelspec": {
      "name": "python3",
      "display_name": "Python 3"
    },
    "language_info": {
      "name": "python"
    },
    "accelerator": "GPU",
    "gpuClass": "standard",
    "widgets": {
      "application/vnd.jupyter.widget-state+json": {
        "37af07906e6440a89971deb5bc8f09ac": {
          "model_module": "@jupyter-widgets/controls",
          "model_name": "HBoxModel",
          "model_module_version": "1.5.0",
          "state": {
            "_dom_classes": [],
            "_model_module": "@jupyter-widgets/controls",
            "_model_module_version": "1.5.0",
            "_model_name": "HBoxModel",
            "_view_count": null,
            "_view_module": "@jupyter-widgets/controls",
            "_view_module_version": "1.5.0",
            "_view_name": "HBoxView",
            "box_style": "",
            "children": [
              "IPY_MODEL_0159ed9edf3845458e8f6ec4955eeb0f",
              "IPY_MODEL_ab3ae9e62fab4a9093c601ccf170ce9f",
              "IPY_MODEL_db838bc4d7a54850b3fc1f793ad093ba"
            ],
            "layout": "IPY_MODEL_55bddb6ba9224512ac9badec59fe0276"
          }
        },
        "0159ed9edf3845458e8f6ec4955eeb0f": {
          "model_module": "@jupyter-widgets/controls",
          "model_name": "HTMLModel",
          "model_module_version": "1.5.0",
          "state": {
            "_dom_classes": [],
            "_model_module": "@jupyter-widgets/controls",
            "_model_module_version": "1.5.0",
            "_model_name": "HTMLModel",
            "_view_count": null,
            "_view_module": "@jupyter-widgets/controls",
            "_view_module_version": "1.5.0",
            "_view_name": "HTMLView",
            "description": "",
            "description_tooltip": null,
            "layout": "IPY_MODEL_31bc24ecf2e94c5ebf9243f3a2e956bf",
            "placeholder": "​",
            "style": "IPY_MODEL_03f9d7eca7b34de390a657c0d03e9406",
            "value": "100%"
          }
        },
        "ab3ae9e62fab4a9093c601ccf170ce9f": {
          "model_module": "@jupyter-widgets/controls",
          "model_name": "FloatProgressModel",
          "model_module_version": "1.5.0",
          "state": {
            "_dom_classes": [],
            "_model_module": "@jupyter-widgets/controls",
            "_model_module_version": "1.5.0",
            "_model_name": "FloatProgressModel",
            "_view_count": null,
            "_view_module": "@jupyter-widgets/controls",
            "_view_module_version": "1.5.0",
            "_view_name": "ProgressView",
            "bar_style": "success",
            "description": "",
            "description_tooltip": null,
            "layout": "IPY_MODEL_e75369c3cd97427c8592d7f1fe4c360a",
            "max": 9912422,
            "min": 0,
            "orientation": "horizontal",
            "style": "IPY_MODEL_daaa2e0890904aefba841a677cf3829c",
            "value": 9912422
          }
        },
        "db838bc4d7a54850b3fc1f793ad093ba": {
          "model_module": "@jupyter-widgets/controls",
          "model_name": "HTMLModel",
          "model_module_version": "1.5.0",
          "state": {
            "_dom_classes": [],
            "_model_module": "@jupyter-widgets/controls",
            "_model_module_version": "1.5.0",
            "_model_name": "HTMLModel",
            "_view_count": null,
            "_view_module": "@jupyter-widgets/controls",
            "_view_module_version": "1.5.0",
            "_view_name": "HTMLView",
            "description": "",
            "description_tooltip": null,
            "layout": "IPY_MODEL_efc0f7f33ba4481c86f911eaf336e465",
            "placeholder": "​",
            "style": "IPY_MODEL_9913f070030644e897579850efc0c082",
            "value": " 9912422/9912422 [00:00&lt;00:00, 34653063.47it/s]"
          }
        },
        "55bddb6ba9224512ac9badec59fe0276": {
          "model_module": "@jupyter-widgets/base",
          "model_name": "LayoutModel",
          "model_module_version": "1.2.0",
          "state": {
            "_model_module": "@jupyter-widgets/base",
            "_model_module_version": "1.2.0",
            "_model_name": "LayoutModel",
            "_view_count": null,
            "_view_module": "@jupyter-widgets/base",
            "_view_module_version": "1.2.0",
            "_view_name": "LayoutView",
            "align_content": null,
            "align_items": null,
            "align_self": null,
            "border": null,
            "bottom": null,
            "display": null,
            "flex": null,
            "flex_flow": null,
            "grid_area": null,
            "grid_auto_columns": null,
            "grid_auto_flow": null,
            "grid_auto_rows": null,
            "grid_column": null,
            "grid_gap": null,
            "grid_row": null,
            "grid_template_areas": null,
            "grid_template_columns": null,
            "grid_template_rows": null,
            "height": null,
            "justify_content": null,
            "justify_items": null,
            "left": null,
            "margin": null,
            "max_height": null,
            "max_width": null,
            "min_height": null,
            "min_width": null,
            "object_fit": null,
            "object_position": null,
            "order": null,
            "overflow": null,
            "overflow_x": null,
            "overflow_y": null,
            "padding": null,
            "right": null,
            "top": null,
            "visibility": null,
            "width": null
          }
        },
        "31bc24ecf2e94c5ebf9243f3a2e956bf": {
          "model_module": "@jupyter-widgets/base",
          "model_name": "LayoutModel",
          "model_module_version": "1.2.0",
          "state": {
            "_model_module": "@jupyter-widgets/base",
            "_model_module_version": "1.2.0",
            "_model_name": "LayoutModel",
            "_view_count": null,
            "_view_module": "@jupyter-widgets/base",
            "_view_module_version": "1.2.0",
            "_view_name": "LayoutView",
            "align_content": null,
            "align_items": null,
            "align_self": null,
            "border": null,
            "bottom": null,
            "display": null,
            "flex": null,
            "flex_flow": null,
            "grid_area": null,
            "grid_auto_columns": null,
            "grid_auto_flow": null,
            "grid_auto_rows": null,
            "grid_column": null,
            "grid_gap": null,
            "grid_row": null,
            "grid_template_areas": null,
            "grid_template_columns": null,
            "grid_template_rows": null,
            "height": null,
            "justify_content": null,
            "justify_items": null,
            "left": null,
            "margin": null,
            "max_height": null,
            "max_width": null,
            "min_height": null,
            "min_width": null,
            "object_fit": null,
            "object_position": null,
            "order": null,
            "overflow": null,
            "overflow_x": null,
            "overflow_y": null,
            "padding": null,
            "right": null,
            "top": null,
            "visibility": null,
            "width": null
          }
        },
        "03f9d7eca7b34de390a657c0d03e9406": {
          "model_module": "@jupyter-widgets/controls",
          "model_name": "DescriptionStyleModel",
          "model_module_version": "1.5.0",
          "state": {
            "_model_module": "@jupyter-widgets/controls",
            "_model_module_version": "1.5.0",
            "_model_name": "DescriptionStyleModel",
            "_view_count": null,
            "_view_module": "@jupyter-widgets/base",
            "_view_module_version": "1.2.0",
            "_view_name": "StyleView",
            "description_width": ""
          }
        },
        "e75369c3cd97427c8592d7f1fe4c360a": {
          "model_module": "@jupyter-widgets/base",
          "model_name": "LayoutModel",
          "model_module_version": "1.2.0",
          "state": {
            "_model_module": "@jupyter-widgets/base",
            "_model_module_version": "1.2.0",
            "_model_name": "LayoutModel",
            "_view_count": null,
            "_view_module": "@jupyter-widgets/base",
            "_view_module_version": "1.2.0",
            "_view_name": "LayoutView",
            "align_content": null,
            "align_items": null,
            "align_self": null,
            "border": null,
            "bottom": null,
            "display": null,
            "flex": null,
            "flex_flow": null,
            "grid_area": null,
            "grid_auto_columns": null,
            "grid_auto_flow": null,
            "grid_auto_rows": null,
            "grid_column": null,
            "grid_gap": null,
            "grid_row": null,
            "grid_template_areas": null,
            "grid_template_columns": null,
            "grid_template_rows": null,
            "height": null,
            "justify_content": null,
            "justify_items": null,
            "left": null,
            "margin": null,
            "max_height": null,
            "max_width": null,
            "min_height": null,
            "min_width": null,
            "object_fit": null,
            "object_position": null,
            "order": null,
            "overflow": null,
            "overflow_x": null,
            "overflow_y": null,
            "padding": null,
            "right": null,
            "top": null,
            "visibility": null,
            "width": null
          }
        },
        "daaa2e0890904aefba841a677cf3829c": {
          "model_module": "@jupyter-widgets/controls",
          "model_name": "ProgressStyleModel",
          "model_module_version": "1.5.0",
          "state": {
            "_model_module": "@jupyter-widgets/controls",
            "_model_module_version": "1.5.0",
            "_model_name": "ProgressStyleModel",
            "_view_count": null,
            "_view_module": "@jupyter-widgets/base",
            "_view_module_version": "1.2.0",
            "_view_name": "StyleView",
            "bar_color": null,
            "description_width": ""
          }
        },
        "efc0f7f33ba4481c86f911eaf336e465": {
          "model_module": "@jupyter-widgets/base",
          "model_name": "LayoutModel",
          "model_module_version": "1.2.0",
          "state": {
            "_model_module": "@jupyter-widgets/base",
            "_model_module_version": "1.2.0",
            "_model_name": "LayoutModel",
            "_view_count": null,
            "_view_module": "@jupyter-widgets/base",
            "_view_module_version": "1.2.0",
            "_view_name": "LayoutView",
            "align_content": null,
            "align_items": null,
            "align_self": null,
            "border": null,
            "bottom": null,
            "display": null,
            "flex": null,
            "flex_flow": null,
            "grid_area": null,
            "grid_auto_columns": null,
            "grid_auto_flow": null,
            "grid_auto_rows": null,
            "grid_column": null,
            "grid_gap": null,
            "grid_row": null,
            "grid_template_areas": null,
            "grid_template_columns": null,
            "grid_template_rows": null,
            "height": null,
            "justify_content": null,
            "justify_items": null,
            "left": null,
            "margin": null,
            "max_height": null,
            "max_width": null,
            "min_height": null,
            "min_width": null,
            "object_fit": null,
            "object_position": null,
            "order": null,
            "overflow": null,
            "overflow_x": null,
            "overflow_y": null,
            "padding": null,
            "right": null,
            "top": null,
            "visibility": null,
            "width": null
          }
        },
        "9913f070030644e897579850efc0c082": {
          "model_module": "@jupyter-widgets/controls",
          "model_name": "DescriptionStyleModel",
          "model_module_version": "1.5.0",
          "state": {
            "_model_module": "@jupyter-widgets/controls",
            "_model_module_version": "1.5.0",
            "_model_name": "DescriptionStyleModel",
            "_view_count": null,
            "_view_module": "@jupyter-widgets/base",
            "_view_module_version": "1.2.0",
            "_view_name": "StyleView",
            "description_width": ""
          }
        },
        "b6fc0a48e20e4be09fef83ff1bf13fab": {
          "model_module": "@jupyter-widgets/controls",
          "model_name": "HBoxModel",
          "model_module_version": "1.5.0",
          "state": {
            "_dom_classes": [],
            "_model_module": "@jupyter-widgets/controls",
            "_model_module_version": "1.5.0",
            "_model_name": "HBoxModel",
            "_view_count": null,
            "_view_module": "@jupyter-widgets/controls",
            "_view_module_version": "1.5.0",
            "_view_name": "HBoxView",
            "box_style": "",
            "children": [
              "IPY_MODEL_fc40d2c26eef47fba19830bf32206327",
              "IPY_MODEL_9d003a9caf4a4027ab1c28a401a1a716",
              "IPY_MODEL_b168e07c52e94e42a0fc963bd2f34e47"
            ],
            "layout": "IPY_MODEL_00b01dc51c1042dda0b7674270357015"
          }
        },
        "fc40d2c26eef47fba19830bf32206327": {
          "model_module": "@jupyter-widgets/controls",
          "model_name": "HTMLModel",
          "model_module_version": "1.5.0",
          "state": {
            "_dom_classes": [],
            "_model_module": "@jupyter-widgets/controls",
            "_model_module_version": "1.5.0",
            "_model_name": "HTMLModel",
            "_view_count": null,
            "_view_module": "@jupyter-widgets/controls",
            "_view_module_version": "1.5.0",
            "_view_name": "HTMLView",
            "description": "",
            "description_tooltip": null,
            "layout": "IPY_MODEL_7c2950cd68ad443eb0cf5db94c43cd4d",
            "placeholder": "​",
            "style": "IPY_MODEL_fd63ce4a09da4979b39eb129082a5eca",
            "value": "100%"
          }
        },
        "9d003a9caf4a4027ab1c28a401a1a716": {
          "model_module": "@jupyter-widgets/controls",
          "model_name": "FloatProgressModel",
          "model_module_version": "1.5.0",
          "state": {
            "_dom_classes": [],
            "_model_module": "@jupyter-widgets/controls",
            "_model_module_version": "1.5.0",
            "_model_name": "FloatProgressModel",
            "_view_count": null,
            "_view_module": "@jupyter-widgets/controls",
            "_view_module_version": "1.5.0",
            "_view_name": "ProgressView",
            "bar_style": "success",
            "description": "",
            "description_tooltip": null,
            "layout": "IPY_MODEL_ebe1ac29907b40558ab4b3ef7314bf37",
            "max": 28881,
            "min": 0,
            "orientation": "horizontal",
            "style": "IPY_MODEL_16dc7e49edaa428fb957ac046536ad87",
            "value": 28881
          }
        },
        "b168e07c52e94e42a0fc963bd2f34e47": {
          "model_module": "@jupyter-widgets/controls",
          "model_name": "HTMLModel",
          "model_module_version": "1.5.0",
          "state": {
            "_dom_classes": [],
            "_model_module": "@jupyter-widgets/controls",
            "_model_module_version": "1.5.0",
            "_model_name": "HTMLModel",
            "_view_count": null,
            "_view_module": "@jupyter-widgets/controls",
            "_view_module_version": "1.5.0",
            "_view_name": "HTMLView",
            "description": "",
            "description_tooltip": null,
            "layout": "IPY_MODEL_aa2c1c7a1aaa4379aec51cea64b4150d",
            "placeholder": "​",
            "style": "IPY_MODEL_e96f0e8b52a94df68315d87c2dafb80f",
            "value": " 28881/28881 [00:00&lt;00:00, 1403706.89it/s]"
          }
        },
        "00b01dc51c1042dda0b7674270357015": {
          "model_module": "@jupyter-widgets/base",
          "model_name": "LayoutModel",
          "model_module_version": "1.2.0",
          "state": {
            "_model_module": "@jupyter-widgets/base",
            "_model_module_version": "1.2.0",
            "_model_name": "LayoutModel",
            "_view_count": null,
            "_view_module": "@jupyter-widgets/base",
            "_view_module_version": "1.2.0",
            "_view_name": "LayoutView",
            "align_content": null,
            "align_items": null,
            "align_self": null,
            "border": null,
            "bottom": null,
            "display": null,
            "flex": null,
            "flex_flow": null,
            "grid_area": null,
            "grid_auto_columns": null,
            "grid_auto_flow": null,
            "grid_auto_rows": null,
            "grid_column": null,
            "grid_gap": null,
            "grid_row": null,
            "grid_template_areas": null,
            "grid_template_columns": null,
            "grid_template_rows": null,
            "height": null,
            "justify_content": null,
            "justify_items": null,
            "left": null,
            "margin": null,
            "max_height": null,
            "max_width": null,
            "min_height": null,
            "min_width": null,
            "object_fit": null,
            "object_position": null,
            "order": null,
            "overflow": null,
            "overflow_x": null,
            "overflow_y": null,
            "padding": null,
            "right": null,
            "top": null,
            "visibility": null,
            "width": null
          }
        },
        "7c2950cd68ad443eb0cf5db94c43cd4d": {
          "model_module": "@jupyter-widgets/base",
          "model_name": "LayoutModel",
          "model_module_version": "1.2.0",
          "state": {
            "_model_module": "@jupyter-widgets/base",
            "_model_module_version": "1.2.0",
            "_model_name": "LayoutModel",
            "_view_count": null,
            "_view_module": "@jupyter-widgets/base",
            "_view_module_version": "1.2.0",
            "_view_name": "LayoutView",
            "align_content": null,
            "align_items": null,
            "align_self": null,
            "border": null,
            "bottom": null,
            "display": null,
            "flex": null,
            "flex_flow": null,
            "grid_area": null,
            "grid_auto_columns": null,
            "grid_auto_flow": null,
            "grid_auto_rows": null,
            "grid_column": null,
            "grid_gap": null,
            "grid_row": null,
            "grid_template_areas": null,
            "grid_template_columns": null,
            "grid_template_rows": null,
            "height": null,
            "justify_content": null,
            "justify_items": null,
            "left": null,
            "margin": null,
            "max_height": null,
            "max_width": null,
            "min_height": null,
            "min_width": null,
            "object_fit": null,
            "object_position": null,
            "order": null,
            "overflow": null,
            "overflow_x": null,
            "overflow_y": null,
            "padding": null,
            "right": null,
            "top": null,
            "visibility": null,
            "width": null
          }
        },
        "fd63ce4a09da4979b39eb129082a5eca": {
          "model_module": "@jupyter-widgets/controls",
          "model_name": "DescriptionStyleModel",
          "model_module_version": "1.5.0",
          "state": {
            "_model_module": "@jupyter-widgets/controls",
            "_model_module_version": "1.5.0",
            "_model_name": "DescriptionStyleModel",
            "_view_count": null,
            "_view_module": "@jupyter-widgets/base",
            "_view_module_version": "1.2.0",
            "_view_name": "StyleView",
            "description_width": ""
          }
        },
        "ebe1ac29907b40558ab4b3ef7314bf37": {
          "model_module": "@jupyter-widgets/base",
          "model_name": "LayoutModel",
          "model_module_version": "1.2.0",
          "state": {
            "_model_module": "@jupyter-widgets/base",
            "_model_module_version": "1.2.0",
            "_model_name": "LayoutModel",
            "_view_count": null,
            "_view_module": "@jupyter-widgets/base",
            "_view_module_version": "1.2.0",
            "_view_name": "LayoutView",
            "align_content": null,
            "align_items": null,
            "align_self": null,
            "border": null,
            "bottom": null,
            "display": null,
            "flex": null,
            "flex_flow": null,
            "grid_area": null,
            "grid_auto_columns": null,
            "grid_auto_flow": null,
            "grid_auto_rows": null,
            "grid_column": null,
            "grid_gap": null,
            "grid_row": null,
            "grid_template_areas": null,
            "grid_template_columns": null,
            "grid_template_rows": null,
            "height": null,
            "justify_content": null,
            "justify_items": null,
            "left": null,
            "margin": null,
            "max_height": null,
            "max_width": null,
            "min_height": null,
            "min_width": null,
            "object_fit": null,
            "object_position": null,
            "order": null,
            "overflow": null,
            "overflow_x": null,
            "overflow_y": null,
            "padding": null,
            "right": null,
            "top": null,
            "visibility": null,
            "width": null
          }
        },
        "16dc7e49edaa428fb957ac046536ad87": {
          "model_module": "@jupyter-widgets/controls",
          "model_name": "ProgressStyleModel",
          "model_module_version": "1.5.0",
          "state": {
            "_model_module": "@jupyter-widgets/controls",
            "_model_module_version": "1.5.0",
            "_model_name": "ProgressStyleModel",
            "_view_count": null,
            "_view_module": "@jupyter-widgets/base",
            "_view_module_version": "1.2.0",
            "_view_name": "StyleView",
            "bar_color": null,
            "description_width": ""
          }
        },
        "aa2c1c7a1aaa4379aec51cea64b4150d": {
          "model_module": "@jupyter-widgets/base",
          "model_name": "LayoutModel",
          "model_module_version": "1.2.0",
          "state": {
            "_model_module": "@jupyter-widgets/base",
            "_model_module_version": "1.2.0",
            "_model_name": "LayoutModel",
            "_view_count": null,
            "_view_module": "@jupyter-widgets/base",
            "_view_module_version": "1.2.0",
            "_view_name": "LayoutView",
            "align_content": null,
            "align_items": null,
            "align_self": null,
            "border": null,
            "bottom": null,
            "display": null,
            "flex": null,
            "flex_flow": null,
            "grid_area": null,
            "grid_auto_columns": null,
            "grid_auto_flow": null,
            "grid_auto_rows": null,
            "grid_column": null,
            "grid_gap": null,
            "grid_row": null,
            "grid_template_areas": null,
            "grid_template_columns": null,
            "grid_template_rows": null,
            "height": null,
            "justify_content": null,
            "justify_items": null,
            "left": null,
            "margin": null,
            "max_height": null,
            "max_width": null,
            "min_height": null,
            "min_width": null,
            "object_fit": null,
            "object_position": null,
            "order": null,
            "overflow": null,
            "overflow_x": null,
            "overflow_y": null,
            "padding": null,
            "right": null,
            "top": null,
            "visibility": null,
            "width": null
          }
        },
        "e96f0e8b52a94df68315d87c2dafb80f": {
          "model_module": "@jupyter-widgets/controls",
          "model_name": "DescriptionStyleModel",
          "model_module_version": "1.5.0",
          "state": {
            "_model_module": "@jupyter-widgets/controls",
            "_model_module_version": "1.5.0",
            "_model_name": "DescriptionStyleModel",
            "_view_count": null,
            "_view_module": "@jupyter-widgets/base",
            "_view_module_version": "1.2.0",
            "_view_name": "StyleView",
            "description_width": ""
          }
        },
        "294feeff261c4b4692f26a45a100c908": {
          "model_module": "@jupyter-widgets/controls",
          "model_name": "HBoxModel",
          "model_module_version": "1.5.0",
          "state": {
            "_dom_classes": [],
            "_model_module": "@jupyter-widgets/controls",
            "_model_module_version": "1.5.0",
            "_model_name": "HBoxModel",
            "_view_count": null,
            "_view_module": "@jupyter-widgets/controls",
            "_view_module_version": "1.5.0",
            "_view_name": "HBoxView",
            "box_style": "",
            "children": [
              "IPY_MODEL_3875eb5df9ff4dad88118306d554fedf",
              "IPY_MODEL_be9ba17be5054bfea840ec41c5055e28",
              "IPY_MODEL_786e579184a8467e85c8ce64f92fc108"
            ],
            "layout": "IPY_MODEL_21f34854f204427c97ee2908ab5c7330"
          }
        },
        "3875eb5df9ff4dad88118306d554fedf": {
          "model_module": "@jupyter-widgets/controls",
          "model_name": "HTMLModel",
          "model_module_version": "1.5.0",
          "state": {
            "_dom_classes": [],
            "_model_module": "@jupyter-widgets/controls",
            "_model_module_version": "1.5.0",
            "_model_name": "HTMLModel",
            "_view_count": null,
            "_view_module": "@jupyter-widgets/controls",
            "_view_module_version": "1.5.0",
            "_view_name": "HTMLView",
            "description": "",
            "description_tooltip": null,
            "layout": "IPY_MODEL_bc40f4c3697d4d3dbd66587544d5ab98",
            "placeholder": "​",
            "style": "IPY_MODEL_9011e662f62f40c395d68c80a1943be6",
            "value": "100%"
          }
        },
        "be9ba17be5054bfea840ec41c5055e28": {
          "model_module": "@jupyter-widgets/controls",
          "model_name": "FloatProgressModel",
          "model_module_version": "1.5.0",
          "state": {
            "_dom_classes": [],
            "_model_module": "@jupyter-widgets/controls",
            "_model_module_version": "1.5.0",
            "_model_name": "FloatProgressModel",
            "_view_count": null,
            "_view_module": "@jupyter-widgets/controls",
            "_view_module_version": "1.5.0",
            "_view_name": "ProgressView",
            "bar_style": "success",
            "description": "",
            "description_tooltip": null,
            "layout": "IPY_MODEL_58c3a393a8bf4aa2851e5ab4a294bf70",
            "max": 1648877,
            "min": 0,
            "orientation": "horizontal",
            "style": "IPY_MODEL_06d8f055622f4304bbfe86948efe87a0",
            "value": 1648877
          }
        },
        "786e579184a8467e85c8ce64f92fc108": {
          "model_module": "@jupyter-widgets/controls",
          "model_name": "HTMLModel",
          "model_module_version": "1.5.0",
          "state": {
            "_dom_classes": [],
            "_model_module": "@jupyter-widgets/controls",
            "_model_module_version": "1.5.0",
            "_model_name": "HTMLModel",
            "_view_count": null,
            "_view_module": "@jupyter-widgets/controls",
            "_view_module_version": "1.5.0",
            "_view_name": "HTMLView",
            "description": "",
            "description_tooltip": null,
            "layout": "IPY_MODEL_583c4ccfe52249b2bdb7cdfd5139533d",
            "placeholder": "​",
            "style": "IPY_MODEL_ff8b57e4ec64413fbc784fa6679b9df6",
            "value": " 1648877/1648877 [00:00&lt;00:00, 20769191.07it/s]"
          }
        },
        "21f34854f204427c97ee2908ab5c7330": {
          "model_module": "@jupyter-widgets/base",
          "model_name": "LayoutModel",
          "model_module_version": "1.2.0",
          "state": {
            "_model_module": "@jupyter-widgets/base",
            "_model_module_version": "1.2.0",
            "_model_name": "LayoutModel",
            "_view_count": null,
            "_view_module": "@jupyter-widgets/base",
            "_view_module_version": "1.2.0",
            "_view_name": "LayoutView",
            "align_content": null,
            "align_items": null,
            "align_self": null,
            "border": null,
            "bottom": null,
            "display": null,
            "flex": null,
            "flex_flow": null,
            "grid_area": null,
            "grid_auto_columns": null,
            "grid_auto_flow": null,
            "grid_auto_rows": null,
            "grid_column": null,
            "grid_gap": null,
            "grid_row": null,
            "grid_template_areas": null,
            "grid_template_columns": null,
            "grid_template_rows": null,
            "height": null,
            "justify_content": null,
            "justify_items": null,
            "left": null,
            "margin": null,
            "max_height": null,
            "max_width": null,
            "min_height": null,
            "min_width": null,
            "object_fit": null,
            "object_position": null,
            "order": null,
            "overflow": null,
            "overflow_x": null,
            "overflow_y": null,
            "padding": null,
            "right": null,
            "top": null,
            "visibility": null,
            "width": null
          }
        },
        "bc40f4c3697d4d3dbd66587544d5ab98": {
          "model_module": "@jupyter-widgets/base",
          "model_name": "LayoutModel",
          "model_module_version": "1.2.0",
          "state": {
            "_model_module": "@jupyter-widgets/base",
            "_model_module_version": "1.2.0",
            "_model_name": "LayoutModel",
            "_view_count": null,
            "_view_module": "@jupyter-widgets/base",
            "_view_module_version": "1.2.0",
            "_view_name": "LayoutView",
            "align_content": null,
            "align_items": null,
            "align_self": null,
            "border": null,
            "bottom": null,
            "display": null,
            "flex": null,
            "flex_flow": null,
            "grid_area": null,
            "grid_auto_columns": null,
            "grid_auto_flow": null,
            "grid_auto_rows": null,
            "grid_column": null,
            "grid_gap": null,
            "grid_row": null,
            "grid_template_areas": null,
            "grid_template_columns": null,
            "grid_template_rows": null,
            "height": null,
            "justify_content": null,
            "justify_items": null,
            "left": null,
            "margin": null,
            "max_height": null,
            "max_width": null,
            "min_height": null,
            "min_width": null,
            "object_fit": null,
            "object_position": null,
            "order": null,
            "overflow": null,
            "overflow_x": null,
            "overflow_y": null,
            "padding": null,
            "right": null,
            "top": null,
            "visibility": null,
            "width": null
          }
        },
        "9011e662f62f40c395d68c80a1943be6": {
          "model_module": "@jupyter-widgets/controls",
          "model_name": "DescriptionStyleModel",
          "model_module_version": "1.5.0",
          "state": {
            "_model_module": "@jupyter-widgets/controls",
            "_model_module_version": "1.5.0",
            "_model_name": "DescriptionStyleModel",
            "_view_count": null,
            "_view_module": "@jupyter-widgets/base",
            "_view_module_version": "1.2.0",
            "_view_name": "StyleView",
            "description_width": ""
          }
        },
        "58c3a393a8bf4aa2851e5ab4a294bf70": {
          "model_module": "@jupyter-widgets/base",
          "model_name": "LayoutModel",
          "model_module_version": "1.2.0",
          "state": {
            "_model_module": "@jupyter-widgets/base",
            "_model_module_version": "1.2.0",
            "_model_name": "LayoutModel",
            "_view_count": null,
            "_view_module": "@jupyter-widgets/base",
            "_view_module_version": "1.2.0",
            "_view_name": "LayoutView",
            "align_content": null,
            "align_items": null,
            "align_self": null,
            "border": null,
            "bottom": null,
            "display": null,
            "flex": null,
            "flex_flow": null,
            "grid_area": null,
            "grid_auto_columns": null,
            "grid_auto_flow": null,
            "grid_auto_rows": null,
            "grid_column": null,
            "grid_gap": null,
            "grid_row": null,
            "grid_template_areas": null,
            "grid_template_columns": null,
            "grid_template_rows": null,
            "height": null,
            "justify_content": null,
            "justify_items": null,
            "left": null,
            "margin": null,
            "max_height": null,
            "max_width": null,
            "min_height": null,
            "min_width": null,
            "object_fit": null,
            "object_position": null,
            "order": null,
            "overflow": null,
            "overflow_x": null,
            "overflow_y": null,
            "padding": null,
            "right": null,
            "top": null,
            "visibility": null,
            "width": null
          }
        },
        "06d8f055622f4304bbfe86948efe87a0": {
          "model_module": "@jupyter-widgets/controls",
          "model_name": "ProgressStyleModel",
          "model_module_version": "1.5.0",
          "state": {
            "_model_module": "@jupyter-widgets/controls",
            "_model_module_version": "1.5.0",
            "_model_name": "ProgressStyleModel",
            "_view_count": null,
            "_view_module": "@jupyter-widgets/base",
            "_view_module_version": "1.2.0",
            "_view_name": "StyleView",
            "bar_color": null,
            "description_width": ""
          }
        },
        "583c4ccfe52249b2bdb7cdfd5139533d": {
          "model_module": "@jupyter-widgets/base",
          "model_name": "LayoutModel",
          "model_module_version": "1.2.0",
          "state": {
            "_model_module": "@jupyter-widgets/base",
            "_model_module_version": "1.2.0",
            "_model_name": "LayoutModel",
            "_view_count": null,
            "_view_module": "@jupyter-widgets/base",
            "_view_module_version": "1.2.0",
            "_view_name": "LayoutView",
            "align_content": null,
            "align_items": null,
            "align_self": null,
            "border": null,
            "bottom": null,
            "display": null,
            "flex": null,
            "flex_flow": null,
            "grid_area": null,
            "grid_auto_columns": null,
            "grid_auto_flow": null,
            "grid_auto_rows": null,
            "grid_column": null,
            "grid_gap": null,
            "grid_row": null,
            "grid_template_areas": null,
            "grid_template_columns": null,
            "grid_template_rows": null,
            "height": null,
            "justify_content": null,
            "justify_items": null,
            "left": null,
            "margin": null,
            "max_height": null,
            "max_width": null,
            "min_height": null,
            "min_width": null,
            "object_fit": null,
            "object_position": null,
            "order": null,
            "overflow": null,
            "overflow_x": null,
            "overflow_y": null,
            "padding": null,
            "right": null,
            "top": null,
            "visibility": null,
            "width": null
          }
        },
        "ff8b57e4ec64413fbc784fa6679b9df6": {
          "model_module": "@jupyter-widgets/controls",
          "model_name": "DescriptionStyleModel",
          "model_module_version": "1.5.0",
          "state": {
            "_model_module": "@jupyter-widgets/controls",
            "_model_module_version": "1.5.0",
            "_model_name": "DescriptionStyleModel",
            "_view_count": null,
            "_view_module": "@jupyter-widgets/base",
            "_view_module_version": "1.2.0",
            "_view_name": "StyleView",
            "description_width": ""
          }
        },
        "b625e885cf804392a0e63d7c7a39feca": {
          "model_module": "@jupyter-widgets/controls",
          "model_name": "HBoxModel",
          "model_module_version": "1.5.0",
          "state": {
            "_dom_classes": [],
            "_model_module": "@jupyter-widgets/controls",
            "_model_module_version": "1.5.0",
            "_model_name": "HBoxModel",
            "_view_count": null,
            "_view_module": "@jupyter-widgets/controls",
            "_view_module_version": "1.5.0",
            "_view_name": "HBoxView",
            "box_style": "",
            "children": [
              "IPY_MODEL_d914ad403da144c1a3eca3ef92d7bec2",
              "IPY_MODEL_e61e5ea71b73449bbba6aaf74be36202",
              "IPY_MODEL_f80e22e50ac34dd7b92df289c7bd7e48"
            ],
            "layout": "IPY_MODEL_6fc108fe845c4836b47e137d463cf1fa"
          }
        },
        "d914ad403da144c1a3eca3ef92d7bec2": {
          "model_module": "@jupyter-widgets/controls",
          "model_name": "HTMLModel",
          "model_module_version": "1.5.0",
          "state": {
            "_dom_classes": [],
            "_model_module": "@jupyter-widgets/controls",
            "_model_module_version": "1.5.0",
            "_model_name": "HTMLModel",
            "_view_count": null,
            "_view_module": "@jupyter-widgets/controls",
            "_view_module_version": "1.5.0",
            "_view_name": "HTMLView",
            "description": "",
            "description_tooltip": null,
            "layout": "IPY_MODEL_13c59decde184e198ba6db2aeeb1e877",
            "placeholder": "​",
            "style": "IPY_MODEL_018a2f404564499a9f14fc28d1b431fa",
            "value": "100%"
          }
        },
        "e61e5ea71b73449bbba6aaf74be36202": {
          "model_module": "@jupyter-widgets/controls",
          "model_name": "FloatProgressModel",
          "model_module_version": "1.5.0",
          "state": {
            "_dom_classes": [],
            "_model_module": "@jupyter-widgets/controls",
            "_model_module_version": "1.5.0",
            "_model_name": "FloatProgressModel",
            "_view_count": null,
            "_view_module": "@jupyter-widgets/controls",
            "_view_module_version": "1.5.0",
            "_view_name": "ProgressView",
            "bar_style": "success",
            "description": "",
            "description_tooltip": null,
            "layout": "IPY_MODEL_a9816fd6f10b4540915bce8012c7d321",
            "max": 4542,
            "min": 0,
            "orientation": "horizontal",
            "style": "IPY_MODEL_4ed14126ac784b198411b306a84539b4",
            "value": 4542
          }
        },
        "f80e22e50ac34dd7b92df289c7bd7e48": {
          "model_module": "@jupyter-widgets/controls",
          "model_name": "HTMLModel",
          "model_module_version": "1.5.0",
          "state": {
            "_dom_classes": [],
            "_model_module": "@jupyter-widgets/controls",
            "_model_module_version": "1.5.0",
            "_model_name": "HTMLModel",
            "_view_count": null,
            "_view_module": "@jupyter-widgets/controls",
            "_view_module_version": "1.5.0",
            "_view_name": "HTMLView",
            "description": "",
            "description_tooltip": null,
            "layout": "IPY_MODEL_560d77ee8ffa4e00b8576c3bfda858b0",
            "placeholder": "​",
            "style": "IPY_MODEL_a484a6c2c089429c8cf5245c93e218a1",
            "value": " 4542/4542 [00:00&lt;00:00, 238997.98it/s]"
          }
        },
        "6fc108fe845c4836b47e137d463cf1fa": {
          "model_module": "@jupyter-widgets/base",
          "model_name": "LayoutModel",
          "model_module_version": "1.2.0",
          "state": {
            "_model_module": "@jupyter-widgets/base",
            "_model_module_version": "1.2.0",
            "_model_name": "LayoutModel",
            "_view_count": null,
            "_view_module": "@jupyter-widgets/base",
            "_view_module_version": "1.2.0",
            "_view_name": "LayoutView",
            "align_content": null,
            "align_items": null,
            "align_self": null,
            "border": null,
            "bottom": null,
            "display": null,
            "flex": null,
            "flex_flow": null,
            "grid_area": null,
            "grid_auto_columns": null,
            "grid_auto_flow": null,
            "grid_auto_rows": null,
            "grid_column": null,
            "grid_gap": null,
            "grid_row": null,
            "grid_template_areas": null,
            "grid_template_columns": null,
            "grid_template_rows": null,
            "height": null,
            "justify_content": null,
            "justify_items": null,
            "left": null,
            "margin": null,
            "max_height": null,
            "max_width": null,
            "min_height": null,
            "min_width": null,
            "object_fit": null,
            "object_position": null,
            "order": null,
            "overflow": null,
            "overflow_x": null,
            "overflow_y": null,
            "padding": null,
            "right": null,
            "top": null,
            "visibility": null,
            "width": null
          }
        },
        "13c59decde184e198ba6db2aeeb1e877": {
          "model_module": "@jupyter-widgets/base",
          "model_name": "LayoutModel",
          "model_module_version": "1.2.0",
          "state": {
            "_model_module": "@jupyter-widgets/base",
            "_model_module_version": "1.2.0",
            "_model_name": "LayoutModel",
            "_view_count": null,
            "_view_module": "@jupyter-widgets/base",
            "_view_module_version": "1.2.0",
            "_view_name": "LayoutView",
            "align_content": null,
            "align_items": null,
            "align_self": null,
            "border": null,
            "bottom": null,
            "display": null,
            "flex": null,
            "flex_flow": null,
            "grid_area": null,
            "grid_auto_columns": null,
            "grid_auto_flow": null,
            "grid_auto_rows": null,
            "grid_column": null,
            "grid_gap": null,
            "grid_row": null,
            "grid_template_areas": null,
            "grid_template_columns": null,
            "grid_template_rows": null,
            "height": null,
            "justify_content": null,
            "justify_items": null,
            "left": null,
            "margin": null,
            "max_height": null,
            "max_width": null,
            "min_height": null,
            "min_width": null,
            "object_fit": null,
            "object_position": null,
            "order": null,
            "overflow": null,
            "overflow_x": null,
            "overflow_y": null,
            "padding": null,
            "right": null,
            "top": null,
            "visibility": null,
            "width": null
          }
        },
        "018a2f404564499a9f14fc28d1b431fa": {
          "model_module": "@jupyter-widgets/controls",
          "model_name": "DescriptionStyleModel",
          "model_module_version": "1.5.0",
          "state": {
            "_model_module": "@jupyter-widgets/controls",
            "_model_module_version": "1.5.0",
            "_model_name": "DescriptionStyleModel",
            "_view_count": null,
            "_view_module": "@jupyter-widgets/base",
            "_view_module_version": "1.2.0",
            "_view_name": "StyleView",
            "description_width": ""
          }
        },
        "a9816fd6f10b4540915bce8012c7d321": {
          "model_module": "@jupyter-widgets/base",
          "model_name": "LayoutModel",
          "model_module_version": "1.2.0",
          "state": {
            "_model_module": "@jupyter-widgets/base",
            "_model_module_version": "1.2.0",
            "_model_name": "LayoutModel",
            "_view_count": null,
            "_view_module": "@jupyter-widgets/base",
            "_view_module_version": "1.2.0",
            "_view_name": "LayoutView",
            "align_content": null,
            "align_items": null,
            "align_self": null,
            "border": null,
            "bottom": null,
            "display": null,
            "flex": null,
            "flex_flow": null,
            "grid_area": null,
            "grid_auto_columns": null,
            "grid_auto_flow": null,
            "grid_auto_rows": null,
            "grid_column": null,
            "grid_gap": null,
            "grid_row": null,
            "grid_template_areas": null,
            "grid_template_columns": null,
            "grid_template_rows": null,
            "height": null,
            "justify_content": null,
            "justify_items": null,
            "left": null,
            "margin": null,
            "max_height": null,
            "max_width": null,
            "min_height": null,
            "min_width": null,
            "object_fit": null,
            "object_position": null,
            "order": null,
            "overflow": null,
            "overflow_x": null,
            "overflow_y": null,
            "padding": null,
            "right": null,
            "top": null,
            "visibility": null,
            "width": null
          }
        },
        "4ed14126ac784b198411b306a84539b4": {
          "model_module": "@jupyter-widgets/controls",
          "model_name": "ProgressStyleModel",
          "model_module_version": "1.5.0",
          "state": {
            "_model_module": "@jupyter-widgets/controls",
            "_model_module_version": "1.5.0",
            "_model_name": "ProgressStyleModel",
            "_view_count": null,
            "_view_module": "@jupyter-widgets/base",
            "_view_module_version": "1.2.0",
            "_view_name": "StyleView",
            "bar_color": null,
            "description_width": ""
          }
        },
        "560d77ee8ffa4e00b8576c3bfda858b0": {
          "model_module": "@jupyter-widgets/base",
          "model_name": "LayoutModel",
          "model_module_version": "1.2.0",
          "state": {
            "_model_module": "@jupyter-widgets/base",
            "_model_module_version": "1.2.0",
            "_model_name": "LayoutModel",
            "_view_count": null,
            "_view_module": "@jupyter-widgets/base",
            "_view_module_version": "1.2.0",
            "_view_name": "LayoutView",
            "align_content": null,
            "align_items": null,
            "align_self": null,
            "border": null,
            "bottom": null,
            "display": null,
            "flex": null,
            "flex_flow": null,
            "grid_area": null,
            "grid_auto_columns": null,
            "grid_auto_flow": null,
            "grid_auto_rows": null,
            "grid_column": null,
            "grid_gap": null,
            "grid_row": null,
            "grid_template_areas": null,
            "grid_template_columns": null,
            "grid_template_rows": null,
            "height": null,
            "justify_content": null,
            "justify_items": null,
            "left": null,
            "margin": null,
            "max_height": null,
            "max_width": null,
            "min_height": null,
            "min_width": null,
            "object_fit": null,
            "object_position": null,
            "order": null,
            "overflow": null,
            "overflow_x": null,
            "overflow_y": null,
            "padding": null,
            "right": null,
            "top": null,
            "visibility": null,
            "width": null
          }
        },
        "a484a6c2c089429c8cf5245c93e218a1": {
          "model_module": "@jupyter-widgets/controls",
          "model_name": "DescriptionStyleModel",
          "model_module_version": "1.5.0",
          "state": {
            "_model_module": "@jupyter-widgets/controls",
            "_model_module_version": "1.5.0",
            "_model_name": "DescriptionStyleModel",
            "_view_count": null,
            "_view_module": "@jupyter-widgets/base",
            "_view_module_version": "1.2.0",
            "_view_name": "StyleView",
            "description_width": ""
          }
        }
      }
    }
  },
  "cells": [
    {
      "cell_type": "markdown",
      "metadata": {
        "id": "view-in-github",
        "colab_type": "text"
      },
      "source": [
        "<a href=\"https://colab.research.google.com/github/MPGarg/TSCAI2.5/blob/main/Pytorch_101_Assignment.ipynb\" target=\"_parent\"><img src=\"https://colab.research.google.com/assets/colab-badge.svg\" alt=\"Open In Colab\"/></a>"
      ]
    },
    {
      "cell_type": "code",
      "execution_count": 1,
      "metadata": {
        "id": "D-5sqR1ESBmE"
      },
      "outputs": [],
      "source": [
        "#import important libraries\n",
        "import torch\n",
        "import torchvision # provide access to datasets, models, transforms, utils, etc\n",
        "import torchvision.transforms as transforms"
      ]
    },
    {
      "cell_type": "code",
      "source": [
        "from torch.utils.data import Dataset"
      ],
      "metadata": {
        "id": "gCCNJun9kOiQ"
      },
      "execution_count": 2,
      "outputs": []
    },
    {
      "cell_type": "code",
      "source": [
        "# Download Mnist data\n",
        "train_set_mnist = torchvision.datasets.MNIST(\n",
        "    root='./data'\n",
        "    ,train=True\n",
        "    ,download=True\n",
        "    ,transform=transforms.Compose([\n",
        "        transforms.ToTensor(),\n",
        "        transforms.Normalize((0.1307,), (0.3081,))\n",
        "    ])\n",
        ")\n",
        "\n",
        "test_set_mnist = torchvision.datasets.MNIST(\n",
        "    root='./data'\n",
        "    ,train=False\n",
        "    ,download=True\n",
        "    ,transform=transforms.Compose([\n",
        "        transforms.ToTensor(),\n",
        "        transforms.Normalize((0.1307,), (0.3081,))\n",
        "    ])\n",
        ")"
      ],
      "metadata": {
        "id": "jYrOz-t_kX-B",
        "colab": {
          "base_uri": "https://localhost:8080/",
          "height": 423,
          "referenced_widgets": [
            "37af07906e6440a89971deb5bc8f09ac",
            "0159ed9edf3845458e8f6ec4955eeb0f",
            "ab3ae9e62fab4a9093c601ccf170ce9f",
            "db838bc4d7a54850b3fc1f793ad093ba",
            "55bddb6ba9224512ac9badec59fe0276",
            "31bc24ecf2e94c5ebf9243f3a2e956bf",
            "03f9d7eca7b34de390a657c0d03e9406",
            "e75369c3cd97427c8592d7f1fe4c360a",
            "daaa2e0890904aefba841a677cf3829c",
            "efc0f7f33ba4481c86f911eaf336e465",
            "9913f070030644e897579850efc0c082",
            "b6fc0a48e20e4be09fef83ff1bf13fab",
            "fc40d2c26eef47fba19830bf32206327",
            "9d003a9caf4a4027ab1c28a401a1a716",
            "b168e07c52e94e42a0fc963bd2f34e47",
            "00b01dc51c1042dda0b7674270357015",
            "7c2950cd68ad443eb0cf5db94c43cd4d",
            "fd63ce4a09da4979b39eb129082a5eca",
            "ebe1ac29907b40558ab4b3ef7314bf37",
            "16dc7e49edaa428fb957ac046536ad87",
            "aa2c1c7a1aaa4379aec51cea64b4150d",
            "e96f0e8b52a94df68315d87c2dafb80f",
            "294feeff261c4b4692f26a45a100c908",
            "3875eb5df9ff4dad88118306d554fedf",
            "be9ba17be5054bfea840ec41c5055e28",
            "786e579184a8467e85c8ce64f92fc108",
            "21f34854f204427c97ee2908ab5c7330",
            "bc40f4c3697d4d3dbd66587544d5ab98",
            "9011e662f62f40c395d68c80a1943be6",
            "58c3a393a8bf4aa2851e5ab4a294bf70",
            "06d8f055622f4304bbfe86948efe87a0",
            "583c4ccfe52249b2bdb7cdfd5139533d",
            "ff8b57e4ec64413fbc784fa6679b9df6",
            "b625e885cf804392a0e63d7c7a39feca",
            "d914ad403da144c1a3eca3ef92d7bec2",
            "e61e5ea71b73449bbba6aaf74be36202",
            "f80e22e50ac34dd7b92df289c7bd7e48",
            "6fc108fe845c4836b47e137d463cf1fa",
            "13c59decde184e198ba6db2aeeb1e877",
            "018a2f404564499a9f14fc28d1b431fa",
            "a9816fd6f10b4540915bce8012c7d321",
            "4ed14126ac784b198411b306a84539b4",
            "560d77ee8ffa4e00b8576c3bfda858b0",
            "a484a6c2c089429c8cf5245c93e218a1"
          ]
        },
        "outputId": "da2f9654-78ab-45db-a34a-596358e952e4"
      },
      "execution_count": 3,
      "outputs": [
        {
          "output_type": "stream",
          "name": "stdout",
          "text": [
            "Downloading http://yann.lecun.com/exdb/mnist/train-images-idx3-ubyte.gz\n",
            "Downloading http://yann.lecun.com/exdb/mnist/train-images-idx3-ubyte.gz to ./data/MNIST/raw/train-images-idx3-ubyte.gz\n"
          ]
        },
        {
          "output_type": "display_data",
          "data": {
            "text/plain": [
              "  0%|          | 0/9912422 [00:00<?, ?it/s]"
            ],
            "application/vnd.jupyter.widget-view+json": {
              "version_major": 2,
              "version_minor": 0,
              "model_id": "37af07906e6440a89971deb5bc8f09ac"
            }
          },
          "metadata": {}
        },
        {
          "output_type": "stream",
          "name": "stdout",
          "text": [
            "Extracting ./data/MNIST/raw/train-images-idx3-ubyte.gz to ./data/MNIST/raw\n",
            "\n",
            "Downloading http://yann.lecun.com/exdb/mnist/train-labels-idx1-ubyte.gz\n",
            "Downloading http://yann.lecun.com/exdb/mnist/train-labels-idx1-ubyte.gz to ./data/MNIST/raw/train-labels-idx1-ubyte.gz\n"
          ]
        },
        {
          "output_type": "display_data",
          "data": {
            "text/plain": [
              "  0%|          | 0/28881 [00:00<?, ?it/s]"
            ],
            "application/vnd.jupyter.widget-view+json": {
              "version_major": 2,
              "version_minor": 0,
              "model_id": "b6fc0a48e20e4be09fef83ff1bf13fab"
            }
          },
          "metadata": {}
        },
        {
          "output_type": "stream",
          "name": "stdout",
          "text": [
            "Extracting ./data/MNIST/raw/train-labels-idx1-ubyte.gz to ./data/MNIST/raw\n",
            "\n",
            "Downloading http://yann.lecun.com/exdb/mnist/t10k-images-idx3-ubyte.gz\n",
            "Downloading http://yann.lecun.com/exdb/mnist/t10k-images-idx3-ubyte.gz to ./data/MNIST/raw/t10k-images-idx3-ubyte.gz\n"
          ]
        },
        {
          "output_type": "display_data",
          "data": {
            "text/plain": [
              "  0%|          | 0/1648877 [00:00<?, ?it/s]"
            ],
            "application/vnd.jupyter.widget-view+json": {
              "version_major": 2,
              "version_minor": 0,
              "model_id": "294feeff261c4b4692f26a45a100c908"
            }
          },
          "metadata": {}
        },
        {
          "output_type": "stream",
          "name": "stdout",
          "text": [
            "Extracting ./data/MNIST/raw/t10k-images-idx3-ubyte.gz to ./data/MNIST/raw\n",
            "\n",
            "Downloading http://yann.lecun.com/exdb/mnist/t10k-labels-idx1-ubyte.gz\n",
            "Downloading http://yann.lecun.com/exdb/mnist/t10k-labels-idx1-ubyte.gz to ./data/MNIST/raw/t10k-labels-idx1-ubyte.gz\n"
          ]
        },
        {
          "output_type": "display_data",
          "data": {
            "text/plain": [
              "  0%|          | 0/4542 [00:00<?, ?it/s]"
            ],
            "application/vnd.jupyter.widget-view+json": {
              "version_major": 2,
              "version_minor": 0,
              "model_id": "b625e885cf804392a0e63d7c7a39feca"
            }
          },
          "metadata": {}
        },
        {
          "output_type": "stream",
          "name": "stdout",
          "text": [
            "Extracting ./data/MNIST/raw/t10k-labels-idx1-ubyte.gz to ./data/MNIST/raw\n",
            "\n"
          ]
        }
      ]
    },
    {
      "cell_type": "code",
      "source": [
        "#create loader for testing\n",
        "train_loader_mnist = torch.utils.data.DataLoader(\n",
        "    train_set_mnist, \n",
        "    batch_size=32,\n",
        "    shuffle=True\n",
        ")"
      ],
      "metadata": {
        "id": "9pye_wGpkYAh"
      },
      "execution_count": 4,
      "outputs": []
    },
    {
      "cell_type": "code",
      "source": [
        "#set width to print\n",
        "import numpy as np\n",
        "import matplotlib.pyplot as plt\n",
        "\n",
        "torch.set_printoptions(linewidth=120)"
      ],
      "metadata": {
        "id": "1VeWAbhZkYDn"
      },
      "execution_count": 5,
      "outputs": []
    },
    {
      "cell_type": "code",
      "source": [
        "len(train_set_mnist), len(test_set_mnist)"
      ],
      "metadata": {
        "colab": {
          "base_uri": "https://localhost:8080/"
        },
        "id": "yLAD75EDkYFN",
        "outputId": "a8bf85d5-2e46-48c3-ad49-7d0a35187d90"
      },
      "execution_count": 6,
      "outputs": [
        {
          "output_type": "execute_result",
          "data": {
            "text/plain": [
              "(60000, 10000)"
            ]
          },
          "metadata": {},
          "execution_count": 6
        }
      ]
    },
    {
      "cell_type": "code",
      "source": [
        "#distribution of data in MNIST\n",
        "train_set_mnist.targets.bincount(), test_set_mnist.targets.bincount()"
      ],
      "metadata": {
        "colab": {
          "base_uri": "https://localhost:8080/"
        },
        "id": "POe3kbwZkYJJ",
        "outputId": "0c387be2-0306-4e8c-abe4-8693f49f055d"
      },
      "execution_count": 7,
      "outputs": [
        {
          "output_type": "execute_result",
          "data": {
            "text/plain": [
              "(tensor([5923, 6742, 5958, 6131, 5842, 5421, 5918, 6265, 5851, 5949]),\n",
              " tensor([ 980, 1135, 1032, 1010,  982,  892,  958, 1028,  974, 1009]))"
            ]
          },
          "metadata": {},
          "execution_count": 7
        }
      ]
    },
    {
      "cell_type": "code",
      "source": [
        "#printing batch\n",
        "batch = next(iter(train_loader_mnist))\n",
        "images, labels = batch\n",
        "grid = torchvision.utils.make_grid(images, nrow=10)\n",
        "plt.figure(figsize=(15,15))\n",
        "plt.imshow(np.transpose(grid, (1,2,0)))\n",
        "print('labels:', labels)"
      ],
      "metadata": {
        "colab": {
          "base_uri": "https://localhost:8080/",
          "height": 424
        },
        "id": "PAAhZINPkYLs",
        "outputId": "438ea075-67ab-4f7f-db2f-bee41296f60c"
      },
      "execution_count": 8,
      "outputs": [
        {
          "output_type": "stream",
          "name": "stderr",
          "text": [
            "WARNING:matplotlib.image:Clipping input data to the valid range for imshow with RGB data ([0..1] for floats or [0..255] for integers).\n"
          ]
        },
        {
          "output_type": "stream",
          "name": "stdout",
          "text": [
            "labels: tensor([2, 4, 9, 6, 1, 8, 4, 9, 2, 1, 0, 1, 8, 1, 4, 4, 6, 4, 6, 1, 2, 9, 7, 7, 3, 2, 4, 4, 2, 7, 7, 3])\n"
          ]
        },
        {
          "output_type": "display_data",
          "data": {
            "text/plain": [
              "<Figure size 1080x1080 with 1 Axes>"
            ],
            "image/png": "[encoded data removed]"
          },
          "metadata": {
            "needs_background": "light"
          }
        }
      ]
    },
    {
      "cell_type": "code",
      "source": [
        "#creating dataset of Random Numbers + MNIST = RandomNo_MNIST\n",
        "from torch.utils.data import Dataset\n",
        "import torch.nn.functional as F\n",
        "import torch.optim as optim\n",
        "\n",
        "class RandomNo_MNIST(Dataset):\n",
        "  def __init__(self, imageset):\n",
        "    self.imageset = imageset\n",
        "\n",
        "  def __getitem__(self, index):\n",
        "    rand_no_label = torch.randint(0, 10, (1,))            #number from 0 to 9\n",
        "    rand_no = F.one_hot(rand_no_label, num_classes=10)    #one hot encoding to be concatenated later\n",
        "    return { \"image\": self.imageset[index][0], \n",
        "              \"number\": rand_no,\n",
        "              \"label_image\": self.imageset[index][1],\n",
        "              \"label_num\": rand_no_label }      \n",
        "           #returning encoded data & label\n",
        "\n",
        "  def __len__(self):\n",
        "    return len(self.imageset)"
      ],
      "metadata": {
        "id": "Ur5iRG5XTdZm"
      },
      "execution_count": 9,
      "outputs": []
    },
    {
      "cell_type": "code",
      "source": [
        "randNo_train = RandomNo_MNIST(train_set_mnist)\n",
        "randNo_test = RandomNo_MNIST(test_set_mnist)\n",
        "\n",
        "len(randNo_train), len(randNo_test)"
      ],
      "metadata": {
        "colab": {
          "base_uri": "https://localhost:8080/"
        },
        "id": "HgiZhD7VTdbI",
        "outputId": "33b04965-eb7b-409e-fcb2-25345b7571a1"
      },
      "execution_count": 19,
      "outputs": [
        {
          "output_type": "execute_result",
          "data": {
            "text/plain": [
              "(60000, 10000)"
            ]
          },
          "metadata": {},
          "execution_count": 19
        }
      ]
    },
    {
      "cell_type": "code",
      "source": [
        "#for checking loader\n",
        "train_loader_rand = torch.utils.data.DataLoader(\n",
        "    randNo_train, \n",
        "    batch_size = 2, \n",
        "    shuffle=True\n",
        ")"
      ],
      "metadata": {
        "id": "bHMCpxIZTde5"
      },
      "execution_count": 11,
      "outputs": []
    },
    {
      "cell_type": "code",
      "source": [
        "#print 1 batch\n",
        "for v in train_loader_rand:\n",
        "  print(v)\n",
        "  break"
      ],
      "metadata": {
        "colab": {
          "base_uri": "https://localhost:8080/"
        },
        "id": "-a0nLneynFfD",
        "outputId": "82b9ccab-7bab-4ed5-c188-445c6155bff8"
      },
      "execution_count": 12,
      "outputs": [
        {
          "output_type": "stream",
          "name": "stdout",
          "text": [
            "{'image': tensor([[[[-0.4242, -0.4242, -0.4242,  ..., -0.4242, -0.4242, -0.4242],\n",
            "          [-0.4242, -0.4242, -0.4242,  ..., -0.4242, -0.4242, -0.4242],\n",
            "          [-0.4242, -0.4242, -0.4242,  ..., -0.4242, -0.4242, -0.4242],\n",
            "          ...,\n",
            "          [-0.4242, -0.4242, -0.4242,  ..., -0.4242, -0.4242, -0.4242],\n",
            "          [-0.4242, -0.4242, -0.4242,  ..., -0.4242, -0.4242, -0.4242],\n",
            "          [-0.4242, -0.4242, -0.4242,  ..., -0.4242, -0.4242, -0.4242]]],\n",
            "\n",
            "\n",
            "        [[[-0.4242, -0.4242, -0.4242,  ..., -0.4242, -0.4242, -0.4242],\n",
            "          [-0.4242, -0.4242, -0.4242,  ..., -0.4242, -0.4242, -0.4242],\n",
            "          [-0.4242, -0.4242, -0.4242,  ..., -0.4242, -0.4242, -0.4242],\n",
            "          ...,\n",
            "          [-0.4242, -0.4242, -0.4242,  ..., -0.4242, -0.4242, -0.4242],\n",
            "          [-0.4242, -0.4242, -0.4242,  ..., -0.4242, -0.4242, -0.4242],\n",
            "          [-0.4242, -0.4242, -0.4242,  ..., -0.4242, -0.4242, -0.4242]]]]), 'number': tensor([[[0, 0, 0, 0, 1, 0, 0, 0, 0, 0]],\n",
            "\n",
            "        [[0, 0, 0, 1, 0, 0, 0, 0, 0, 0]]]), 'label_image': tensor([2, 4]), 'label_num': tensor([[4],\n",
            "        [3]])}\n"
          ]
        }
      ]
    },
    {
      "cell_type": "code",
      "source": [
        "#get correct values\n",
        "def get_num_correct(preds, labels):\n",
        "  return preds.argmax(dim=1).eq(labels).sum().item()"
      ],
      "metadata": {
        "id": "Nze0We0edB3U"
      },
      "execution_count": 13,
      "outputs": []
    },
    {
      "cell_type": "code",
      "source": [
        "#Set CUDA if available\n",
        "device = torch.device(\"cuda\" if torch.cuda.is_available() else \"cpu\")\n",
        "print(device)"
      ],
      "metadata": {
        "colab": {
          "base_uri": "https://localhost:8080/"
        },
        "id": "XhAVa90TdB6I",
        "outputId": "7813d0dd-04e5-4c06-bf88-40c7639d1c59"
      },
      "execution_count": 14,
      "outputs": [
        {
          "output_type": "stream",
          "name": "stdout",
          "text": [
            "cuda\n"
          ]
        }
      ]
    },
    {
      "cell_type": "code",
      "source": [
        "#create model\n",
        "import torch.nn as nn\n",
        "class Network(nn.Module):\n",
        "  def __init__(self):\n",
        "    super().__init__()\n",
        "    self.conv1 = nn.Conv2d(in_channels=1, out_channels=32, kernel_size=3)       \n",
        "    self.conv2 = nn.Conv2d(in_channels=32, out_channels=64, kernel_size=3)      \n",
        "    self.conv3 = nn.Conv2d(in_channels=64, out_channels=128, kernel_size=3)     \n",
        "    self.conv4 = nn.Conv2d(in_channels=128, out_channels=512, kernel_size=3)    \n",
        "    self.conv5 = nn.Conv2d(in_channels=512, out_channels=256, kernel_size=3)    \n",
        "    self.conv6 = nn.Conv2d(in_channels=256, out_channels=512, kernel_size=3)    \n",
        "    self.fc1 = nn.Linear(in_features=512 * 3 * 3, out_features=60)\n",
        "    self.out = nn.Linear(in_features=60, out_features=10)\n",
        "    self.fc2 = nn.Linear(in_features=20, out_features=100)\n",
        "    self.out2 = nn.Linear(in_features=100, out_features=19)\n",
        "    \n",
        "  def forward(self, t1, t2):          #input has 2 dataset\n",
        "    # input layer\n",
        "    x1 = t1\n",
        "    # conv1 layer\n",
        "    x1 = self.conv1(x1) # 28 -> 26 RF 3 In_Ch: 1  Out_Ch: 32\n",
        "    x1 = F.relu(x1)\n",
        "    x1 = self.conv2(x1) # 26 -> 24 RF 5 In_Ch: 32 Out_Ch: 64\n",
        "    x1 = F.relu(x1)\n",
        "    x1 = self.conv3(x1) # 24 > 22 RF 7  In_Ch: 64 Out_Ch: 128\n",
        "    x1 = F.relu(x1)\n",
        "    x1 = self.conv4(x1) # 22 > 20 RF 9  In_Ch: 128 Out_Ch: 512\n",
        "    x1 = F.relu(x1)\n",
        "    x1 = F.max_pool2d(x1, kernel_size=2, stride=2) # 20 > 10 RF 18 (assumption)\n",
        "    x1 = self.conv5(x1) # 10 > 8 RF 20  In_Ch: 512 Out_Ch: 256\n",
        "    x1 = F.relu(x1)\n",
        "    x1 = self.conv6(x1) # 8 > 6 RF 22   In_Ch: 256 Out_Ch: 512\n",
        "    x1 = F.relu(x1)\n",
        "    x1 = F.max_pool2d(x1, kernel_size=2, stride=2) # 6 > 3 RF 44 (assumption)\n",
        "    # reshapre\n",
        "    x1 = x1.reshape(-1, 512 * 3 * 3)  #512 Channel & 3x3 output\n",
        "    # fc1 layer\n",
        "    x1 = self.fc1(x1)                 #FC Layer Output: 60\n",
        "    x1 = F.relu(x1)\n",
        "    # output layer for MNIST\n",
        "    x1 = self.out(x1)                 #FC Layer Output: 10 (same as MNIST Classes)\n",
        "    #predict class to be used as Input for SUM; one hot encoding for predicted number\n",
        "    pred_cl_one = F.one_hot(torch.argmax(x1,dim=1), num_classes=10) \n",
        "    #concatenate first output & second input (we are using same batch number for both to be able to concatenate)\n",
        "    x2 = torch.cat((pred_cl_one,t2), dim=1) #concatenate second input t2 & predicted class of t1\n",
        "    x2 = x2.to(torch.float32)               #change dtype to allow data to pass to FC2\n",
        "    x2 = self.fc2(x2)                       #Passing to FC layer Output: 100\n",
        "    x2 = F.relu(x2)\n",
        "    # output layer for SUM\n",
        "    x2 = self.out2(x2)                      #Out layer for second input 100 & output: 19 (sum 0 to 18)\n",
        "    return x1, x2                           #return both output"
      ],
      "metadata": {
        "id": "WhPDIMGXlmcp"
      },
      "execution_count": 15,
      "outputs": []
    },
    {
      "cell_type": "code",
      "source": [
        "#run as test complete network\n",
        "network = Network()\n",
        "network.to(device)\n",
        "\n",
        "#batch size as 128\n",
        "train_loader_rand = torch.utils.data.DataLoader(\n",
        "    randNo_train, \n",
        "    batch_size=128,\n",
        "    shuffle=True\n",
        ")\n",
        "\n",
        "#batch size as 128\n",
        "test_loader_rand = torch.utils.data.DataLoader(\n",
        "    randNo_test, \n",
        "    batch_size = 128, \n",
        "    shuffle=True\n",
        ")\n",
        "\n",
        "#optimizer as Adam\n",
        "optimizer = optim.Adam(network.parameters(), lr=0.001)\n",
        "\n",
        "total_loss_mnist = 0\n",
        "total_correct_mnist = 0\n",
        "total_loss_sum = 0\n",
        "total_correct_sum = 0\n",
        "\n",
        "for batch in train_loader_rand: # Get Batch of image\n",
        "    images = batch['image'].to(device)                    #push data to GPU\n",
        "    labels_mnist = batch['label_image'].to(device) \n",
        "    randNum = batch['number'].to(device)\n",
        "    labels_ranNo = batch['label_num'].reshape(1,-1)\n",
        "    labels_ranNo= labels_ranNo.to(device)\n",
        "    preds_mnist, preds_sum = network(images,randNum.squeeze(1))      # Pass data to Network\n",
        "    labels_mnist = labels_mnist.to(device)\n",
        "    labels_ranNo = labels_ranNo.to(device)\n",
        "    labels_sum = labels_mnist + labels_ranNo              #creating labels for Sum\n",
        "    labels_sum = labels_sum.to(device)\n",
        "    loss_mnist = F.cross_entropy(preds_mnist, labels_mnist) # Calculate Loss for MNIST\n",
        "    loss_ranNo = F.cross_entropy(preds_sum, labels_sum.reshape(-1)) # Calculate Loss for Sum \n",
        "\n",
        "    loss = loss_mnist + loss_ranNo    #Total loss\n",
        "    optimizer.zero_grad()             \n",
        "    loss.backward()\n",
        "    optimizer.step() # Update Weights\n",
        "\n",
        "    #calculating loss and correct prediction\n",
        "    total_loss_mnist += loss_mnist.item()\n",
        "    total_correct_mnist += get_num_correct(preds_mnist, labels_mnist)\n",
        "    total_loss_sum += loss_ranNo.item()\n",
        "    total_correct_sum += get_num_correct(preds_sum, labels_sum)\n",
        "\n",
        "print(\n",
        "    \"epoch:\", 0, \n",
        "    \"Val tot_corr MNIST:\", total_correct_mnist / len(randNo_train) *100, \n",
        "    \"Val loss MNIST:\", total_loss_mnist,\n",
        "    \"Val tot_corr Sum:\", total_correct_sum / len(randNo_train) *100, \n",
        "    \"Val loss Sum:\", total_loss_sum    \n",
        ")\n",
        "\n",
        "total_loss_mnist_test = 0\n",
        "total_correct_mnist_test = 0\n",
        "total_loss_sum_test = 0\n",
        "total_correct_sum_test = 0\n",
        "\n",
        "with torch.no_grad():\n",
        "  for batch in test_loader_rand: # Get Batch of image\n",
        "      images = batch['image'].to(device)                    #push data to GPU\n",
        "      labels_mnist = batch['label_image'].to(device) \n",
        "      randNum = batch['number'].to(device)\n",
        "      labels_ranNo = batch['label_num'].reshape(1,-1)\n",
        "      labels_ranNo= labels_ranNo.to(device)\n",
        "      preds_mnist, preds_sum = network(images,randNum.squeeze(1))      # Pass data to Network\n",
        "      labels_mnist = labels_mnist.to(device)\n",
        "      labels_ranNo = labels_ranNo.to(device)\n",
        "      labels_sum = labels_mnist + labels_ranNo              #creating labels for Sum\n",
        "      labels_sum = labels_sum.to(device)\n",
        "      loss_mnist = F.cross_entropy(preds_mnist, labels_mnist) # Calculate Loss for MNIST\n",
        "      loss_ranNo = F.cross_entropy(preds_sum, labels_sum.reshape(-1)) # Calculate Loss for Sum \n",
        "    \n",
        "      #calculating loss and correct prediction\n",
        "      total_loss_mnist_test += loss_mnist.item()\n",
        "      total_correct_mnist_test += get_num_correct(preds_mnist, labels_mnist)\n",
        "      total_loss_sum_test += loss_ranNo.item()\n",
        "      total_correct_sum_test += get_num_correct(preds_sum, labels_sum)\n",
        "\n",
        "print(\n",
        "    \"epoch:\", 0, \n",
        "    \"Test tot_corr MNIST:\", total_correct_mnist_test / len(randNo_test) * 100, \n",
        "    \"Test loss MNIST:\", total_loss_mnist_test,\n",
        "    \"Test tot_corr Sum:\", total_correct_sum_test / len(randNo_test) * 100, \n",
        "    \"Test loss Sum:\", total_loss_sum_test    \n",
        ")"
      ],
      "metadata": {
        "colab": {
          "base_uri": "https://localhost:8080/"
        },
        "id": "EvX-Q0Jwmhy-",
        "outputId": "43d82305-f315-4e50-fffd-a779729faa39"
      },
      "execution_count": 20,
      "outputs": [
        {
          "output_type": "stream",
          "name": "stdout",
          "text": [
            "epoch: 0 Val tot_corr MNIST: 94.64666666666666 Val loss MNIST: 78.09997138101608 Val tot_corr Sum: 65.19500000000001 Val loss Sum: 819.1793354153633\n",
            "epoch: 0 Test tot_corr MNIST: 98.11999999999999 Test loss MNIST: 4.424887300468981 Test tot_corr Sum: 98.11999999999999 Test loss Sum: 44.70987859368324\n"
          ]
        }
      ]
    },
    {
      "cell_type": "code",
      "source": [
        "#running multiple epochs\n",
        "network = Network()\n",
        "network.to(device)\n",
        "\n",
        "#batch size as 128\n",
        "train_loader_rand = torch.utils.data.DataLoader(\n",
        "    randNo_train, \n",
        "    batch_size=128,\n",
        "    shuffle=True\n",
        ")\n",
        "\n",
        "#batch size as 128\n",
        "test_loader_rand = torch.utils.data.DataLoader(\n",
        "    randNo_test, \n",
        "    batch_size = 128, \n",
        "    shuffle=True\n",
        ")\n",
        "\n",
        "optimizer = optim.Adam(network.parameters(), lr=0.001)\n",
        "\n",
        "for epoch in range(10):\n",
        "    total_loss_mnist = 0\n",
        "    total_correct_mnist = 0\n",
        "    total_loss_sum = 0\n",
        "    total_correct_sum = 0\n",
        "\n",
        "    for batch in train_loader_rand: # Get Batch of image\n",
        "        images = batch['image'].to(device)                    #push data to GPU\n",
        "        labels_mnist = batch['label_image'].to(device) \n",
        "        randNum = batch['number'].to(device)\n",
        "        labels_ranNo = batch['label_num'].reshape(1,-1)\n",
        "        labels_ranNo= labels_ranNo.to(device)\n",
        "        preds_mnist, preds_sum = network(images,randNum.squeeze(1))      # Pass data to Network\n",
        "        labels_mnist = labels_mnist.to(device)\n",
        "        labels_ranNo = labels_ranNo.to(device)\n",
        "        labels_sum = labels_mnist + labels_ranNo              #creating labels for Sum\n",
        "        labels_sum = labels_sum.to(device)\n",
        "        loss_mnist = F.cross_entropy(preds_mnist, labels_mnist) # Calculate Loss for MNIST\n",
        "        loss_ranNo = F.cross_entropy(preds_sum, labels_sum.reshape(-1)) # Calculate Loss for Sum \n",
        "\n",
        "        loss = loss_mnist + loss_ranNo    #Total loss\n",
        "        optimizer.zero_grad()             \n",
        "        loss.backward()\n",
        "        optimizer.step() # Update Weights\n",
        "\n",
        "        #calculating loss and correct prediction\n",
        "        total_loss_mnist += loss_mnist.item()\n",
        "        total_correct_mnist += get_num_correct(preds_mnist, labels_mnist)\n",
        "        total_loss_sum += loss_ranNo.item()\n",
        "        total_correct_sum += get_num_correct(preds_sum, labels_sum)\n",
        "\n",
        "    print(\n",
        "        \"epoch:\", epoch, \n",
        "        \"Val tot_corr MNIST %:\", total_correct_mnist / len(randNo_train) *100, \n",
        "        \"Val loss MNIST:\", total_loss_mnist,\n",
        "        \"Val tot_corr Sum %:\", total_correct_sum / len(randNo_train) *100, \n",
        "        \"Val loss Sum:\", total_loss_sum    \n",
        "    )\n",
        "\n",
        "    total_loss_mnist_test = 0\n",
        "    total_correct_mnist_test = 0\n",
        "    total_loss_sum_test = 0\n",
        "    total_correct_sum_test = 0\n",
        "\n",
        "    with torch.no_grad():\n",
        "      for batch in test_loader_rand: # Get Batch of image\n",
        "          images = batch['image'].to(device)                    #push data to GPU\n",
        "          labels_mnist = batch['label_image'].to(device) \n",
        "          randNum = batch['number'].to(device)\n",
        "          labels_ranNo = batch['label_num'].reshape(1,-1)\n",
        "          labels_ranNo= labels_ranNo.to(device)\n",
        "          preds_mnist, preds_sum = network(images,randNum.squeeze(1))      # Pass data to Network\n",
        "          labels_mnist = labels_mnist.to(device)\n",
        "          labels_ranNo = labels_ranNo.to(device)\n",
        "          labels_sum = labels_mnist + labels_ranNo              #creating labels for Sum\n",
        "          labels_sum = labels_sum.to(device)\n",
        "          loss_mnist = F.cross_entropy(preds_mnist, labels_mnist) # Calculate Loss for MNIST\n",
        "          loss_ranNo = F.cross_entropy(preds_sum, labels_sum.reshape(-1)) # Calculate Loss for Sum \n",
        "        \n",
        "          #calculating loss and correct prediction\n",
        "          total_loss_mnist_test += loss_mnist.item()\n",
        "          total_correct_mnist_test += get_num_correct(preds_mnist, labels_mnist)\n",
        "          total_loss_sum_test += loss_ranNo.item()\n",
        "          total_correct_sum_test += get_num_correct(preds_sum, labels_sum)\n",
        "\n",
        "    print(\n",
        "        \"epoch:\", epoch, \n",
        "        \"Test tot_corr MNIST %:\", total_correct_mnist_test / len(randNo_test) * 100, \n",
        "        \"Test loss MNIST:\", total_loss_mnist_test,\n",
        "        \"Test tot_corr Sum %:\", total_correct_sum_test / len(randNo_test) * 100, \n",
        "        \"Test loss Sum:\", total_loss_sum_test       \n",
        "    )"
      ],
      "metadata": {
        "id": "XFp3xszXmh1t",
        "colab": {
          "base_uri": "https://localhost:8080/"
        },
        "outputId": "44c4d25d-72a3-4204-a916-5a62df3237a3"
      },
      "execution_count": 21,
      "outputs": [
        {
          "output_type": "stream",
          "name": "stdout",
          "text": [
            "epoch: 0 Val tot_corr MNIST %: 90.46 Val loss MNIST: 134.12639996036887 Val tot_corr Sum %: 61.31166666666667 Val loss Sum: 864.0166468024254\n",
            "epoch: 0 Test tot_corr MNIST %: 98.5 Test loss MNIST: 3.909005058463663 Test tot_corr Sum %: 97.57000000000001 Test loss Sum: 57.13423156738281\n",
            "epoch: 1 Val tot_corr MNIST %: 98.45666666666666 Val loss MNIST: 23.99045171844773 Val tot_corr Sum %: 98.41499999999999 Val loss Sum: 163.17213866114616\n",
            "epoch: 1 Test tot_corr MNIST %: 98.68 Test loss MNIST: 3.110454070614651 Test tot_corr Sum %: 98.68 Test loss Sum: 13.837083585560322\n",
            "epoch: 2 Val tot_corr MNIST %: 98.90333333333334 Val loss MNIST: 16.48315296927467 Val tot_corr Sum %: 98.90333333333334 Val loss Sum: 60.13074196502566\n",
            "epoch: 2 Test tot_corr MNIST %: 98.98 Test loss MNIST: 2.700454527977854 Test tot_corr Sum %: 98.98 Test loss Sum: 8.235143017023802\n",
            "epoch: 3 Val tot_corr MNIST %: 99.17333333333333 Val loss MNIST: 12.825836946605705 Val tot_corr Sum %: 99.17333333333333 Val loss Sum: 40.41195556148887\n",
            "epoch: 3 Test tot_corr MNIST %: 98.9 Test loss MNIST: 2.7637990485600312 Test tot_corr Sum %: 98.9 Test loss Sum: 7.518199531361461\n",
            "epoch: 4 Val tot_corr MNIST %: 99.28333333333333 Val loss MNIST: 10.55208509512886 Val tot_corr Sum %: 99.28333333333333 Val loss Sum: 32.84245175961405\n",
            "epoch: 4 Test tot_corr MNIST %: 99.14 Test loss MNIST: 2.433932141867558 Test tot_corr Sum %: 99.14 Test loss Sum: 6.025063365697861\n",
            "epoch: 5 Val tot_corr MNIST %: 99.41 Val loss MNIST: 9.119947548941127 Val tot_corr Sum %: 99.41 Val loss Sum: 26.94124977104366\n",
            "epoch: 5 Test tot_corr MNIST %: 99.15 Test loss MNIST: 2.1737105258216616 Test tot_corr Sum %: 99.15 Test loss Sum: 5.835557548329234\n",
            "epoch: 6 Val tot_corr MNIST %: 99.5 Val loss MNIST: 7.501259394703084 Val tot_corr Sum %: 99.5 Val loss Sum: 22.28086543083191\n",
            "epoch: 6 Test tot_corr MNIST %: 99.33999999999999 Test loss MNIST: 1.8976832626503892 Test tot_corr Sum %: 99.33999999999999 Test loss Sum: 4.547308770008385\n",
            "epoch: 7 Val tot_corr MNIST %: 99.59 Val loss MNIST: 6.311270416794287 Val tot_corr Sum %: 99.59 Val loss Sum: 18.539156020618975\n",
            "epoch: 7 Test tot_corr MNIST %: 99.19 Test loss MNIST: 2.0038180929841474 Test tot_corr Sum %: 99.19 Test loss Sum: 5.343152585439384\n",
            "epoch: 8 Val tot_corr MNIST %: 99.625 Val loss MNIST: 5.912851685046917 Val tot_corr Sum %: 99.625 Val loss Sum: 16.739709050860256\n",
            "epoch: 8 Test tot_corr MNIST %: 98.98 Test loss MNIST: 2.504586919094436 Test tot_corr Sum %: 98.98 Test loss Sum: 6.740268344525248\n",
            "epoch: 9 Val tot_corr MNIST %: 99.61333333333333 Val loss MNIST: 5.55114504033736 Val tot_corr Sum %: 99.61333333333333 Val loss Sum: 17.30201375344768\n",
            "epoch: 9 Test tot_corr MNIST %: 99.21 Test loss MNIST: 2.2854684780177195 Test tot_corr Sum %: 99.21 Test loss Sum: 5.3581498437561095\n"
          ]
        }
      ]
    },
    {
      "cell_type": "code",
      "source": [],
      "metadata": {
        "id": "wFP8faEK1wXD"
      },
      "execution_count": null,
      "outputs": []
    }
  ]
}